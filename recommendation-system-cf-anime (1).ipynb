{
 "cells": [
  {
   "cell_type": "code",
   "execution_count": 1,
   "id": "956a05d3",
   "metadata": {
    "_kg_hide-input": false,
    "execution": {
     "iopub.execute_input": "2023-05-17T06:48:38.047439Z",
     "iopub.status.busy": "2023-05-17T06:48:38.046041Z",
     "iopub.status.idle": "2023-05-17T06:48:38.316268Z",
     "shell.execute_reply": "2023-05-17T06:48:38.315432Z"
    },
    "papermill": {
     "duration": 0.282686,
     "end_time": "2023-05-17T06:48:38.318463",
     "exception": false,
     "start_time": "2023-05-17T06:48:38.035777",
     "status": "completed"
    },
    "tags": []
   },
   "outputs": [
    {
     "name": "stderr",
     "output_type": "stream",
     "text": [
      "'ls' is not recognized as an internal or external command,\n",
      "operable program or batch file.\n"
     ]
    }
   ],
   "source": [
    "INPUT_DIR = '/kaggle/input/anime-recommendation-database-2020'\n",
    "!ls {INPUT_DIR}"
   ]
  },
  {
   "cell_type": "code",
   "execution_count": 2,
   "id": "b5566043",
   "metadata": {
    "execution": {
     "iopub.execute_input": "2023-05-17T06:48:38.339330Z",
     "iopub.status.busy": "2023-05-17T06:48:38.338569Z",
     "iopub.status.idle": "2023-05-17T06:49:29.928353Z",
     "shell.execute_reply": "2023-05-17T06:49:29.926427Z"
    },
    "papermill": {
     "duration": 51.615822,
     "end_time": "2023-05-17T06:49:29.943399",
     "exception": false,
     "start_time": "2023-05-17T06:48:38.327577",
     "status": "completed"
    },
    "tags": []
   },
   "outputs": [
    {
     "ename": "FileNotFoundError",
     "evalue": "[Errno 2] No such file or directory: '/kaggle/input/anime-recommendation-database-2020/animelist.csv'",
     "output_type": "error",
     "traceback": [
      "\u001b[1;31m---------------------------------------------------------------------------\u001b[0m",
      "\u001b[1;31mFileNotFoundError\u001b[0m                         Traceback (most recent call last)",
      "Cell \u001b[1;32mIn[2], line 4\u001b[0m\n\u001b[0;32m      1\u001b[0m \u001b[38;5;28;01mimport\u001b[39;00m \u001b[38;5;21;01mnumpy\u001b[39;00m \u001b[38;5;28;01mas\u001b[39;00m \u001b[38;5;21;01mnp\u001b[39;00m\n\u001b[0;32m      2\u001b[0m \u001b[38;5;28;01mimport\u001b[39;00m \u001b[38;5;21;01mpandas\u001b[39;00m \u001b[38;5;28;01mas\u001b[39;00m \u001b[38;5;21;01mpd\u001b[39;00m\n\u001b[1;32m----> 4\u001b[0m rating_df \u001b[38;5;241m=\u001b[39m pd\u001b[38;5;241m.\u001b[39mread_csv(INPUT_DIR \u001b[38;5;241m+\u001b[39m \u001b[38;5;124m'\u001b[39m\u001b[38;5;124m/animelist.csv\u001b[39m\u001b[38;5;124m'\u001b[39m, \n\u001b[0;32m      5\u001b[0m                         low_memory\u001b[38;5;241m=\u001b[39m\u001b[38;5;28;01mFalse\u001b[39;00m, \n\u001b[0;32m      6\u001b[0m                         usecols\u001b[38;5;241m=\u001b[39m[\u001b[38;5;124m\"\u001b[39m\u001b[38;5;124muser_id\u001b[39m\u001b[38;5;124m\"\u001b[39m, \u001b[38;5;124m\"\u001b[39m\u001b[38;5;124manime_id\u001b[39m\u001b[38;5;124m\"\u001b[39m, \u001b[38;5;124m\"\u001b[39m\u001b[38;5;124mrating\u001b[39m\u001b[38;5;124m\"\u001b[39m]\n\u001b[0;32m      7\u001b[0m                         \u001b[38;5;66;03m#, nrows=90000000\u001b[39;00m\n\u001b[0;32m      8\u001b[0m                         )\n\u001b[0;32m      9\u001b[0m rating_df\u001b[38;5;241m.\u001b[39mhead(\u001b[38;5;241m4\u001b[39m)\n",
      "File \u001b[1;32m~\\anaconda3\\Lib\\site-packages\\pandas\\util\\_decorators.py:211\u001b[0m, in \u001b[0;36mdeprecate_kwarg.<locals>._deprecate_kwarg.<locals>.wrapper\u001b[1;34m(*args, **kwargs)\u001b[0m\n\u001b[0;32m    209\u001b[0m     \u001b[38;5;28;01melse\u001b[39;00m:\n\u001b[0;32m    210\u001b[0m         kwargs[new_arg_name] \u001b[38;5;241m=\u001b[39m new_arg_value\n\u001b[1;32m--> 211\u001b[0m \u001b[38;5;28;01mreturn\u001b[39;00m func(\u001b[38;5;241m*\u001b[39margs, \u001b[38;5;241m*\u001b[39m\u001b[38;5;241m*\u001b[39mkwargs)\n",
      "File \u001b[1;32m~\\anaconda3\\Lib\\site-packages\\pandas\\util\\_decorators.py:331\u001b[0m, in \u001b[0;36mdeprecate_nonkeyword_arguments.<locals>.decorate.<locals>.wrapper\u001b[1;34m(*args, **kwargs)\u001b[0m\n\u001b[0;32m    325\u001b[0m \u001b[38;5;28;01mif\u001b[39;00m \u001b[38;5;28mlen\u001b[39m(args) \u001b[38;5;241m>\u001b[39m num_allow_args:\n\u001b[0;32m    326\u001b[0m     warnings\u001b[38;5;241m.\u001b[39mwarn(\n\u001b[0;32m    327\u001b[0m         msg\u001b[38;5;241m.\u001b[39mformat(arguments\u001b[38;5;241m=\u001b[39m_format_argument_list(allow_args)),\n\u001b[0;32m    328\u001b[0m         \u001b[38;5;167;01mFutureWarning\u001b[39;00m,\n\u001b[0;32m    329\u001b[0m         stacklevel\u001b[38;5;241m=\u001b[39mfind_stack_level(),\n\u001b[0;32m    330\u001b[0m     )\n\u001b[1;32m--> 331\u001b[0m \u001b[38;5;28;01mreturn\u001b[39;00m func(\u001b[38;5;241m*\u001b[39margs, \u001b[38;5;241m*\u001b[39m\u001b[38;5;241m*\u001b[39mkwargs)\n",
      "File \u001b[1;32m~\\anaconda3\\Lib\\site-packages\\pandas\\io\\parsers\\readers.py:950\u001b[0m, in \u001b[0;36mread_csv\u001b[1;34m(filepath_or_buffer, sep, delimiter, header, names, index_col, usecols, squeeze, prefix, mangle_dupe_cols, dtype, engine, converters, true_values, false_values, skipinitialspace, skiprows, skipfooter, nrows, na_values, keep_default_na, na_filter, verbose, skip_blank_lines, parse_dates, infer_datetime_format, keep_date_col, date_parser, dayfirst, cache_dates, iterator, chunksize, compression, thousands, decimal, lineterminator, quotechar, quoting, doublequote, escapechar, comment, encoding, encoding_errors, dialect, error_bad_lines, warn_bad_lines, on_bad_lines, delim_whitespace, low_memory, memory_map, float_precision, storage_options)\u001b[0m\n\u001b[0;32m    935\u001b[0m kwds_defaults \u001b[38;5;241m=\u001b[39m _refine_defaults_read(\n\u001b[0;32m    936\u001b[0m     dialect,\n\u001b[0;32m    937\u001b[0m     delimiter,\n\u001b[1;32m   (...)\u001b[0m\n\u001b[0;32m    946\u001b[0m     defaults\u001b[38;5;241m=\u001b[39m{\u001b[38;5;124m\"\u001b[39m\u001b[38;5;124mdelimiter\u001b[39m\u001b[38;5;124m\"\u001b[39m: \u001b[38;5;124m\"\u001b[39m\u001b[38;5;124m,\u001b[39m\u001b[38;5;124m\"\u001b[39m},\n\u001b[0;32m    947\u001b[0m )\n\u001b[0;32m    948\u001b[0m kwds\u001b[38;5;241m.\u001b[39mupdate(kwds_defaults)\n\u001b[1;32m--> 950\u001b[0m \u001b[38;5;28;01mreturn\u001b[39;00m _read(filepath_or_buffer, kwds)\n",
      "File \u001b[1;32m~\\anaconda3\\Lib\\site-packages\\pandas\\io\\parsers\\readers.py:605\u001b[0m, in \u001b[0;36m_read\u001b[1;34m(filepath_or_buffer, kwds)\u001b[0m\n\u001b[0;32m    602\u001b[0m _validate_names(kwds\u001b[38;5;241m.\u001b[39mget(\u001b[38;5;124m\"\u001b[39m\u001b[38;5;124mnames\u001b[39m\u001b[38;5;124m\"\u001b[39m, \u001b[38;5;28;01mNone\u001b[39;00m))\n\u001b[0;32m    604\u001b[0m \u001b[38;5;66;03m# Create the parser.\u001b[39;00m\n\u001b[1;32m--> 605\u001b[0m parser \u001b[38;5;241m=\u001b[39m TextFileReader(filepath_or_buffer, \u001b[38;5;241m*\u001b[39m\u001b[38;5;241m*\u001b[39mkwds)\n\u001b[0;32m    607\u001b[0m \u001b[38;5;28;01mif\u001b[39;00m chunksize \u001b[38;5;129;01mor\u001b[39;00m iterator:\n\u001b[0;32m    608\u001b[0m     \u001b[38;5;28;01mreturn\u001b[39;00m parser\n",
      "File \u001b[1;32m~\\anaconda3\\Lib\\site-packages\\pandas\\io\\parsers\\readers.py:1442\u001b[0m, in \u001b[0;36mTextFileReader.__init__\u001b[1;34m(self, f, engine, **kwds)\u001b[0m\n\u001b[0;32m   1439\u001b[0m     \u001b[38;5;28mself\u001b[39m\u001b[38;5;241m.\u001b[39moptions[\u001b[38;5;124m\"\u001b[39m\u001b[38;5;124mhas_index_names\u001b[39m\u001b[38;5;124m\"\u001b[39m] \u001b[38;5;241m=\u001b[39m kwds[\u001b[38;5;124m\"\u001b[39m\u001b[38;5;124mhas_index_names\u001b[39m\u001b[38;5;124m\"\u001b[39m]\n\u001b[0;32m   1441\u001b[0m \u001b[38;5;28mself\u001b[39m\u001b[38;5;241m.\u001b[39mhandles: IOHandles \u001b[38;5;241m|\u001b[39m \u001b[38;5;28;01mNone\u001b[39;00m \u001b[38;5;241m=\u001b[39m \u001b[38;5;28;01mNone\u001b[39;00m\n\u001b[1;32m-> 1442\u001b[0m \u001b[38;5;28mself\u001b[39m\u001b[38;5;241m.\u001b[39m_engine \u001b[38;5;241m=\u001b[39m \u001b[38;5;28mself\u001b[39m\u001b[38;5;241m.\u001b[39m_make_engine(f, \u001b[38;5;28mself\u001b[39m\u001b[38;5;241m.\u001b[39mengine)\n",
      "File \u001b[1;32m~\\anaconda3\\Lib\\site-packages\\pandas\\io\\parsers\\readers.py:1735\u001b[0m, in \u001b[0;36mTextFileReader._make_engine\u001b[1;34m(self, f, engine)\u001b[0m\n\u001b[0;32m   1733\u001b[0m     \u001b[38;5;28;01mif\u001b[39;00m \u001b[38;5;124m\"\u001b[39m\u001b[38;5;124mb\u001b[39m\u001b[38;5;124m\"\u001b[39m \u001b[38;5;129;01mnot\u001b[39;00m \u001b[38;5;129;01min\u001b[39;00m mode:\n\u001b[0;32m   1734\u001b[0m         mode \u001b[38;5;241m+\u001b[39m\u001b[38;5;241m=\u001b[39m \u001b[38;5;124m\"\u001b[39m\u001b[38;5;124mb\u001b[39m\u001b[38;5;124m\"\u001b[39m\n\u001b[1;32m-> 1735\u001b[0m \u001b[38;5;28mself\u001b[39m\u001b[38;5;241m.\u001b[39mhandles \u001b[38;5;241m=\u001b[39m get_handle(\n\u001b[0;32m   1736\u001b[0m     f,\n\u001b[0;32m   1737\u001b[0m     mode,\n\u001b[0;32m   1738\u001b[0m     encoding\u001b[38;5;241m=\u001b[39m\u001b[38;5;28mself\u001b[39m\u001b[38;5;241m.\u001b[39moptions\u001b[38;5;241m.\u001b[39mget(\u001b[38;5;124m\"\u001b[39m\u001b[38;5;124mencoding\u001b[39m\u001b[38;5;124m\"\u001b[39m, \u001b[38;5;28;01mNone\u001b[39;00m),\n\u001b[0;32m   1739\u001b[0m     compression\u001b[38;5;241m=\u001b[39m\u001b[38;5;28mself\u001b[39m\u001b[38;5;241m.\u001b[39moptions\u001b[38;5;241m.\u001b[39mget(\u001b[38;5;124m\"\u001b[39m\u001b[38;5;124mcompression\u001b[39m\u001b[38;5;124m\"\u001b[39m, \u001b[38;5;28;01mNone\u001b[39;00m),\n\u001b[0;32m   1740\u001b[0m     memory_map\u001b[38;5;241m=\u001b[39m\u001b[38;5;28mself\u001b[39m\u001b[38;5;241m.\u001b[39moptions\u001b[38;5;241m.\u001b[39mget(\u001b[38;5;124m\"\u001b[39m\u001b[38;5;124mmemory_map\u001b[39m\u001b[38;5;124m\"\u001b[39m, \u001b[38;5;28;01mFalse\u001b[39;00m),\n\u001b[0;32m   1741\u001b[0m     is_text\u001b[38;5;241m=\u001b[39mis_text,\n\u001b[0;32m   1742\u001b[0m     errors\u001b[38;5;241m=\u001b[39m\u001b[38;5;28mself\u001b[39m\u001b[38;5;241m.\u001b[39moptions\u001b[38;5;241m.\u001b[39mget(\u001b[38;5;124m\"\u001b[39m\u001b[38;5;124mencoding_errors\u001b[39m\u001b[38;5;124m\"\u001b[39m, \u001b[38;5;124m\"\u001b[39m\u001b[38;5;124mstrict\u001b[39m\u001b[38;5;124m\"\u001b[39m),\n\u001b[0;32m   1743\u001b[0m     storage_options\u001b[38;5;241m=\u001b[39m\u001b[38;5;28mself\u001b[39m\u001b[38;5;241m.\u001b[39moptions\u001b[38;5;241m.\u001b[39mget(\u001b[38;5;124m\"\u001b[39m\u001b[38;5;124mstorage_options\u001b[39m\u001b[38;5;124m\"\u001b[39m, \u001b[38;5;28;01mNone\u001b[39;00m),\n\u001b[0;32m   1744\u001b[0m )\n\u001b[0;32m   1745\u001b[0m \u001b[38;5;28;01massert\u001b[39;00m \u001b[38;5;28mself\u001b[39m\u001b[38;5;241m.\u001b[39mhandles \u001b[38;5;129;01mis\u001b[39;00m \u001b[38;5;129;01mnot\u001b[39;00m \u001b[38;5;28;01mNone\u001b[39;00m\n\u001b[0;32m   1746\u001b[0m f \u001b[38;5;241m=\u001b[39m \u001b[38;5;28mself\u001b[39m\u001b[38;5;241m.\u001b[39mhandles\u001b[38;5;241m.\u001b[39mhandle\n",
      "File \u001b[1;32m~\\anaconda3\\Lib\\site-packages\\pandas\\io\\common.py:856\u001b[0m, in \u001b[0;36mget_handle\u001b[1;34m(path_or_buf, mode, encoding, compression, memory_map, is_text, errors, storage_options)\u001b[0m\n\u001b[0;32m    851\u001b[0m \u001b[38;5;28;01melif\u001b[39;00m \u001b[38;5;28misinstance\u001b[39m(handle, \u001b[38;5;28mstr\u001b[39m):\n\u001b[0;32m    852\u001b[0m     \u001b[38;5;66;03m# Check whether the filename is to be opened in binary mode.\u001b[39;00m\n\u001b[0;32m    853\u001b[0m     \u001b[38;5;66;03m# Binary mode does not support 'encoding' and 'newline'.\u001b[39;00m\n\u001b[0;32m    854\u001b[0m     \u001b[38;5;28;01mif\u001b[39;00m ioargs\u001b[38;5;241m.\u001b[39mencoding \u001b[38;5;129;01mand\u001b[39;00m \u001b[38;5;124m\"\u001b[39m\u001b[38;5;124mb\u001b[39m\u001b[38;5;124m\"\u001b[39m \u001b[38;5;129;01mnot\u001b[39;00m \u001b[38;5;129;01min\u001b[39;00m ioargs\u001b[38;5;241m.\u001b[39mmode:\n\u001b[0;32m    855\u001b[0m         \u001b[38;5;66;03m# Encoding\u001b[39;00m\n\u001b[1;32m--> 856\u001b[0m         handle \u001b[38;5;241m=\u001b[39m \u001b[38;5;28mopen\u001b[39m(\n\u001b[0;32m    857\u001b[0m             handle,\n\u001b[0;32m    858\u001b[0m             ioargs\u001b[38;5;241m.\u001b[39mmode,\n\u001b[0;32m    859\u001b[0m             encoding\u001b[38;5;241m=\u001b[39mioargs\u001b[38;5;241m.\u001b[39mencoding,\n\u001b[0;32m    860\u001b[0m             errors\u001b[38;5;241m=\u001b[39merrors,\n\u001b[0;32m    861\u001b[0m             newline\u001b[38;5;241m=\u001b[39m\u001b[38;5;124m\"\u001b[39m\u001b[38;5;124m\"\u001b[39m,\n\u001b[0;32m    862\u001b[0m         )\n\u001b[0;32m    863\u001b[0m     \u001b[38;5;28;01melse\u001b[39;00m:\n\u001b[0;32m    864\u001b[0m         \u001b[38;5;66;03m# Binary mode\u001b[39;00m\n\u001b[0;32m    865\u001b[0m         handle \u001b[38;5;241m=\u001b[39m \u001b[38;5;28mopen\u001b[39m(handle, ioargs\u001b[38;5;241m.\u001b[39mmode)\n",
      "\u001b[1;31mFileNotFoundError\u001b[0m: [Errno 2] No such file or directory: '/kaggle/input/anime-recommendation-database-2020/animelist.csv'"
     ]
    }
   ],
   "source": [
    "import numpy as np\n",
    "import pandas as pd\n",
    "\n",
    "rating_df = pd.read_csv(INPUT_DIR + '/animelist.csv', \n",
    "                        low_memory=False, \n",
    "                        usecols=[\"user_id\", \"anime_id\", \"rating\"]\n",
    "                        #, nrows=90000000\n",
    "                        )\n",
    "rating_df.head(4)"
   ]
  },
  {
   "cell_type": "code",
   "execution_count": 3,
   "id": "ebf40cb0",
   "metadata": {
    "execution": {
     "iopub.execute_input": "2023-05-17T06:49:29.965087Z",
     "iopub.status.busy": "2023-05-17T06:49:29.963939Z",
     "iopub.status.idle": "2023-05-17T06:49:33.572513Z",
     "shell.execute_reply": "2023-05-17T06:49:33.571594Z"
    },
    "papermill": {
     "duration": 3.621847,
     "end_time": "2023-05-17T06:49:33.574458",
     "exception": false,
     "start_time": "2023-05-17T06:49:29.952611",
     "status": "completed"
    },
    "tags": []
   },
   "outputs": [
    {
     "data": {
      "text/plain": [
       "71418114"
      ]
     },
     "execution_count": 3,
     "metadata": {},
     "output_type": "execute_result"
    }
   ],
   "source": [
    "# User should rate atleast 400 animies\n",
    "n_ratings = rating_df['user_id'].value_counts()\n",
    "rating_df = rating_df[rating_df['user_id'].isin(n_ratings[n_ratings >= 400].index)].copy()\n",
    "len(rating_df)"
   ]
  },
  {
   "cell_type": "code",
   "execution_count": 4,
   "id": "73273500",
   "metadata": {
    "execution": {
     "iopub.execute_input": "2023-05-17T06:49:33.596159Z",
     "iopub.status.busy": "2023-05-17T06:49:33.594738Z",
     "iopub.status.idle": "2023-05-17T06:50:08.113763Z",
     "shell.execute_reply": "2023-05-17T06:50:08.112030Z"
    },
    "papermill": {
     "duration": 34.542908,
     "end_time": "2023-05-17T06:50:08.126850",
     "exception": false,
     "start_time": "2023-05-17T06:49:33.583942",
     "status": "completed"
    },
    "tags": []
   },
   "outputs": [
    {
     "name": "stdout",
     "output_type": "stream",
     "text": [
      "Avg 0.4047793589172634\n"
     ]
    }
   ],
   "source": [
    "# Scaling BTW (0 , 1.0)\n",
    "min_rating = min(rating_df['rating'])\n",
    "max_rating = max(rating_df['rating'])\n",
    "rating_df['rating'] = rating_df[\"rating\"].apply(lambda x: (x - min_rating) / (max_rating - min_rating)).values.astype(np.float64)\n",
    "\n",
    "AvgRating = np.mean(rating_df['rating'])\n",
    "print('Avg', AvgRating)"
   ]
  },
  {
   "cell_type": "code",
   "execution_count": 5,
   "id": "ab8b60fb",
   "metadata": {
    "execution": {
     "iopub.execute_input": "2023-05-17T06:50:08.152580Z",
     "iopub.status.busy": "2023-05-17T06:50:08.151685Z",
     "iopub.status.idle": "2023-05-17T06:50:52.525652Z",
     "shell.execute_reply": "2023-05-17T06:50:52.524219Z"
    },
    "papermill": {
     "duration": 44.398149,
     "end_time": "2023-05-17T06:50:52.536493",
     "exception": false,
     "start_time": "2023-05-17T06:50:08.138344",
     "status": "completed"
    },
    "tags": []
   },
   "outputs": [
    {
     "name": "stdout",
     "output_type": "stream",
     "text": [
      "> 1 duplicates\n",
      "> 0 duplicates\n"
     ]
    }
   ],
   "source": [
    "# Removing Duplicated Rows\n",
    "duplicates = rating_df.duplicated()\n",
    "\n",
    "if duplicates.sum() > 0:\n",
    "    print('> {} duplicates'.format(duplicates.sum()))\n",
    "    rating_df = rating_df[~duplicates]\n",
    "\n",
    "print('> {} duplicates'.format(rating_df.duplicated().sum()))"
   ]
  },
  {
   "cell_type": "markdown",
   "id": "8af3f72c",
   "metadata": {
    "papermill": {
     "duration": 0.00976,
     "end_time": "2023-05-17T06:50:52.556127",
     "exception": false,
     "start_time": "2023-05-17T06:50:52.546367",
     "status": "completed"
    },
    "tags": []
   },
   "source": [
    "![](https://content.codecademy.com/programs/code-foundations-path/ds-survey/utilitymatrix.gif)"
   ]
  },
  {
   "cell_type": "code",
   "execution_count": 6,
   "id": "abbf7304",
   "metadata": {
    "_kg_hide-input": false,
    "execution": {
     "iopub.execute_input": "2023-05-17T06:50:52.578571Z",
     "iopub.status.busy": "2023-05-17T06:50:52.578148Z",
     "iopub.status.idle": "2023-05-17T06:50:57.347654Z",
     "shell.execute_reply": "2023-05-17T06:50:57.346407Z"
    },
    "papermill": {
     "duration": 4.783358,
     "end_time": "2023-05-17T06:50:57.349563",
     "exception": false,
     "start_time": "2023-05-17T06:50:52.566205",
     "status": "completed"
    },
    "tags": []
   },
   "outputs": [
    {
     "data": {
      "text/html": [
       "<div>\n",
       "<style scoped>\n",
       "    .dataframe tbody tr th:only-of-type {\n",
       "        vertical-align: middle;\n",
       "    }\n",
       "\n",
       "    .dataframe tbody tr th {\n",
       "        vertical-align: top;\n",
       "    }\n",
       "\n",
       "    .dataframe thead th {\n",
       "        text-align: right;\n",
       "    }\n",
       "</style>\n",
       "<table border=\"1\" class=\"dataframe\">\n",
       "  <thead>\n",
       "    <tr style=\"text-align: right;\">\n",
       "      <th>anime_id</th>\n",
       "      <th>226</th>\n",
       "      <th>1535</th>\n",
       "      <th>1575</th>\n",
       "      <th>2001</th>\n",
       "      <th>2167</th>\n",
       "      <th>4224</th>\n",
       "      <th>5081</th>\n",
       "      <th>5114</th>\n",
       "      <th>6547</th>\n",
       "      <th>6746</th>\n",
       "      <th>9253</th>\n",
       "      <th>9989</th>\n",
       "      <th>10620</th>\n",
       "      <th>11757</th>\n",
       "      <th>15809</th>\n",
       "      <th>16498</th>\n",
       "      <th>19815</th>\n",
       "      <th>20507</th>\n",
       "      <th>22319</th>\n",
       "      <th>30276</th>\n",
       "    </tr>\n",
       "    <tr>\n",
       "      <th>user_id</th>\n",
       "      <th></th>\n",
       "      <th></th>\n",
       "      <th></th>\n",
       "      <th></th>\n",
       "      <th></th>\n",
       "      <th></th>\n",
       "      <th></th>\n",
       "      <th></th>\n",
       "      <th></th>\n",
       "      <th></th>\n",
       "      <th></th>\n",
       "      <th></th>\n",
       "      <th></th>\n",
       "      <th></th>\n",
       "      <th></th>\n",
       "      <th></th>\n",
       "      <th></th>\n",
       "      <th></th>\n",
       "      <th></th>\n",
       "      <th></th>\n",
       "    </tr>\n",
       "  </thead>\n",
       "  <tbody>\n",
       "    <tr>\n",
       "      <th>20807</th>\n",
       "      <td>1.0</td>\n",
       "      <td>1.0</td>\n",
       "      <td>1.0</td>\n",
       "      <td>1.0</td>\n",
       "      <td>0.8</td>\n",
       "      <td>1.0</td>\n",
       "      <td>0.9</td>\n",
       "      <td>1.0</td>\n",
       "      <td>1.0</td>\n",
       "      <td>1.0</td>\n",
       "      <td>1.0</td>\n",
       "      <td>0.9</td>\n",
       "      <td>1.0</td>\n",
       "      <td>1.0</td>\n",
       "      <td>0.8</td>\n",
       "      <td>1.0</td>\n",
       "      <td>1.0</td>\n",
       "      <td>1.0</td>\n",
       "      <td>1.0</td>\n",
       "      <td>1.0</td>\n",
       "    </tr>\n",
       "    <tr>\n",
       "      <th>50485</th>\n",
       "      <td>0.0</td>\n",
       "      <td>0.6</td>\n",
       "      <td>1.0</td>\n",
       "      <td>1.0</td>\n",
       "      <td>0.9</td>\n",
       "      <td>1.0</td>\n",
       "      <td>1.0</td>\n",
       "      <td>1.0</td>\n",
       "      <td>1.0</td>\n",
       "      <td>0.9</td>\n",
       "      <td>1.0</td>\n",
       "      <td>0.9</td>\n",
       "      <td>0.6</td>\n",
       "      <td>1.0</td>\n",
       "      <td>1.0</td>\n",
       "      <td>0.9</td>\n",
       "      <td>1.0</td>\n",
       "      <td>1.0</td>\n",
       "      <td>1.0</td>\n",
       "      <td>0.8</td>\n",
       "    </tr>\n",
       "    <tr>\n",
       "      <th>63900</th>\n",
       "      <td>0.7</td>\n",
       "      <td>0.0</td>\n",
       "      <td>0.0</td>\n",
       "      <td>0.0</td>\n",
       "      <td>0.0</td>\n",
       "      <td>0.0</td>\n",
       "      <td>0.0</td>\n",
       "      <td>0.9</td>\n",
       "      <td>0.0</td>\n",
       "      <td>0.0</td>\n",
       "      <td>0.0</td>\n",
       "      <td>0.8</td>\n",
       "      <td>0.0</td>\n",
       "      <td>0.0</td>\n",
       "      <td>0.0</td>\n",
       "      <td>0.8</td>\n",
       "      <td>0.0</td>\n",
       "      <td>0.8</td>\n",
       "      <td>0.8</td>\n",
       "      <td>0.8</td>\n",
       "    </tr>\n",
       "    <tr>\n",
       "      <th>68042</th>\n",
       "      <td>0.8</td>\n",
       "      <td>1.0</td>\n",
       "      <td>0.9</td>\n",
       "      <td>1.0</td>\n",
       "      <td>0.7</td>\n",
       "      <td>0.9</td>\n",
       "      <td>1.0</td>\n",
       "      <td>0.9</td>\n",
       "      <td>0.7</td>\n",
       "      <td>0.8</td>\n",
       "      <td>0.9</td>\n",
       "      <td>0.8</td>\n",
       "      <td>0.4</td>\n",
       "      <td>0.4</td>\n",
       "      <td>0.6</td>\n",
       "      <td>0.9</td>\n",
       "      <td>0.3</td>\n",
       "      <td>0.2</td>\n",
       "      <td>0.5</td>\n",
       "      <td>0.9</td>\n",
       "    </tr>\n",
       "    <tr>\n",
       "      <th>85472</th>\n",
       "      <td>0.7</td>\n",
       "      <td>0.0</td>\n",
       "      <td>0.0</td>\n",
       "      <td>1.0</td>\n",
       "      <td>0.9</td>\n",
       "      <td>0.9</td>\n",
       "      <td>0.0</td>\n",
       "      <td>0.0</td>\n",
       "      <td>1.0</td>\n",
       "      <td>0.0</td>\n",
       "      <td>0.8</td>\n",
       "      <td>0.0</td>\n",
       "      <td>0.8</td>\n",
       "      <td>0.9</td>\n",
       "      <td>0.8</td>\n",
       "      <td>0.8</td>\n",
       "      <td>0.7</td>\n",
       "      <td>0.7</td>\n",
       "      <td>0.7</td>\n",
       "      <td>0.9</td>\n",
       "    </tr>\n",
       "    <tr>\n",
       "      <th>92529</th>\n",
       "      <td>0.9</td>\n",
       "      <td>0.9</td>\n",
       "      <td>1.0</td>\n",
       "      <td>1.0</td>\n",
       "      <td>0.0</td>\n",
       "      <td>0.8</td>\n",
       "      <td>0.0</td>\n",
       "      <td>0.9</td>\n",
       "      <td>0.9</td>\n",
       "      <td>0.0</td>\n",
       "      <td>1.0</td>\n",
       "      <td>0.0</td>\n",
       "      <td>0.8</td>\n",
       "      <td>0.9</td>\n",
       "      <td>0.8</td>\n",
       "      <td>0.9</td>\n",
       "      <td>0.9</td>\n",
       "      <td>0.8</td>\n",
       "      <td>0.8</td>\n",
       "      <td>1.0</td>\n",
       "    </tr>\n",
       "    <tr>\n",
       "      <th>122341</th>\n",
       "      <td>0.2</td>\n",
       "      <td>0.3</td>\n",
       "      <td>0.2</td>\n",
       "      <td>0.7</td>\n",
       "      <td>0.4</td>\n",
       "      <td>0.3</td>\n",
       "      <td>0.3</td>\n",
       "      <td>0.8</td>\n",
       "      <td>0.5</td>\n",
       "      <td>0.6</td>\n",
       "      <td>0.7</td>\n",
       "      <td>0.3</td>\n",
       "      <td>0.2</td>\n",
       "      <td>0.1</td>\n",
       "      <td>0.3</td>\n",
       "      <td>0.1</td>\n",
       "      <td>0.4</td>\n",
       "      <td>0.4</td>\n",
       "      <td>0.2</td>\n",
       "      <td>0.6</td>\n",
       "    </tr>\n",
       "    <tr>\n",
       "      <th>131988</th>\n",
       "      <td>0.0</td>\n",
       "      <td>0.0</td>\n",
       "      <td>0.0</td>\n",
       "      <td>0.0</td>\n",
       "      <td>0.0</td>\n",
       "      <td>0.0</td>\n",
       "      <td>0.0</td>\n",
       "      <td>0.0</td>\n",
       "      <td>0.0</td>\n",
       "      <td>0.0</td>\n",
       "      <td>0.0</td>\n",
       "      <td>0.0</td>\n",
       "      <td>0.0</td>\n",
       "      <td>0.0</td>\n",
       "      <td>0.0</td>\n",
       "      <td>0.0</td>\n",
       "      <td>0.0</td>\n",
       "      <td>0.0</td>\n",
       "      <td>0.0</td>\n",
       "      <td>0.0</td>\n",
       "    </tr>\n",
       "    <tr>\n",
       "      <th>140590</th>\n",
       "      <td>0.3</td>\n",
       "      <td>0.6</td>\n",
       "      <td>0.5</td>\n",
       "      <td>0.8</td>\n",
       "      <td>0.6</td>\n",
       "      <td>0.8</td>\n",
       "      <td>0.8</td>\n",
       "      <td>0.9</td>\n",
       "      <td>0.5</td>\n",
       "      <td>0.8</td>\n",
       "      <td>0.9</td>\n",
       "      <td>0.7</td>\n",
       "      <td>0.3</td>\n",
       "      <td>0.4</td>\n",
       "      <td>0.6</td>\n",
       "      <td>0.5</td>\n",
       "      <td>0.7</td>\n",
       "      <td>0.7</td>\n",
       "      <td>0.5</td>\n",
       "      <td>0.7</td>\n",
       "    </tr>\n",
       "    <tr>\n",
       "      <th>147331</th>\n",
       "      <td>0.0</td>\n",
       "      <td>0.0</td>\n",
       "      <td>0.0</td>\n",
       "      <td>0.0</td>\n",
       "      <td>0.0</td>\n",
       "      <td>0.0</td>\n",
       "      <td>0.0</td>\n",
       "      <td>0.0</td>\n",
       "      <td>0.0</td>\n",
       "      <td>0.0</td>\n",
       "      <td>0.0</td>\n",
       "      <td>0.0</td>\n",
       "      <td>0.0</td>\n",
       "      <td>0.0</td>\n",
       "      <td>0.0</td>\n",
       "      <td>0.0</td>\n",
       "      <td>0.0</td>\n",
       "      <td>0.0</td>\n",
       "      <td>0.0</td>\n",
       "      <td>0.0</td>\n",
       "    </tr>\n",
       "    <tr>\n",
       "      <th>162615</th>\n",
       "      <td>1.0</td>\n",
       "      <td>1.0</td>\n",
       "      <td>1.0</td>\n",
       "      <td>1.0</td>\n",
       "      <td>1.0</td>\n",
       "      <td>1.0</td>\n",
       "      <td>1.0</td>\n",
       "      <td>1.0</td>\n",
       "      <td>1.0</td>\n",
       "      <td>1.0</td>\n",
       "      <td>1.0</td>\n",
       "      <td>1.0</td>\n",
       "      <td>1.0</td>\n",
       "      <td>1.0</td>\n",
       "      <td>1.0</td>\n",
       "      <td>1.0</td>\n",
       "      <td>1.0</td>\n",
       "      <td>1.0</td>\n",
       "      <td>1.0</td>\n",
       "      <td>1.0</td>\n",
       "    </tr>\n",
       "    <tr>\n",
       "      <th>173716</th>\n",
       "      <td>0.8</td>\n",
       "      <td>0.9</td>\n",
       "      <td>1.0</td>\n",
       "      <td>0.8</td>\n",
       "      <td>1.0</td>\n",
       "      <td>0.8</td>\n",
       "      <td>0.8</td>\n",
       "      <td>1.0</td>\n",
       "      <td>0.8</td>\n",
       "      <td>0.9</td>\n",
       "      <td>1.0</td>\n",
       "      <td>0.9</td>\n",
       "      <td>0.8</td>\n",
       "      <td>0.8</td>\n",
       "      <td>0.8</td>\n",
       "      <td>0.8</td>\n",
       "      <td>1.0</td>\n",
       "      <td>0.8</td>\n",
       "      <td>0.6</td>\n",
       "      <td>1.0</td>\n",
       "    </tr>\n",
       "    <tr>\n",
       "      <th>189037</th>\n",
       "      <td>0.8</td>\n",
       "      <td>0.9</td>\n",
       "      <td>0.7</td>\n",
       "      <td>0.7</td>\n",
       "      <td>0.9</td>\n",
       "      <td>0.9</td>\n",
       "      <td>0.7</td>\n",
       "      <td>0.8</td>\n",
       "      <td>1.0</td>\n",
       "      <td>0.7</td>\n",
       "      <td>1.0</td>\n",
       "      <td>0.8</td>\n",
       "      <td>0.8</td>\n",
       "      <td>0.7</td>\n",
       "      <td>0.9</td>\n",
       "      <td>0.6</td>\n",
       "      <td>0.7</td>\n",
       "      <td>0.7</td>\n",
       "      <td>0.7</td>\n",
       "      <td>0.8</td>\n",
       "    </tr>\n",
       "    <tr>\n",
       "      <th>222150</th>\n",
       "      <td>0.8</td>\n",
       "      <td>1.0</td>\n",
       "      <td>1.0</td>\n",
       "      <td>0.0</td>\n",
       "      <td>0.9</td>\n",
       "      <td>0.0</td>\n",
       "      <td>0.8</td>\n",
       "      <td>1.0</td>\n",
       "      <td>0.8</td>\n",
       "      <td>0.9</td>\n",
       "      <td>1.0</td>\n",
       "      <td>0.8</td>\n",
       "      <td>0.4</td>\n",
       "      <td>0.4</td>\n",
       "      <td>0.7</td>\n",
       "      <td>0.8</td>\n",
       "      <td>0.5</td>\n",
       "      <td>0.0</td>\n",
       "      <td>0.0</td>\n",
       "      <td>0.0</td>\n",
       "    </tr>\n",
       "    <tr>\n",
       "      <th>252520</th>\n",
       "      <td>0.9</td>\n",
       "      <td>1.0</td>\n",
       "      <td>1.0</td>\n",
       "      <td>0.8</td>\n",
       "      <td>0.6</td>\n",
       "      <td>0.0</td>\n",
       "      <td>0.9</td>\n",
       "      <td>0.9</td>\n",
       "      <td>0.8</td>\n",
       "      <td>0.7</td>\n",
       "      <td>0.9</td>\n",
       "      <td>0.0</td>\n",
       "      <td>0.9</td>\n",
       "      <td>1.0</td>\n",
       "      <td>0.0</td>\n",
       "      <td>1.0</td>\n",
       "      <td>0.9</td>\n",
       "      <td>0.8</td>\n",
       "      <td>0.9</td>\n",
       "      <td>1.0</td>\n",
       "    </tr>\n",
       "    <tr>\n",
       "      <th>269633</th>\n",
       "      <td>0.0</td>\n",
       "      <td>0.0</td>\n",
       "      <td>0.0</td>\n",
       "      <td>0.0</td>\n",
       "      <td>0.0</td>\n",
       "      <td>0.0</td>\n",
       "      <td>0.0</td>\n",
       "      <td>0.0</td>\n",
       "      <td>0.0</td>\n",
       "      <td>0.0</td>\n",
       "      <td>0.0</td>\n",
       "      <td>0.0</td>\n",
       "      <td>0.0</td>\n",
       "      <td>0.0</td>\n",
       "      <td>0.0</td>\n",
       "      <td>0.0</td>\n",
       "      <td>0.0</td>\n",
       "      <td>0.0</td>\n",
       "      <td>0.0</td>\n",
       "      <td>0.0</td>\n",
       "    </tr>\n",
       "    <tr>\n",
       "      <th>281232</th>\n",
       "      <td>0.0</td>\n",
       "      <td>0.0</td>\n",
       "      <td>0.0</td>\n",
       "      <td>0.0</td>\n",
       "      <td>0.0</td>\n",
       "      <td>0.0</td>\n",
       "      <td>0.0</td>\n",
       "      <td>0.0</td>\n",
       "      <td>0.0</td>\n",
       "      <td>0.0</td>\n",
       "      <td>0.0</td>\n",
       "      <td>0.0</td>\n",
       "      <td>0.0</td>\n",
       "      <td>0.0</td>\n",
       "      <td>0.0</td>\n",
       "      <td>0.0</td>\n",
       "      <td>0.0</td>\n",
       "      <td>0.0</td>\n",
       "      <td>0.0</td>\n",
       "      <td>0.0</td>\n",
       "    </tr>\n",
       "    <tr>\n",
       "      <th>283786</th>\n",
       "      <td>0.9</td>\n",
       "      <td>1.0</td>\n",
       "      <td>0.9</td>\n",
       "      <td>0.8</td>\n",
       "      <td>0.7</td>\n",
       "      <td>0.5</td>\n",
       "      <td>0.9</td>\n",
       "      <td>0.9</td>\n",
       "      <td>0.7</td>\n",
       "      <td>0.8</td>\n",
       "      <td>0.9</td>\n",
       "      <td>0.8</td>\n",
       "      <td>0.8</td>\n",
       "      <td>0.9</td>\n",
       "      <td>0.9</td>\n",
       "      <td>0.9</td>\n",
       "      <td>0.8</td>\n",
       "      <td>0.8</td>\n",
       "      <td>0.8</td>\n",
       "      <td>0.9</td>\n",
       "    </tr>\n",
       "    <tr>\n",
       "      <th>297931</th>\n",
       "      <td>0.0</td>\n",
       "      <td>0.0</td>\n",
       "      <td>0.0</td>\n",
       "      <td>0.0</td>\n",
       "      <td>0.0</td>\n",
       "      <td>0.0</td>\n",
       "      <td>0.0</td>\n",
       "      <td>0.0</td>\n",
       "      <td>0.0</td>\n",
       "      <td>0.0</td>\n",
       "      <td>0.0</td>\n",
       "      <td>0.0</td>\n",
       "      <td>0.0</td>\n",
       "      <td>0.0</td>\n",
       "      <td>0.0</td>\n",
       "      <td>0.8</td>\n",
       "      <td>0.0</td>\n",
       "      <td>0.0</td>\n",
       "      <td>0.0</td>\n",
       "      <td>0.9</td>\n",
       "    </tr>\n",
       "    <tr>\n",
       "      <th>312302</th>\n",
       "      <td>0.9</td>\n",
       "      <td>1.0</td>\n",
       "      <td>0.9</td>\n",
       "      <td>0.9</td>\n",
       "      <td>0.9</td>\n",
       "      <td>0.8</td>\n",
       "      <td>0.8</td>\n",
       "      <td>1.0</td>\n",
       "      <td>0.7</td>\n",
       "      <td>0.8</td>\n",
       "      <td>1.0</td>\n",
       "      <td>0.9</td>\n",
       "      <td>0.7</td>\n",
       "      <td>0.9</td>\n",
       "      <td>0.9</td>\n",
       "      <td>0.8</td>\n",
       "      <td>0.8</td>\n",
       "      <td>1.0</td>\n",
       "      <td>0.9</td>\n",
       "      <td>0.8</td>\n",
       "    </tr>\n",
       "  </tbody>\n",
       "</table>\n",
       "</div>"
      ],
      "text/plain": [
       "anime_id  226    1535   1575   2001   2167   4224   5081   5114   6547   \\\n",
       "user_id                                                                   \n",
       "20807       1.0    1.0    1.0    1.0    0.8    1.0    0.9    1.0    1.0   \n",
       "50485       0.0    0.6    1.0    1.0    0.9    1.0    1.0    1.0    1.0   \n",
       "63900       0.7    0.0    0.0    0.0    0.0    0.0    0.0    0.9    0.0   \n",
       "68042       0.8    1.0    0.9    1.0    0.7    0.9    1.0    0.9    0.7   \n",
       "85472       0.7    0.0    0.0    1.0    0.9    0.9    0.0    0.0    1.0   \n",
       "92529       0.9    0.9    1.0    1.0    0.0    0.8    0.0    0.9    0.9   \n",
       "122341      0.2    0.3    0.2    0.7    0.4    0.3    0.3    0.8    0.5   \n",
       "131988      0.0    0.0    0.0    0.0    0.0    0.0    0.0    0.0    0.0   \n",
       "140590      0.3    0.6    0.5    0.8    0.6    0.8    0.8    0.9    0.5   \n",
       "147331      0.0    0.0    0.0    0.0    0.0    0.0    0.0    0.0    0.0   \n",
       "162615      1.0    1.0    1.0    1.0    1.0    1.0    1.0    1.0    1.0   \n",
       "173716      0.8    0.9    1.0    0.8    1.0    0.8    0.8    1.0    0.8   \n",
       "189037      0.8    0.9    0.7    0.7    0.9    0.9    0.7    0.8    1.0   \n",
       "222150      0.8    1.0    1.0    0.0    0.9    0.0    0.8    1.0    0.8   \n",
       "252520      0.9    1.0    1.0    0.8    0.6    0.0    0.9    0.9    0.8   \n",
       "269633      0.0    0.0    0.0    0.0    0.0    0.0    0.0    0.0    0.0   \n",
       "281232      0.0    0.0    0.0    0.0    0.0    0.0    0.0    0.0    0.0   \n",
       "283786      0.9    1.0    0.9    0.8    0.7    0.5    0.9    0.9    0.7   \n",
       "297931      0.0    0.0    0.0    0.0    0.0    0.0    0.0    0.0    0.0   \n",
       "312302      0.9    1.0    0.9    0.9    0.9    0.8    0.8    1.0    0.7   \n",
       "\n",
       "anime_id  6746   9253   9989   10620  11757  15809  16498  19815  20507  \\\n",
       "user_id                                                                   \n",
       "20807       1.0    1.0    0.9    1.0    1.0    0.8    1.0    1.0    1.0   \n",
       "50485       0.9    1.0    0.9    0.6    1.0    1.0    0.9    1.0    1.0   \n",
       "63900       0.0    0.0    0.8    0.0    0.0    0.0    0.8    0.0    0.8   \n",
       "68042       0.8    0.9    0.8    0.4    0.4    0.6    0.9    0.3    0.2   \n",
       "85472       0.0    0.8    0.0    0.8    0.9    0.8    0.8    0.7    0.7   \n",
       "92529       0.0    1.0    0.0    0.8    0.9    0.8    0.9    0.9    0.8   \n",
       "122341      0.6    0.7    0.3    0.2    0.1    0.3    0.1    0.4    0.4   \n",
       "131988      0.0    0.0    0.0    0.0    0.0    0.0    0.0    0.0    0.0   \n",
       "140590      0.8    0.9    0.7    0.3    0.4    0.6    0.5    0.7    0.7   \n",
       "147331      0.0    0.0    0.0    0.0    0.0    0.0    0.0    0.0    0.0   \n",
       "162615      1.0    1.0    1.0    1.0    1.0    1.0    1.0    1.0    1.0   \n",
       "173716      0.9    1.0    0.9    0.8    0.8    0.8    0.8    1.0    0.8   \n",
       "189037      0.7    1.0    0.8    0.8    0.7    0.9    0.6    0.7    0.7   \n",
       "222150      0.9    1.0    0.8    0.4    0.4    0.7    0.8    0.5    0.0   \n",
       "252520      0.7    0.9    0.0    0.9    1.0    0.0    1.0    0.9    0.8   \n",
       "269633      0.0    0.0    0.0    0.0    0.0    0.0    0.0    0.0    0.0   \n",
       "281232      0.0    0.0    0.0    0.0    0.0    0.0    0.0    0.0    0.0   \n",
       "283786      0.8    0.9    0.8    0.8    0.9    0.9    0.9    0.8    0.8   \n",
       "297931      0.0    0.0    0.0    0.0    0.0    0.0    0.8    0.0    0.0   \n",
       "312302      0.8    1.0    0.9    0.7    0.9    0.9    0.8    0.8    1.0   \n",
       "\n",
       "anime_id  22319  30276  \n",
       "user_id                 \n",
       "20807       1.0    1.0  \n",
       "50485       1.0    0.8  \n",
       "63900       0.8    0.8  \n",
       "68042       0.5    0.9  \n",
       "85472       0.7    0.9  \n",
       "92529       0.8    1.0  \n",
       "122341      0.2    0.6  \n",
       "131988      0.0    0.0  \n",
       "140590      0.5    0.7  \n",
       "147331      0.0    0.0  \n",
       "162615      1.0    1.0  \n",
       "173716      0.6    1.0  \n",
       "189037      0.7    0.8  \n",
       "222150      0.0    0.0  \n",
       "252520      0.9    1.0  \n",
       "269633      0.0    0.0  \n",
       "281232      0.0    0.0  \n",
       "283786      0.8    0.9  \n",
       "297931      0.0    0.9  \n",
       "312302      0.9    0.8  "
      ]
     },
     "execution_count": 6,
     "metadata": {},
     "output_type": "execute_result"
    }
   ],
   "source": [
    "g = rating_df.groupby('user_id')['rating'].count()\n",
    "top_users = g.dropna().sort_values(ascending=False)[:20]\n",
    "top_r = rating_df.join(top_users, rsuffix='_r', how='inner', on='user_id')\n",
    "\n",
    "g = rating_df.groupby('anime_id')['rating'].count()\n",
    "top_animes = g.dropna().sort_values(ascending=False)[:20]\n",
    "top_r = top_r.join(top_animes, rsuffix='_r', how='inner', on='anime_id')\n",
    "\n",
    "pd.crosstab(top_r.user_id, top_r.anime_id, top_r.rating, aggfunc=np.sum)"
   ]
  },
  {
   "cell_type": "markdown",
   "id": "fba03145",
   "metadata": {
    "papermill": {
     "duration": 0.012168,
     "end_time": "2023-05-17T06:50:57.372162",
     "exception": false,
     "start_time": "2023-05-17T06:50:57.359994",
     "status": "completed"
    },
    "tags": []
   },
   "source": [
    "## **Data Preprocessing**"
   ]
  },
  {
   "cell_type": "code",
   "execution_count": 7,
   "id": "a3517485",
   "metadata": {
    "execution": {
     "iopub.execute_input": "2023-05-17T06:50:57.395776Z",
     "iopub.status.busy": "2023-05-17T06:50:57.395043Z",
     "iopub.status.idle": "2023-05-17T06:51:13.071714Z",
     "shell.execute_reply": "2023-05-17T06:51:13.070598Z"
    },
    "papermill": {
     "duration": 15.691057,
     "end_time": "2023-05-17T06:51:13.073816",
     "exception": false,
     "start_time": "2023-05-17T06:50:57.382759",
     "status": "completed"
    },
    "tags": []
   },
   "outputs": [
    {
     "name": "stdout",
     "output_type": "stream",
     "text": [
      "Num of users: 91641, Num of animes: 17560\n",
      "Min rating: 0.0, Max rating: 1.0\n"
     ]
    }
   ],
   "source": [
    "# Encoding categorical data\n",
    "user_ids = rating_df[\"user_id\"].unique().tolist()\n",
    "user2user_encoded = {x: i for i, x in enumerate(user_ids)}\n",
    "user_encoded2user = {i: x for i, x in enumerate(user_ids)}\n",
    "rating_df[\"user\"] = rating_df[\"user_id\"].map(user2user_encoded)\n",
    "n_users = len(user2user_encoded)\n",
    "\n",
    "anime_ids = rating_df[\"anime_id\"].unique().tolist()\n",
    "anime2anime_encoded = {x: i for i, x in enumerate(anime_ids)}\n",
    "anime_encoded2anime = {i: x for i, x in enumerate(anime_ids)}\n",
    "rating_df[\"anime\"] = rating_df[\"anime_id\"].map(anime2anime_encoded)\n",
    "n_animes = len(anime2anime_encoded)\n",
    "\n",
    "print(\"Num of users: {}, Num of animes: {}\".format(n_users, n_animes))\n",
    "print(\"Min rating: {}, Max rating: {}\".format(min(rating_df['rating']), max(rating_df['rating'])))"
   ]
  },
  {
   "cell_type": "code",
   "execution_count": 8,
   "id": "49d8c074",
   "metadata": {
    "execution": {
     "iopub.execute_input": "2023-05-17T06:51:13.096666Z",
     "iopub.status.busy": "2023-05-17T06:51:13.096288Z",
     "iopub.status.idle": "2023-05-17T06:51:26.382224Z",
     "shell.execute_reply": "2023-05-17T06:51:26.380930Z"
    },
    "papermill": {
     "duration": 13.300718,
     "end_time": "2023-05-17T06:51:26.385089",
     "exception": false,
     "start_time": "2023-05-17T06:51:13.084371",
     "status": "completed"
    },
    "tags": []
   },
   "outputs": [],
   "source": [
    "# Shuffle\n",
    "rating_df = rating_df.sample(frac=1, random_state=73)\n",
    "\n",
    "X = rating_df[['user', 'anime']].values\n",
    "y = rating_df[\"rating\"]"
   ]
  },
  {
   "cell_type": "code",
   "execution_count": 9,
   "id": "7e548239",
   "metadata": {
    "execution": {
     "iopub.execute_input": "2023-05-17T06:51:26.408985Z",
     "iopub.status.busy": "2023-05-17T06:51:26.408545Z",
     "iopub.status.idle": "2023-05-17T06:51:26.417907Z",
     "shell.execute_reply": "2023-05-17T06:51:26.415610Z"
    },
    "papermill": {
     "duration": 0.023787,
     "end_time": "2023-05-17T06:51:26.420189",
     "exception": false,
     "start_time": "2023-05-17T06:51:26.396402",
     "status": "completed"
    },
    "tags": []
   },
   "outputs": [
    {
     "name": "stdout",
     "output_type": "stream",
     "text": [
      "> Train set ratings: 71408113\n",
      "> Test set ratings: 10000\n"
     ]
    }
   ],
   "source": [
    "# Split\n",
    "test_set_size = 10000 #10k for test set\n",
    "train_indices = rating_df.shape[0] - test_set_size \n",
    "\n",
    "X_train, X_test, y_train, y_test = (\n",
    "    X[:train_indices],\n",
    "    X[train_indices:],\n",
    "    y[:train_indices],\n",
    "    y[train_indices:],\n",
    ")\n",
    "\n",
    "print('> Train set ratings: {}'.format(len(y_train)))\n",
    "print('> Test set ratings: {}'.format(len(y_test)))"
   ]
  },
  {
   "cell_type": "code",
   "execution_count": 10,
   "id": "f9f82d22",
   "metadata": {
    "execution": {
     "iopub.execute_input": "2023-05-17T06:51:26.443276Z",
     "iopub.status.busy": "2023-05-17T06:51:26.442829Z",
     "iopub.status.idle": "2023-05-17T06:51:26.447810Z",
     "shell.execute_reply": "2023-05-17T06:51:26.446784Z"
    },
    "papermill": {
     "duration": 0.019939,
     "end_time": "2023-05-17T06:51:26.450774",
     "exception": false,
     "start_time": "2023-05-17T06:51:26.430835",
     "status": "completed"
    },
    "tags": []
   },
   "outputs": [],
   "source": [
    "X_train_array = [X_train[:, 0], X_train[:, 1]]\n",
    "X_test_array = [X_test[:, 0], X_test[:, 1]]"
   ]
  },
  {
   "cell_type": "code",
   "execution_count": 11,
   "id": "dccc42ad",
   "metadata": {
    "_kg_hide-input": false,
    "_kg_hide-output": true,
    "execution": {
     "iopub.execute_input": "2023-05-17T06:51:26.474160Z",
     "iopub.status.busy": "2023-05-17T06:51:26.473756Z",
     "iopub.status.idle": "2023-05-17T06:51:39.355710Z",
     "shell.execute_reply": "2023-05-17T06:51:39.354730Z"
    },
    "papermill": {
     "duration": 12.895796,
     "end_time": "2023-05-17T06:51:39.357844",
     "exception": false,
     "start_time": "2023-05-17T06:51:26.462048",
     "status": "completed"
    },
    "tags": []
   },
   "outputs": [
    {
     "name": "stderr",
     "output_type": "stream",
     "text": [
      "/opt/conda/lib/python3.10/site-packages/scipy/__init__.py:146: UserWarning: A NumPy version >=1.16.5 and <1.23.0 is required for this version of SciPy (detected version 1.23.5\n",
      "  warnings.warn(f\"A NumPy version >={np_minversion} and <{np_maxversion}\"\n"
     ]
    },
    {
     "name": "stdout",
     "output_type": "stream",
     "text": [
      "2.11.0\n"
     ]
    }
   ],
   "source": [
    "# Accelerator check\n",
    "import tensorflow as tf\n",
    "\n",
    "TPU_INIT = True\n",
    "\n",
    "if TPU_INIT:\n",
    "    tpu = tf.distribute.cluster_resolver.TPUClusterResolver.connect()\n",
    "    tpu_strategy = tf.distribute.experimental.TPUStrategy(tpu)\n",
    "else:\n",
    "    !nvidia-smi\n",
    "    \n",
    "print(tf.__version__)"
   ]
  },
  {
   "cell_type": "markdown",
   "id": "cccb924c",
   "metadata": {
    "papermill": {
     "duration": 0.01057,
     "end_time": "2023-05-17T06:51:39.379274",
     "exception": false,
     "start_time": "2023-05-17T06:51:39.368704",
     "status": "completed"
    },
    "tags": []
   },
   "source": [
    "## **Model Building**"
   ]
  },
  {
   "cell_type": "code",
   "execution_count": 12,
   "id": "0a6e38ea",
   "metadata": {
    "execution": {
     "iopub.execute_input": "2023-05-17T06:51:39.403380Z",
     "iopub.status.busy": "2023-05-17T06:51:39.403015Z",
     "iopub.status.idle": "2023-05-17T06:51:39.410278Z",
     "shell.execute_reply": "2023-05-17T06:51:39.408793Z"
    },
    "papermill": {
     "duration": 0.022053,
     "end_time": "2023-05-17T06:51:39.412719",
     "exception": false,
     "start_time": "2023-05-17T06:51:39.390666",
     "status": "completed"
    },
    "tags": []
   },
   "outputs": [],
   "source": [
    "import tensorflow as tf\n",
    "from tensorflow.keras import layers\n",
    "from tensorflow.keras.models import Model\n",
    "from tensorflow.keras.optimizers import Adam"
   ]
  },
  {
   "cell_type": "code",
   "execution_count": 13,
   "id": "398242da",
   "metadata": {
    "execution": {
     "iopub.execute_input": "2023-05-17T06:51:39.436056Z",
     "iopub.status.busy": "2023-05-17T06:51:39.435582Z",
     "iopub.status.idle": "2023-05-17T06:51:41.375223Z",
     "shell.execute_reply": "2023-05-17T06:51:41.374156Z"
    },
    "papermill": {
     "duration": 1.954214,
     "end_time": "2023-05-17T06:51:41.377715",
     "exception": false,
     "start_time": "2023-05-17T06:51:39.423501",
     "status": "completed"
    },
    "tags": []
   },
   "outputs": [
    {
     "name": "stdout",
     "output_type": "stream",
     "text": [
      "Model: \"model\"\n",
      "__________________________________________________________________________________________________\n",
      " Layer (type)                   Output Shape         Param #     Connected to                     \n",
      "==================================================================================================\n",
      " user (InputLayer)              [(None, 1)]          0           []                               \n",
      "                                                                                                  \n",
      " anime (InputLayer)             [(None, 1)]          0           []                               \n",
      "                                                                                                  \n",
      " user_embedding (Embedding)     (None, 1, 128)       11730048    ['user[0][0]']                   \n",
      "                                                                                                  \n",
      " anime_embedding (Embedding)    (None, 1, 128)       2247680     ['anime[0][0]']                  \n",
      "                                                                                                  \n",
      " dot_product (Dot)              (None, 1, 1)         0           ['user_embedding[0][0]',         \n",
      "                                                                  'anime_embedding[0][0]']        \n",
      "                                                                                                  \n",
      " flatten (Flatten)              (None, 1)            0           ['dot_product[0][0]']            \n",
      "                                                                                                  \n",
      " dense (Dense)                  (None, 1)            2           ['flatten[0][0]']                \n",
      "                                                                                                  \n",
      " batch_normalization (BatchNorm  (None, 1)           4           ['dense[0][0]']                  \n",
      " alization)                                                                                       \n",
      "                                                                                                  \n",
      " activation (Activation)        (None, 1)            0           ['batch_normalization[0][0]']    \n",
      "                                                                                                  \n",
      "==================================================================================================\n",
      "Total params: 13,977,734\n",
      "Trainable params: 13,977,732\n",
      "Non-trainable params: 2\n",
      "__________________________________________________________________________________________________\n"
     ]
    }
   ],
   "source": [
    "# Embedding layers\n",
    "from tensorflow.keras.layers import Add, Activation, Lambda, BatchNormalization, Concatenate, Dropout, Input, Embedding, Dot, Reshape, Dense, Flatten\n",
    "\n",
    "def RecommenderNet():\n",
    "    embedding_size = 128\n",
    "    \n",
    "    user = Input(name = 'user', shape = [1])\n",
    "    user_embedding = Embedding(name = 'user_embedding',\n",
    "                       input_dim = n_users, \n",
    "                       output_dim = embedding_size)(user)\n",
    "    \n",
    "    anime = Input(name = 'anime', shape = [1])\n",
    "    anime_embedding = Embedding(name = 'anime_embedding',\n",
    "                       input_dim = n_animes, \n",
    "                       output_dim = embedding_size)(anime)\n",
    "    \n",
    "    #x = Concatenate()([user_embedding, anime_embedding])\n",
    "    x = Dot(name = 'dot_product', normalize = True, axes = 2)([user_embedding, anime_embedding])\n",
    "    x = Flatten()(x)\n",
    "        \n",
    "    x = Dense(1, kernel_initializer='he_normal')(x)\n",
    "    x = BatchNormalization()(x)\n",
    "    x = Activation(\"sigmoid\")(x)\n",
    "    \n",
    "    model = Model(inputs=[user, anime], outputs=x)\n",
    "    model.compile(loss='binary_crossentropy', metrics=[\"mae\", \"mse\"], optimizer='Adam')\n",
    "    \n",
    "    return model\n",
    "\n",
    "if TPU_INIT:    \n",
    "    with tpu_strategy.scope():\n",
    "        model = RecommenderNet()\n",
    "else:\n",
    "    model = RecommenderNet()\n",
    "\n",
    "model.summary()"
   ]
  },
  {
   "cell_type": "code",
   "execution_count": 14,
   "id": "750cca34",
   "metadata": {
    "execution": {
     "iopub.execute_input": "2023-05-17T06:51:41.404314Z",
     "iopub.status.busy": "2023-05-17T06:51:41.403972Z",
     "iopub.status.idle": "2023-05-17T06:51:41.413521Z",
     "shell.execute_reply": "2023-05-17T06:51:41.411838Z"
    },
    "papermill": {
     "duration": 0.025644,
     "end_time": "2023-05-17T06:51:41.415511",
     "exception": false,
     "start_time": "2023-05-17T06:51:41.389867",
     "status": "completed"
    },
    "tags": []
   },
   "outputs": [],
   "source": [
    "# Callbacks\n",
    "from tensorflow.keras.callbacks import Callback, ModelCheckpoint, LearningRateScheduler, TensorBoard, EarlyStopping, ReduceLROnPlateau\n",
    "\n",
    "start_lr = 0.00001\n",
    "min_lr = 0.00001\n",
    "max_lr = 0.00005\n",
    "batch_size = 10000\n",
    "\n",
    "if TPU_INIT:\n",
    "    max_lr = max_lr * tpu_strategy.num_replicas_in_sync\n",
    "    batch_size = batch_size * tpu_strategy.num_replicas_in_sync\n",
    "\n",
    "rampup_epochs = 5\n",
    "sustain_epochs = 0\n",
    "exp_decay = .8\n",
    "\n",
    "def lrfn(epoch):\n",
    "    if epoch < rampup_epochs:\n",
    "        return (max_lr - start_lr)/rampup_epochs * epoch + start_lr\n",
    "    elif epoch < rampup_epochs + sustain_epochs:\n",
    "        return max_lr\n",
    "    else:\n",
    "        return (max_lr - min_lr) * exp_decay**(epoch-rampup_epochs-sustain_epochs) + min_lr\n",
    "\n",
    "\n",
    "lr_callback = LearningRateScheduler(lambda epoch: lrfn(epoch), verbose=0)\n",
    "\n",
    "checkpoint_filepath = './weights.h5'\n",
    "\n",
    "model_checkpoints = ModelCheckpoint(filepath=checkpoint_filepath,\n",
    "                                        save_weights_only=True,\n",
    "                                        monitor='val_loss',\n",
    "                                        mode='min',\n",
    "                                        save_best_only=True)\n",
    "\n",
    "early_stopping = EarlyStopping(patience = 3, monitor='val_loss', \n",
    "                               mode='min', restore_best_weights=True)\n",
    "\n",
    "my_callbacks = [\n",
    "    model_checkpoints,\n",
    "    lr_callback,\n",
    "    early_stopping,   \n",
    "]"
   ]
  },
  {
   "cell_type": "code",
   "execution_count": 15,
   "id": "23df1e53",
   "metadata": {
    "execution": {
     "iopub.execute_input": "2023-05-17T06:51:41.441989Z",
     "iopub.status.busy": "2023-05-17T06:51:41.441567Z",
     "iopub.status.idle": "2023-05-17T06:56:00.003315Z",
     "shell.execute_reply": "2023-05-17T06:56:00.001406Z"
    },
    "papermill": {
     "duration": 258.577745,
     "end_time": "2023-05-17T06:56:00.005976",
     "exception": false,
     "start_time": "2023-05-17T06:51:41.428231",
     "status": "completed"
    },
    "tags": []
   },
   "outputs": [
    {
     "name": "stdout",
     "output_type": "stream",
     "text": [
      "Epoch 1/20\n",
      "893/893 [==============================] - 34s 28ms/step - loss: 0.8005 - mae: 0.3843 - mse: 0.1990 - val_loss: 0.8017 - val_mae: 0.3879 - val_mse: 0.2010 - lr: 1.0000e-05\n",
      "Epoch 2/20\n",
      "893/893 [==============================] - 19s 21ms/step - loss: 0.7724 - mae: 0.3742 - mse: 0.1880 - val_loss: 0.7185 - val_mae: 0.3513 - val_mse: 0.1669 - lr: 8.8000e-05\n",
      "Epoch 3/20\n",
      "893/893 [==============================] - 19s 22ms/step - loss: 0.6005 - mae: 0.2849 - mse: 0.1146 - val_loss: 0.5754 - val_mae: 0.2721 - val_mse: 0.1055 - lr: 1.6600e-04\n",
      "Epoch 4/20\n",
      "893/893 [==============================] - 20s 22ms/step - loss: 0.5479 - mae: 0.2524 - mse: 0.0921 - val_loss: 0.5409 - val_mae: 0.2503 - val_mse: 0.0910 - lr: 2.4400e-04\n",
      "Epoch 5/20\n",
      "893/893 [==============================] - 20s 23ms/step - loss: 0.5180 - mae: 0.2303 - mse: 0.0804 - val_loss: 0.5143 - val_mae: 0.2283 - val_mse: 0.0809 - lr: 3.2200e-04\n",
      "Epoch 6/20\n",
      "893/893 [==============================] - 20s 22ms/step - loss: 0.4938 - mae: 0.2094 - mse: 0.0718 - val_loss: 0.4974 - val_mae: 0.2116 - val_mse: 0.0753 - lr: 4.0000e-04\n",
      "Epoch 7/20\n",
      "893/893 [==============================] - 19s 22ms/step - loss: 0.4740 - mae: 0.1922 - mse: 0.0648 - val_loss: 0.4894 - val_mae: 0.2024 - val_mse: 0.0728 - lr: 3.2200e-04\n",
      "Epoch 8/20\n",
      "893/893 [==============================] - 20s 22ms/step - loss: 0.4606 - mae: 0.1806 - mse: 0.0602 - val_loss: 0.4869 - val_mae: 0.1971 - val_mse: 0.0722 - lr: 2.5960e-04\n",
      "Epoch 9/20\n",
      "893/893 [==============================] - 20s 22ms/step - loss: 0.4512 - mae: 0.1726 - mse: 0.0569 - val_loss: 0.4856 - val_mae: 0.1938 - val_mse: 0.0719 - lr: 2.0968e-04\n",
      "Epoch 10/20\n",
      "893/893 [==============================] - 20s 22ms/step - loss: 0.4444 - mae: 0.1668 - mse: 0.0546 - val_loss: 0.4860 - val_mae: 0.1918 - val_mse: 0.0721 - lr: 1.6974e-04\n",
      "Epoch 11/20\n",
      "893/893 [==============================] - 20s 23ms/step - loss: 0.4395 - mae: 0.1624 - mse: 0.0529 - val_loss: 0.4870 - val_mae: 0.1906 - val_mse: 0.0725 - lr: 1.3780e-04\n",
      "Epoch 12/20\n",
      "893/893 [==============================] - 22s 24ms/step - loss: 0.4357 - mae: 0.1591 - mse: 0.0516 - val_loss: 0.4879 - val_mae: 0.1898 - val_mse: 0.0728 - lr: 1.1224e-04\n"
     ]
    }
   ],
   "source": [
    "# Model training\n",
    "history = model.fit(\n",
    "    x=X_train_array,\n",
    "    y=y_train,\n",
    "    batch_size=batch_size,\n",
    "    epochs=20,\n",
    "    verbose=1,\n",
    "    validation_data=(X_test_array, y_test),\n",
    "    callbacks=my_callbacks\n",
    ")\n",
    "\n",
    "model.load_weights(checkpoint_filepath)"
   ]
  },
  {
   "cell_type": "code",
   "execution_count": 16,
   "id": "a855777d",
   "metadata": {
    "execution": {
     "iopub.execute_input": "2023-05-17T06:56:00.637809Z",
     "iopub.status.busy": "2023-05-17T06:56:00.637338Z",
     "iopub.status.idle": "2023-05-17T06:56:00.953645Z",
     "shell.execute_reply": "2023-05-17T06:56:00.952687Z"
    },
    "papermill": {
     "duration": 0.675813,
     "end_time": "2023-05-17T06:56:00.957586",
     "exception": false,
     "start_time": "2023-05-17T06:56:00.281773",
     "status": "completed"
    },
    "tags": []
   },
   "outputs": [
    {
     "data": {
      "image/png": "[encoded data removed]",
      "text/plain": [
       "<Figure size 640x480 with 1 Axes>"
      ]
     },
     "metadata": {},
     "output_type": "display_data"
    }
   ],
   "source": [
    "#Training results\n",
    "import matplotlib.pyplot as plt\n",
    "%matplotlib inline\n",
    "\n",
    "plt.plot(history.history[\"loss\"][0:-2])\n",
    "plt.plot(history.history[\"val_loss\"][0:-2])\n",
    "plt.title(\"model loss\")\n",
    "plt.ylabel(\"loss\")\n",
    "plt.xlabel(\"epoch\")\n",
    "plt.legend([\"train\", \"test\"], loc=\"upper left\")\n",
    "plt.show()"
   ]
  },
  {
   "cell_type": "markdown",
   "id": "b747051e",
   "metadata": {
    "papermill": {
     "duration": 0.229725,
     "end_time": "2023-05-17T06:56:01.426240",
     "exception": false,
     "start_time": "2023-05-17T06:56:01.196515",
     "status": "completed"
    },
    "tags": []
   },
   "source": [
    "## **Extracting weights from model**"
   ]
  },
  {
   "cell_type": "code",
   "execution_count": 17,
   "id": "cb1f6d3a",
   "metadata": {
    "execution": {
     "iopub.execute_input": "2023-05-17T06:56:01.867996Z",
     "iopub.status.busy": "2023-05-17T06:56:01.867547Z",
     "iopub.status.idle": "2023-05-17T06:56:02.019853Z",
     "shell.execute_reply": "2023-05-17T06:56:02.018561Z"
    },
    "papermill": {
     "duration": 0.377049,
     "end_time": "2023-05-17T06:56:02.022834",
     "exception": false,
     "start_time": "2023-05-17T06:56:01.645785",
     "status": "completed"
    },
    "tags": []
   },
   "outputs": [],
   "source": [
    "def extract_weights(name, model):\n",
    "    weight_layer = model.get_layer(name)\n",
    "    weights = weight_layer.get_weights()[0]\n",
    "    weights = weights / np.linalg.norm(weights, axis = 1).reshape((-1, 1))\n",
    "    return weights\n",
    "\n",
    "anime_weights = extract_weights('anime_embedding', model)\n",
    "user_weights = extract_weights('user_embedding', model)"
   ]
  },
  {
   "cell_type": "markdown",
   "id": "3220c62a",
   "metadata": {
    "papermill": {
     "duration": 0.218804,
     "end_time": "2023-05-17T06:56:02.464061",
     "exception": false,
     "start_time": "2023-05-17T06:56:02.245257",
     "status": "completed"
    },
    "tags": []
   },
   "source": [
    "### **anime meta data**"
   ]
  },
  {
   "cell_type": "code",
   "execution_count": 18,
   "id": "c1ac6418",
   "metadata": {
    "execution": {
     "iopub.execute_input": "2023-05-17T06:56:02.972526Z",
     "iopub.status.busy": "2023-05-17T06:56:02.971866Z",
     "iopub.status.idle": "2023-05-17T06:56:03.218123Z",
     "shell.execute_reply": "2023-05-17T06:56:03.216761Z"
    },
    "papermill": {
     "duration": 0.534482,
     "end_time": "2023-05-17T06:56:03.220814",
     "exception": false,
     "start_time": "2023-05-17T06:56:02.686332",
     "status": "completed"
    },
    "tags": []
   },
   "outputs": [],
   "source": [
    "df = pd.read_csv(INPUT_DIR + '/anime.csv', low_memory=True)\n",
    "df = df.replace(\"Unknown\", np.nan)"
   ]
  },
  {
   "cell_type": "code",
   "execution_count": 19,
   "id": "c0143a54",
   "metadata": {
    "execution": {
     "iopub.execute_input": "2023-05-17T06:56:03.663242Z",
     "iopub.status.busy": "2023-05-17T06:56:03.662812Z",
     "iopub.status.idle": "2023-05-17T06:56:12.621737Z",
     "shell.execute_reply": "2023-05-17T06:56:12.619811Z"
    },
    "papermill": {
     "duration": 9.181049,
     "end_time": "2023-05-17T06:56:12.624428",
     "exception": false,
     "start_time": "2023-05-17T06:56:03.443379",
     "status": "completed"
    },
    "tags": []
   },
   "outputs": [],
   "source": [
    "# Fixing Names\n",
    "def getAnimeName(anime_id):\n",
    "    try:\n",
    "        name = df[df.anime_id == anime_id].eng_version.values[0]\n",
    "        if name is np.nan:\n",
    "            name = df[df.anime_id == anime_id].Name.values[0]\n",
    "    except:\n",
    "        print('error')\n",
    "    \n",
    "    return name\n",
    "\n",
    "df['anime_id'] = df['MAL_ID']\n",
    "df[\"eng_version\"] = df['English name']\n",
    "df['eng_version'] = df.anime_id.apply(lambda x: getAnimeName(x))\n",
    "\n",
    "df.sort_values(by=['Score'], \n",
    "               inplace=True,\n",
    "               ascending=False, \n",
    "               kind='quicksort',\n",
    "               na_position='last')\n",
    "\n",
    "df = df[[\"anime_id\", \"eng_version\", \n",
    "         \"Score\", \"Genres\", \"Episodes\", \n",
    "         \"Type\", \"Premiered\", \"Members\"]]"
   ]
  },
  {
   "cell_type": "code",
   "execution_count": 20,
   "id": "9b9d2d90",
   "metadata": {
    "execution": {
     "iopub.execute_input": "2023-05-17T06:56:13.080625Z",
     "iopub.status.busy": "2023-05-17T06:56:13.080136Z",
     "iopub.status.idle": "2023-05-17T06:56:13.084562Z",
     "shell.execute_reply": "2023-05-17T06:56:13.083945Z"
    },
    "papermill": {
     "duration": 0.232058,
     "end_time": "2023-05-17T06:56:13.086257",
     "exception": false,
     "start_time": "2023-05-17T06:56:12.854199",
     "status": "completed"
    },
    "tags": []
   },
   "outputs": [],
   "source": [
    "def getAnimeFrame(anime):\n",
    "    if isinstance(anime, int):\n",
    "        return df[df.anime_id == anime]\n",
    "    if isinstance(anime, str):\n",
    "        return df[df.eng_version == anime]"
   ]
  },
  {
   "cell_type": "markdown",
   "id": "3b6f2c17",
   "metadata": {
    "papermill": {
     "duration": 0.228919,
     "end_time": "2023-05-17T06:56:13.537332",
     "exception": false,
     "start_time": "2023-05-17T06:56:13.308413",
     "status": "completed"
    },
    "tags": []
   },
   "source": [
    "### **sypnopsis data**"
   ]
  },
  {
   "cell_type": "code",
   "execution_count": 21,
   "id": "e01b1585",
   "metadata": {
    "execution": {
     "iopub.execute_input": "2023-05-17T06:56:14.098480Z",
     "iopub.status.busy": "2023-05-17T06:56:14.097869Z",
     "iopub.status.idle": "2023-05-17T06:56:14.297961Z",
     "shell.execute_reply": "2023-05-17T06:56:14.296005Z"
    },
    "papermill": {
     "duration": 0.510525,
     "end_time": "2023-05-17T06:56:14.300740",
     "exception": false,
     "start_time": "2023-05-17T06:56:13.790215",
     "status": "completed"
    },
    "tags": []
   },
   "outputs": [],
   "source": [
    "cols = [\"MAL_ID\", \"Name\", \"Genres\", \"sypnopsis\"]\n",
    "sypnopsis_df = pd.read_csv(INPUT_DIR + '/anime_with_synopsis.csv', usecols=cols)\n",
    "\n",
    "def getSypnopsis(anime):\n",
    "    if isinstance(anime, int):\n",
    "        return sypnopsis_df[sypnopsis_df.MAL_ID == anime].sypnopsis.values[0]\n",
    "    if isinstance(anime, str):\n",
    "        return sypnopsis_df[sypnopsis_df.Name == anime].sypnopsis.values[0]"
   ]
  },
  {
   "cell_type": "markdown",
   "id": "df9bc151",
   "metadata": {
    "papermill": {
     "duration": 0.225188,
     "end_time": "2023-05-17T06:56:14.752923",
     "exception": false,
     "start_time": "2023-05-17T06:56:14.527735",
     "status": "completed"
    },
    "tags": []
   },
   "source": [
    "## **Task 1**: Finding Similar Animes (Item Based Recommendation)"
   ]
  },
  {
   "cell_type": "code",
   "execution_count": 22,
   "id": "336dd53c",
   "metadata": {
    "execution": {
     "iopub.execute_input": "2023-05-17T06:56:15.200199Z",
     "iopub.status.busy": "2023-05-17T06:56:15.199532Z",
     "iopub.status.idle": "2023-05-17T06:56:15.209676Z",
     "shell.execute_reply": "2023-05-17T06:56:15.208406Z"
    },
    "papermill": {
     "duration": 0.236484,
     "end_time": "2023-05-17T06:56:15.212594",
     "exception": false,
     "start_time": "2023-05-17T06:56:14.976110",
     "status": "completed"
    },
    "tags": []
   },
   "outputs": [],
   "source": [
    "#pd.reset_option('all')\n",
    "pd.set_option(\"max_colwidth\", None)\n",
    "\n",
    "def find_similar_animes(name, n=10, return_dist=False, neg=False):\n",
    "    try:\n",
    "        index = getAnimeFrame(name).anime_id.values[0]\n",
    "        encoded_index = anime2anime_encoded.get(index)\n",
    "        weights = anime_weights\n",
    "        \n",
    "        dists = np.dot(weights, weights[encoded_index])\n",
    "        sorted_dists = np.argsort(dists)\n",
    "        \n",
    "        n = n + 1            \n",
    "        \n",
    "        if neg:\n",
    "            closest = sorted_dists[:n]\n",
    "        else:\n",
    "            closest = sorted_dists[-n:]\n",
    "\n",
    "        print('animes closest to {}'.format(name))\n",
    "\n",
    "        if return_dist:\n",
    "            return dists, closest\n",
    "        \n",
    "        rindex = df\n",
    "\n",
    "        SimilarityArr = []\n",
    "\n",
    "        for close in closest:\n",
    "            decoded_id = anime_encoded2anime.get(close)\n",
    "            sypnopsis = getSypnopsis(decoded_id)\n",
    "            anime_frame = getAnimeFrame(decoded_id)\n",
    "            \n",
    "            anime_name = anime_frame.eng_version.values[0]\n",
    "            genre = anime_frame.Genres.values[0]\n",
    "            similarity = dists[close]\n",
    "            SimilarityArr.append({\"anime_id\": decoded_id, \"name\": anime_name,\n",
    "                                  \"similarity\": similarity,\"genre\": genre,\n",
    "                                  'sypnopsis': sypnopsis})\n",
    "\n",
    "        Frame = pd.DataFrame(SimilarityArr).sort_values(by=\"similarity\", ascending=False)\n",
    "        return Frame[Frame.anime_id != index].drop(['anime_id'], axis=1)\n",
    "\n",
    "    except:\n",
    "        print('{}!, Not Found in Anime list'.format(name))"
   ]
  },
  {
   "cell_type": "markdown",
   "id": "6cdc58bd",
   "metadata": {
    "papermill": {
     "duration": 0.223444,
     "end_time": "2023-05-17T06:56:15.662111",
     "exception": false,
     "start_time": "2023-05-17T06:56:15.438667",
     "status": "completed"
    },
    "tags": []
   },
   "source": [
    "### **these animes are my fav**"
   ]
  },
  {
   "cell_type": "markdown",
   "id": "67e081af",
   "metadata": {
    "papermill": {
     "duration": 0.224706,
     "end_time": "2023-05-17T06:56:16.109764",
     "exception": false,
     "start_time": "2023-05-17T06:56:15.885058",
     "status": "completed"
    },
    "tags": []
   },
   "source": [
    "![](https://i.pinimg.com/originals/1f/cb/2a/1fcb2af4376fe78b6d82197bd1fdbff6.gif)"
   ]
  },
  {
   "cell_type": "code",
   "execution_count": 23,
   "id": "e338d00b",
   "metadata": {
    "execution": {
     "iopub.execute_input": "2023-05-17T06:56:16.634086Z",
     "iopub.status.busy": "2023-05-17T06:56:16.633377Z",
     "iopub.status.idle": "2023-05-17T06:56:16.667522Z",
     "shell.execute_reply": "2023-05-17T06:56:16.666580Z"
    },
    "papermill": {
     "duration": 0.263252,
     "end_time": "2023-05-17T06:56:16.669966",
     "exception": false,
     "start_time": "2023-05-17T06:56:16.406714",
     "status": "completed"
    },
    "tags": []
   },
   "outputs": [
    {
     "name": "stdout",
     "output_type": "stream",
     "text": [
      "animes closest to Dragon Ball Z\n"
     ]
    },
    {
     "data": {
      "text/html": [
       "<div>\n",
       "<style scoped>\n",
       "    .dataframe tbody tr th:only-of-type {\n",
       "        vertical-align: middle;\n",
       "    }\n",
       "\n",
       "    .dataframe tbody tr th {\n",
       "        vertical-align: top;\n",
       "    }\n",
       "\n",
       "    .dataframe thead th {\n",
       "        text-align: right;\n",
       "    }\n",
       "</style>\n",
       "<table border=\"1\" class=\"dataframe\">\n",
       "  <thead>\n",
       "    <tr style=\"text-align: right;\">\n",
       "      <th></th>\n",
       "      <th>name</th>\n",
       "      <th>similarity</th>\n",
       "      <th>genre</th>\n",
       "      <th>sypnopsis</th>\n",
       "    </tr>\n",
       "  </thead>\n",
       "  <tbody>\n",
       "    <tr>\n",
       "      <th>4</th>\n",
       "      <td>Dragon Ball</td>\n",
       "      <td>0.976043</td>\n",
       "      <td>Adventure, Comedy, Fantasy, Martial Arts, Shounen, Super Power</td>\n",
       "      <td>Gokuu Son is a young boy who lives in the woods all alone—that is, until a girl named Bulma runs into him in her search for a set of magical objects called the \"Dragon Balls.\" Since the artifacts are said to grant one wish to whoever collects all seven, Bulma hopes to gather them and wish for a perfect boyfriend. Gokuu happens to be in possession of a dragon ball, but unfortunately for Bulma, he refuses to part ways with it, so she makes him a deal: he can tag along on her journey if he lets her borrow the dragon ball's power. With that, the two set off on the journey of a lifetime. They don't go on the journey alone. On the way, they meet the old Muten-Roshi and wannabe disciple Kuririn, with whom Gokuu trains to become a stronger martial artist for the upcoming World Martial Arts Tournament. However, it's not all fun and games; the ability to make any wish come true is a powerful one, and there are others who would do much worse than just wishing for a boyfriend. To stop those who would try to abuse the legendary power, they train to become stronger fighters, using their newfound strength to help the people around them along the way.</td>\n",
       "    </tr>\n",
       "    <tr>\n",
       "      <th>3</th>\n",
       "      <td>Dragon Ball GT</td>\n",
       "      <td>0.909275</td>\n",
       "      <td>Action, Sci-Fi, Adventure, Comedy, Super Power, Magic, Fantasy, Shounen</td>\n",
       "      <td>Emperor Pilaf finally has his hands on the Black Star Dragon Balls after years of searching, which are said to be twice as powerful as Earth's normal ones. Pilaf is about to make his wish for world domination when he is interrupted by Gokuu Son. As a result, Pilaf flubs his wish and accidentally turns Gokuu back into a child. After the wish is granted, the Black Star Dragon Balls scatter across the galaxy. However, Gokuu discovers that they will cause the Earth to explode unless they are all brought back within a year. Uniting with his granddaughter Pan and a young adult Trunks, Gokuu sets off on an adventure through the universe to find the Black Star Dragon Balls and save his planet from destruction.</td>\n",
       "    </tr>\n",
       "    <tr>\n",
       "      <th>2</th>\n",
       "      <td>Dragon Ball Z Kai</td>\n",
       "      <td>0.797006</td>\n",
       "      <td>Action, Adventure, Comedy, Fantasy, Martial Arts, Shounen, Super Power</td>\n",
       "      <td>Five years after the events of Dragon Ball, martial arts expert Gokuu is now a grown man married to his wife Chi-Chi, with a four-year old son named Gohan. While attending a reunion on Turtle Island with his old friends Master Roshi, Krillin, Bulma and others, the festivities are interrupted when a humanoid alien named Raditz not only reveals the truth behind Gokuu's past, but kidnaps Gohan as well. With Raditz displaying power beyond anything Gokuu has seen before, he is forced to team up with his old nemesis, Piccolo, in order to rescue his son. But when Gokuu and Piccolo reveal the secret of the seven mystical wish-granting Dragon Balls to Raditz, he informs the duo that there is more of his race, the Saiyans, and they won’t pass up an opportunity to seize the power of the Dragon Balls for themselves. These events begin the saga of Dragon Ball Kai , a story that finds Gokuu and his friends and family constantly defending the galaxy from increasingly more powerful threats. Bizarre, comical, heartwarming and threatening characters come together in a series of battles that push the powers and abilities of Gokuu and his friends beyond anything they have ever experienced.</td>\n",
       "    </tr>\n",
       "    <tr>\n",
       "      <th>1</th>\n",
       "      <td>Yu-Gi-Oh!</td>\n",
       "      <td>0.752234</td>\n",
       "      <td>Adventure, Game, Shounen</td>\n",
       "      <td>gend says that the enigmatic Millennium Puzzle will grant one wish to whoever deciphers its ancient secrets. Upon solving it, high school student Yuugi Mutou unleashes \"another Yuugi,\" a peculiar presence contained inside. Now, whenever he is faced with a dilemma, this mysterious alter ego makes an appearance and aids him in his troubles. Wishing to unravel the mystery behind this strange spirit, Yuugi and his companions find themselves competing with several opponents in \"Duel Monsters,\" a challenging card game used by people seeking to steal the Millennium Puzzle in a desperate attempt to harness the great power within. As the questions pile on, it is not long before they figure out that there is more than pride on the line in these duels.</td>\n",
       "    </tr>\n",
       "    <tr>\n",
       "      <th>0</th>\n",
       "      <td>Naruto</td>\n",
       "      <td>0.722463</td>\n",
       "      <td>Action, Adventure, Comedy, Super Power, Martial Arts, Shounen</td>\n",
       "      <td>oments prior to Naruto Uzumaki's birth, a huge demon known as the Kyuubi, the Nine-Tailed Fox, attacked Konohagakure, the Hidden Leaf Village, and wreaked havoc. In order to put an end to the Kyuubi's rampage, the leader of the village, the Fourth Hokage, sacrificed his life and sealed the monstrous beast inside the newborn Naruto. Now, Naruto is a hyperactive and knuckle-headed ninja still living in Konohagakure. Shunned because of the Kyuubi inside him, Naruto struggles to find his place in the village, while his burning desire to become the Hokage of Konohagakure leads him not only to some great new friends, but also some deadly foes.</td>\n",
       "    </tr>\n",
       "  </tbody>\n",
       "</table>\n",
       "</div>"
      ],
      "text/plain": [
       "                name  similarity  \\\n",
       "4        Dragon Ball    0.976043   \n",
       "3     Dragon Ball GT    0.909275   \n",
       "2  Dragon Ball Z Kai    0.797006   \n",
       "1          Yu-Gi-Oh!    0.752234   \n",
       "0             Naruto    0.722463   \n",
       "\n",
       "                                                                     genre  \\\n",
       "4           Adventure, Comedy, Fantasy, Martial Arts, Shounen, Super Power   \n",
       "3  Action, Sci-Fi, Adventure, Comedy, Super Power, Magic, Fantasy, Shounen   \n",
       "2   Action, Adventure, Comedy, Fantasy, Martial Arts, Shounen, Super Power   \n",
       "1                                                 Adventure, Game, Shounen   \n",
       "0            Action, Adventure, Comedy, Super Power, Martial Arts, Shounen   \n",
       "\n",
       "                                                                                                                                                                                                                                                                                                                                                                                                                                                                                                                                                                                                                                                                                                                                                                                                                                                                                                                                                                                                                                                                                                                                                                                                                              sypnopsis  \n",
       "4                                     Gokuu Son is a young boy who lives in the woods all alone—that is, until a girl named Bulma runs into him in her search for a set of magical objects called the \"Dragon Balls.\" Since the artifacts are said to grant one wish to whoever collects all seven, Bulma hopes to gather them and wish for a perfect boyfriend. Gokuu happens to be in possession of a dragon ball, but unfortunately for Bulma, he refuses to part ways with it, so she makes him a deal: he can tag along on her journey if he lets her borrow the dragon ball's power. With that, the two set off on the journey of a lifetime. They don't go on the journey alone. On the way, they meet the old Muten-Roshi and wannabe disciple Kuririn, with whom Gokuu trains to become a stronger martial artist for the upcoming World Martial Arts Tournament. However, it's not all fun and games; the ability to make any wish come true is a powerful one, and there are others who would do much worse than just wishing for a boyfriend. To stop those who would try to abuse the legendary power, they train to become stronger fighters, using their newfound strength to help the people around them along the way.  \n",
       "3                                                                                                                                                                                                                                                                                                                                                                                                                                                                                               Emperor Pilaf finally has his hands on the Black Star Dragon Balls after years of searching, which are said to be twice as powerful as Earth's normal ones. Pilaf is about to make his wish for world domination when he is interrupted by Gokuu Son. As a result, Pilaf flubs his wish and accidentally turns Gokuu back into a child. After the wish is granted, the Black Star Dragon Balls scatter across the galaxy. However, Gokuu discovers that they will cause the Earth to explode unless they are all brought back within a year. Uniting with his granddaughter Pan and a young adult Trunks, Gokuu sets off on an adventure through the universe to find the Black Star Dragon Balls and save his planet from destruction.  \n",
       "2  Five years after the events of Dragon Ball, martial arts expert Gokuu is now a grown man married to his wife Chi-Chi, with a four-year old son named Gohan. While attending a reunion on Turtle Island with his old friends Master Roshi, Krillin, Bulma and others, the festivities are interrupted when a humanoid alien named Raditz not only reveals the truth behind Gokuu's past, but kidnaps Gohan as well. With Raditz displaying power beyond anything Gokuu has seen before, he is forced to team up with his old nemesis, Piccolo, in order to rescue his son. But when Gokuu and Piccolo reveal the secret of the seven mystical wish-granting Dragon Balls to Raditz, he informs the duo that there is more of his race, the Saiyans, and they won’t pass up an opportunity to seize the power of the Dragon Balls for themselves. These events begin the saga of Dragon Ball Kai , a story that finds Gokuu and his friends and family constantly defending the galaxy from increasingly more powerful threats. Bizarre, comical, heartwarming and threatening characters come together in a series of battles that push the powers and abilities of Gokuu and his friends beyond anything they have ever experienced.  \n",
       "1                                                                                                                                                                                                                                                                                                                                                                                                                                                       gend says that the enigmatic Millennium Puzzle will grant one wish to whoever deciphers its ancient secrets. Upon solving it, high school student Yuugi Mutou unleashes \"another Yuugi,\" a peculiar presence contained inside. Now, whenever he is faced with a dilemma, this mysterious alter ego makes an appearance and aids him in his troubles. Wishing to unravel the mystery behind this strange spirit, Yuugi and his companions find themselves competing with several opponents in \"Duel Monsters,\" a challenging card game used by people seeking to steal the Millennium Puzzle in a desperate attempt to harness the great power within. As the questions pile on, it is not long before they figure out that there is more than pride on the line in these duels.  \n",
       "0                                                                                                                                                                                                                                                                                                                                                                                                                                                                                                                                                                 oments prior to Naruto Uzumaki's birth, a huge demon known as the Kyuubi, the Nine-Tailed Fox, attacked Konohagakure, the Hidden Leaf Village, and wreaked havoc. In order to put an end to the Kyuubi's rampage, the leader of the village, the Fourth Hokage, sacrificed his life and sealed the monstrous beast inside the newborn Naruto. Now, Naruto is a hyperactive and knuckle-headed ninja still living in Konohagakure. Shunned because of the Kyuubi inside him, Naruto struggles to find his place in the village, while his burning desire to become the Hokage of Konohagakure leads him not only to some great new friends, but also some deadly foes.  "
      ]
     },
     "execution_count": 23,
     "metadata": {},
     "output_type": "execute_result"
    }
   ],
   "source": [
    "find_similar_animes('Dragon Ball Z', n=5, neg=False)"
   ]
  },
  {
   "cell_type": "markdown",
   "id": "272fe9a6",
   "metadata": {
    "papermill": {
     "duration": 0.263283,
     "end_time": "2023-05-17T06:56:17.191562",
     "exception": false,
     "start_time": "2023-05-17T06:56:16.928279",
     "status": "completed"
    },
    "tags": []
   },
   "source": [
    "![](https://64.media.tumblr.com/1b942774dc6d4240cfbb3da22d99a681/tumblr_phsucvmeDT1sivxmj_500.gifv)"
   ]
  },
  {
   "cell_type": "code",
   "execution_count": 24,
   "id": "dd138a8e",
   "metadata": {
    "execution": {
     "iopub.execute_input": "2023-05-17T06:56:17.680513Z",
     "iopub.status.busy": "2023-05-17T06:56:17.678653Z",
     "iopub.status.idle": "2023-05-17T06:56:17.719729Z",
     "shell.execute_reply": "2023-05-17T06:56:17.718721Z"
    },
    "papermill": {
     "duration": 0.291852,
     "end_time": "2023-05-17T06:56:17.723068",
     "exception": false,
     "start_time": "2023-05-17T06:56:17.431216",
     "status": "completed"
    },
    "tags": []
   },
   "outputs": [
    {
     "name": "stdout",
     "output_type": "stream",
     "text": [
      "animes closest to Your Name.\n"
     ]
    },
    {
     "data": {
      "text/html": [
       "<div>\n",
       "<style scoped>\n",
       "    .dataframe tbody tr th:only-of-type {\n",
       "        vertical-align: middle;\n",
       "    }\n",
       "\n",
       "    .dataframe tbody tr th {\n",
       "        vertical-align: top;\n",
       "    }\n",
       "\n",
       "    .dataframe thead th {\n",
       "        text-align: right;\n",
       "    }\n",
       "</style>\n",
       "<table border=\"1\" class=\"dataframe\">\n",
       "  <thead>\n",
       "    <tr style=\"text-align: right;\">\n",
       "      <th></th>\n",
       "      <th>name</th>\n",
       "      <th>similarity</th>\n",
       "      <th>genre</th>\n",
       "      <th>sypnopsis</th>\n",
       "    </tr>\n",
       "  </thead>\n",
       "  <tbody>\n",
       "    <tr>\n",
       "      <th>4</th>\n",
       "      <td>A Silent Voice</td>\n",
       "      <td>0.937453</td>\n",
       "      <td>Drama, School, Shounen</td>\n",
       "      <td>s a wild youth, elementary school student Shouya Ishida sought to beat boredom in the cruelest ways. When the deaf Shouko Nishimiya transfers into his class, Shouya and the rest of his class thoughtlessly bully her for fun. However, when her mother notifies the school, he is singled out and blamed for everything done to her. With Shouko transferring out of the school, Shouya is left at the mercy of his classmates. He is heartlessly ostracized all throughout elementary and middle school, while teachers turn a blind eye. Now in his third year of high school, Shouya is still plagued by his wrongdoings as a young boy. Sincerely regretting his past actions, he sets out on a journey of redemption: to meet Shouko once more and make amends. Koe no Katachi tells the heartwarming tale of Shouya's reunion with Shouko and his honest attempts to redeem himself, all while being continually haunted by the shadows of his past.</td>\n",
       "    </tr>\n",
       "    <tr>\n",
       "      <th>3</th>\n",
       "      <td>Your Lie in April</td>\n",
       "      <td>0.689072</td>\n",
       "      <td>Drama, Music, Romance, School, Shounen</td>\n",
       "      <td>usic accompanies the path of the human metronome, the prodigious pianist Kousei Arima. But after the passing of his mother, Saki Arima, Kousei falls into a downward spiral, rendering him unable to hear the sound of his own piano. Two years later, Kousei still avoids the piano, leaving behind his admirers and rivals, and lives a colorless life alongside his friends Tsubaki Sawabe and Ryouta Watari. However, everything changes when he meets a beautiful violinist, Kaori Miyazono, who stirs up his world and sets him on a journey to face music again. Based on the manga series of the same name, Shigatsu wa Kimi no Uso approaches the story of Kousei's recovery as he discovers that music is more than playing each note perfectly, and a single melody can bring in the fresh spring air of April.</td>\n",
       "    </tr>\n",
       "    <tr>\n",
       "      <th>2</th>\n",
       "      <td>ERASED</td>\n",
       "      <td>0.665720</td>\n",
       "      <td>Mystery, Psychological, Supernatural, Seinen</td>\n",
       "      <td>hen tragedy is about to strike, Satoru Fujinuma finds himself sent back several minutes before the accident occurs. The detached, 29-year-old manga artist has taken advantage of this powerful yet mysterious phenomenon, which he calls \"Revival,\" to save many lives. However, when he is wrongfully accused of murdering someone close to him, Satoru is sent back to the past once again, but this time to 1988, 18 years in the past. Soon, he realizes that the murder may be connected to the abduction and killing of one of his classmates, the solitary and mysterious Kayo Hinazuki, that took place when he was a child. This is his chance to make things right. Boku dake ga Inai Machi follows Satoru in his mission to uncover what truly transpired 18 years ago and prevent the death of his classmate while protecting those he cares about in the present.</td>\n",
       "    </tr>\n",
       "    <tr>\n",
       "      <th>1</th>\n",
       "      <td>Attack on Titan</td>\n",
       "      <td>0.664851</td>\n",
       "      <td>Action, Military, Mystery, Super Power, Drama, Fantasy, Shounen</td>\n",
       "      <td>Centuries ago, mankind was slaughtered to near extinction by monstrous humanoid creatures called titans, forcing humans to hide in fear behind enormous concentric walls. What makes these giants truly terrifying is that their taste for human flesh is not born out of hunger but what appears to be out of pleasure. To ensure their survival, the remnants of humanity began living within defensive barriers, resulting in one hundred years without a single titan encounter. However, that fragile calm is soon shattered when a colossal titan manages to breach the supposedly impregnable outer wall, reigniting the fight for survival against the man-eating abominations. After witnessing a horrific personal loss at the hands of the invading creatures, Eren Yeager dedicates his life to their eradication by enlisting into the Survey Corps, an elite military unit that combats the merciless humanoids outside the protection of the walls. Based on Hajime Isayama's award-winning manga, Shingeki no Kyojin follows Eren, along with his adopted sister Mikasa Ackerman and his childhood friend Armin Arlert, as they join the brutal war against the titans and race to discover a way of defeating them before the last walls are breached.</td>\n",
       "    </tr>\n",
       "    <tr>\n",
       "      <th>0</th>\n",
       "      <td>Re:ZERO -Starting Life in Another World-</td>\n",
       "      <td>0.662880</td>\n",
       "      <td>Psychological, Drama, Thriller, Fantasy</td>\n",
       "      <td>hen Subaru Natsuki leaves the convenience store, the last thing he expects is to be wrenched from his everyday life and dropped into a fantasy world. Things aren't looking good for the bewildered teenager; however, not long after his arrival, he is attacked by some thugs. Armed with only a bag of groceries and a now useless cell phone, he is quickly beaten to a pulp. Fortunately, a mysterious beauty named Satella, in hot pursuit after the one who stole her insignia, happens upon Subaru and saves him. In order to thank the honest and kindhearted girl, Subaru offers to help in her search, and later that night, he even finds the whereabouts of that which she seeks. But unbeknownst to them, a much darker force stalks the pair from the shadows, and just minutes after locating the insignia, Subaru and Satella are brutally murdered. However, Subaru immediately reawakens to a familiar scene—confronted by the same group of thugs, meeting Satella all over again—the enigma deepens as history inexplicably repeats itself.</td>\n",
       "    </tr>\n",
       "  </tbody>\n",
       "</table>\n",
       "</div>"
      ],
      "text/plain": [
       "                                       name  similarity  \\\n",
       "4                            A Silent Voice    0.937453   \n",
       "3                         Your Lie in April    0.689072   \n",
       "2                                    ERASED    0.665720   \n",
       "1                           Attack on Titan    0.664851   \n",
       "0  Re:ZERO -Starting Life in Another World-    0.662880   \n",
       "\n",
       "                                                             genre  \\\n",
       "4                                           Drama, School, Shounen   \n",
       "3                           Drama, Music, Romance, School, Shounen   \n",
       "2                     Mystery, Psychological, Supernatural, Seinen   \n",
       "1  Action, Military, Mystery, Super Power, Drama, Fantasy, Shounen   \n",
       "0                          Psychological, Drama, Thriller, Fantasy   \n",
       "\n",
       "                                                                                                                                                                                                                                                                                                                                                                                                                                                                                                                                                                                                                                                                                                                                                                                                                                                                                                                                                                                                                                                                                                                                                                                                                                                                 sypnopsis  \n",
       "4                                                                                                                                                                                                                                                                                                             s a wild youth, elementary school student Shouya Ishida sought to beat boredom in the cruelest ways. When the deaf Shouko Nishimiya transfers into his class, Shouya and the rest of his class thoughtlessly bully her for fun. However, when her mother notifies the school, he is singled out and blamed for everything done to her. With Shouko transferring out of the school, Shouya is left at the mercy of his classmates. He is heartlessly ostracized all throughout elementary and middle school, while teachers turn a blind eye. Now in his third year of high school, Shouya is still plagued by his wrongdoings as a young boy. Sincerely regretting his past actions, he sets out on a journey of redemption: to meet Shouko once more and make amends. Koe no Katachi tells the heartwarming tale of Shouya's reunion with Shouko and his honest attempts to redeem himself, all while being continually haunted by the shadows of his past.  \n",
       "3                                                                                                                                                                                                                                                                                                                                                                                                                                               usic accompanies the path of the human metronome, the prodigious pianist Kousei Arima. But after the passing of his mother, Saki Arima, Kousei falls into a downward spiral, rendering him unable to hear the sound of his own piano. Two years later, Kousei still avoids the piano, leaving behind his admirers and rivals, and lives a colorless life alongside his friends Tsubaki Sawabe and Ryouta Watari. However, everything changes when he meets a beautiful violinist, Kaori Miyazono, who stirs up his world and sets him on a journey to face music again. Based on the manga series of the same name, Shigatsu wa Kimi no Uso approaches the story of Kousei's recovery as he discovers that music is more than playing each note perfectly, and a single melody can bring in the fresh spring air of April.  \n",
       "2                                                                                                                                                                                                                                                                                                                                                                                          hen tragedy is about to strike, Satoru Fujinuma finds himself sent back several minutes before the accident occurs. The detached, 29-year-old manga artist has taken advantage of this powerful yet mysterious phenomenon, which he calls \"Revival,\" to save many lives. However, when he is wrongfully accused of murdering someone close to him, Satoru is sent back to the past once again, but this time to 1988, 18 years in the past. Soon, he realizes that the murder may be connected to the abduction and killing of one of his classmates, the solitary and mysterious Kayo Hinazuki, that took place when he was a child. This is his chance to make things right. Boku dake ga Inai Machi follows Satoru in his mission to uncover what truly transpired 18 years ago and prevent the death of his classmate while protecting those he cares about in the present.  \n",
       "1  Centuries ago, mankind was slaughtered to near extinction by monstrous humanoid creatures called titans, forcing humans to hide in fear behind enormous concentric walls. What makes these giants truly terrifying is that their taste for human flesh is not born out of hunger but what appears to be out of pleasure. To ensure their survival, the remnants of humanity began living within defensive barriers, resulting in one hundred years without a single titan encounter. However, that fragile calm is soon shattered when a colossal titan manages to breach the supposedly impregnable outer wall, reigniting the fight for survival against the man-eating abominations. After witnessing a horrific personal loss at the hands of the invading creatures, Eren Yeager dedicates his life to their eradication by enlisting into the Survey Corps, an elite military unit that combats the merciless humanoids outside the protection of the walls. Based on Hajime Isayama's award-winning manga, Shingeki no Kyojin follows Eren, along with his adopted sister Mikasa Ackerman and his childhood friend Armin Arlert, as they join the brutal war against the titans and race to discover a way of defeating them before the last walls are breached.  \n",
       "0                                                                                                                                                                                                         hen Subaru Natsuki leaves the convenience store, the last thing he expects is to be wrenched from his everyday life and dropped into a fantasy world. Things aren't looking good for the bewildered teenager; however, not long after his arrival, he is attacked by some thugs. Armed with only a bag of groceries and a now useless cell phone, he is quickly beaten to a pulp. Fortunately, a mysterious beauty named Satella, in hot pursuit after the one who stole her insignia, happens upon Subaru and saves him. In order to thank the honest and kindhearted girl, Subaru offers to help in her search, and later that night, he even finds the whereabouts of that which she seeks. But unbeknownst to them, a much darker force stalks the pair from the shadows, and just minutes after locating the insignia, Subaru and Satella are brutally murdered. However, Subaru immediately reawakens to a familiar scene—confronted by the same group of thugs, meeting Satella all over again—the enigma deepens as history inexplicably repeats itself.  "
      ]
     },
     "execution_count": 24,
     "metadata": {},
     "output_type": "execute_result"
    }
   ],
   "source": [
    "find_similar_animes('Your Name.', n=5, neg=False)"
   ]
  },
  {
   "cell_type": "markdown",
   "id": "d914d579",
   "metadata": {
    "papermill": {
     "duration": 0.253153,
     "end_time": "2023-05-17T06:56:18.237987",
     "exception": false,
     "start_time": "2023-05-17T06:56:17.984834",
     "status": "completed"
    },
    "tags": []
   },
   "source": [
    "![](https://i.pinimg.com/originals/26/fd/49/26fd49fa54b204fbaf6301efefd53ae2.gif)"
   ]
  },
  {
   "cell_type": "code",
   "execution_count": 25,
   "id": "3bfe0444",
   "metadata": {
    "execution": {
     "iopub.execute_input": "2023-05-17T06:56:18.768267Z",
     "iopub.status.busy": "2023-05-17T06:56:18.767921Z",
     "iopub.status.idle": "2023-05-17T06:56:18.792712Z",
     "shell.execute_reply": "2023-05-17T06:56:18.791647Z"
    },
    "papermill": {
     "duration": 0.258581,
     "end_time": "2023-05-17T06:56:18.796298",
     "exception": false,
     "start_time": "2023-05-17T06:56:18.537717",
     "status": "completed"
    },
    "tags": []
   },
   "outputs": [
    {
     "name": "stdout",
     "output_type": "stream",
     "text": [
      "animes closest to Sword Art Online\n"
     ]
    },
    {
     "data": {
      "text/html": [
       "<div>\n",
       "<style scoped>\n",
       "    .dataframe tbody tr th:only-of-type {\n",
       "        vertical-align: middle;\n",
       "    }\n",
       "\n",
       "    .dataframe tbody tr th {\n",
       "        vertical-align: top;\n",
       "    }\n",
       "\n",
       "    .dataframe thead th {\n",
       "        text-align: right;\n",
       "    }\n",
       "</style>\n",
       "<table border=\"1\" class=\"dataframe\">\n",
       "  <thead>\n",
       "    <tr style=\"text-align: right;\">\n",
       "      <th></th>\n",
       "      <th>name</th>\n",
       "      <th>similarity</th>\n",
       "      <th>genre</th>\n",
       "      <th>sypnopsis</th>\n",
       "    </tr>\n",
       "  </thead>\n",
       "  <tbody>\n",
       "    <tr>\n",
       "      <th>4</th>\n",
       "      <td>Sword Art Online II</td>\n",
       "      <td>0.878826</td>\n",
       "      <td>Action, Game, Adventure, Romance, Fantasy</td>\n",
       "      <td>ar after escaping Sword Art Online, Kazuto Kirigaya has been settling back into the real world. However, his peace is short-lived as a new incident occurs in a game called Gun Gale Online, where a player by the name of Death Gun appears to be killing people in the real world by shooting them in-game. Approached by officials to assist in investigating the murders, Kazuto assumes his persona of Kirito once again and logs into Gun Gale Online, intent on stopping the killer. Once inside, Kirito meets Sinon, a highly skilled sniper afflicted by a traumatic past. She is soon dragged in his chase after Death Gun, and together they enter the Bullet of Bullets, a tournament where their target is sure to appear. Uncertain of Death Gun's real powers, Kirito and Sinon race to stop him before he has the chance to claim another life. Not everything goes smoothly, however, as scars from the past impede their progress. In a high-stakes game where the next victim could easily be one of them, Kirito puts his life on the line in the virtual world once more.</td>\n",
       "    </tr>\n",
       "    <tr>\n",
       "      <th>3</th>\n",
       "      <td>No Game, No Life</td>\n",
       "      <td>0.802300</td>\n",
       "      <td>Game, Adventure, Comedy, Supernatural, Ecchi, Fantasy</td>\n",
       "      <td>No Game No Life is a surreal comedy that follows Sora and Shiro, shut-in NEET siblings and the online gamer duo behind the legendary username \"Blank.\" They view the real world as just another lousy game; however, a strange e-mail challenging them to a chess match changes everything—the brother and sister are plunged into an otherworldly realm where they meet Tet, the God of Games. The mysterious god welcomes Sora and Shiro to Disboard, a world where all forms of conflict—from petty squabbles to the fate of whole countries—are settled not through war, but by way of high-stake games. This system works thanks to a fundamental rule wherein each party must wager something they deem to be of equal value to the other party's wager. In this strange land where the very idea of humanity is reduced to child's play, the indifferent genius gamer duo of Sora and Shiro have finally found a real reason to keep playing games: to unite the sixteen races of Disboard, defeat Tet, and become the gods of this new, gaming-is-everything world.</td>\n",
       "    </tr>\n",
       "    <tr>\n",
       "      <th>2</th>\n",
       "      <td>Attack on Titan</td>\n",
       "      <td>0.756056</td>\n",
       "      <td>Action, Military, Mystery, Super Power, Drama, Fantasy, Shounen</td>\n",
       "      <td>Centuries ago, mankind was slaughtered to near extinction by monstrous humanoid creatures called titans, forcing humans to hide in fear behind enormous concentric walls. What makes these giants truly terrifying is that their taste for human flesh is not born out of hunger but what appears to be out of pleasure. To ensure their survival, the remnants of humanity began living within defensive barriers, resulting in one hundred years without a single titan encounter. However, that fragile calm is soon shattered when a colossal titan manages to breach the supposedly impregnable outer wall, reigniting the fight for survival against the man-eating abominations. After witnessing a horrific personal loss at the hands of the invading creatures, Eren Yeager dedicates his life to their eradication by enlisting into the Survey Corps, an elite military unit that combats the merciless humanoids outside the protection of the walls. Based on Hajime Isayama's award-winning manga, Shingeki no Kyojin follows Eren, along with his adopted sister Mikasa Ackerman and his childhood friend Armin Arlert, as they join the brutal war against the titans and race to discover a way of defeating them before the last walls are breached.</td>\n",
       "    </tr>\n",
       "    <tr>\n",
       "      <th>1</th>\n",
       "      <td>Tokyo Ghoul</td>\n",
       "      <td>0.719264</td>\n",
       "      <td>Action, Mystery, Horror, Psychological, Supernatural, Drama, Seinen</td>\n",
       "      <td>Tokyo has become a cruel and merciless city—a place where vicious creatures called \"ghouls\" exist alongside humans. The citizens of this once great metropolis live in constant fear of these bloodthirsty savages and their thirst for human flesh. However, the greatest threat these ghouls pose is their dangerous ability to masquerade as humans and blend in with society. Based on the best-selling supernatural horror manga by Sui Ishida, Tokyo Ghoul follows Ken Kaneki, a shy, bookish college student, who is instantly drawn to Rize Kamishiro, an avid reader like himself. However, Rize is not exactly who she seems, and this unfortunate meeting pushes Kaneki into the dark depths of the ghouls' inhuman world. In a twist of fate, Kaneki is saved by the enigmatic waitress Touka Kirishima, and thus begins his new, secret life as a half-ghoul/half-human who must find a way to integrate into both societies.</td>\n",
       "    </tr>\n",
       "    <tr>\n",
       "      <th>0</th>\n",
       "      <td>The Future Diary</td>\n",
       "      <td>0.702431</td>\n",
       "      <td>Action, Mystery, Psychological, Shounen, Supernatural, Thriller</td>\n",
       "      <td>onely high school student, Yukiteru Amano, spends his days writing a diary on his cellphone, while conversing with his two seemingly imaginary friends Deus Ex Machina, who is the god of time and space, and Murmur, the god's servant. Revealing himself to be an actual entity, Deus grants Yukiteru a \"Random Diary,\" which shows highly descriptive entries based on the future and forces him into a bloody battle royale with 11 other holders of similarly powerful future diaries. With the last person standing designated as the new god of time and space, Yukiteru must find and kill the other 11 in order to survive. He reluctantly teams up with his obsessive stalker Yuno Gasai (who also possesses such a diary), and she takes it upon herself to ensure his safety. But there's more to the girl than meets the eye, as she might have other plans for her unrequited love...</td>\n",
       "    </tr>\n",
       "  </tbody>\n",
       "</table>\n",
       "</div>"
      ],
      "text/plain": [
       "                  name  similarity  \\\n",
       "4  Sword Art Online II    0.878826   \n",
       "3     No Game, No Life    0.802300   \n",
       "2      Attack on Titan    0.756056   \n",
       "1          Tokyo Ghoul    0.719264   \n",
       "0     The Future Diary    0.702431   \n",
       "\n",
       "                                                                 genre  \\\n",
       "4                            Action, Game, Adventure, Romance, Fantasy   \n",
       "3                Game, Adventure, Comedy, Supernatural, Ecchi, Fantasy   \n",
       "2      Action, Military, Mystery, Super Power, Drama, Fantasy, Shounen   \n",
       "1  Action, Mystery, Horror, Psychological, Supernatural, Drama, Seinen   \n",
       "0      Action, Mystery, Psychological, Shounen, Supernatural, Thriller   \n",
       "\n",
       "                                                                                                                                                                                                                                                                                                                                                                                                                                                                                                                                                                                                                                                                                                                                                                                                                                                                                                                                                                                                                                                                                                                                                                                                                                                                 sypnopsis  \n",
       "4                                                                                                                                                                           ar after escaping Sword Art Online, Kazuto Kirigaya has been settling back into the real world. However, his peace is short-lived as a new incident occurs in a game called Gun Gale Online, where a player by the name of Death Gun appears to be killing people in the real world by shooting them in-game. Approached by officials to assist in investigating the murders, Kazuto assumes his persona of Kirito once again and logs into Gun Gale Online, intent on stopping the killer. Once inside, Kirito meets Sinon, a highly skilled sniper afflicted by a traumatic past. She is soon dragged in his chase after Death Gun, and together they enter the Bullet of Bullets, a tournament where their target is sure to appear. Uncertain of Death Gun's real powers, Kirito and Sinon race to stop him before he has the chance to claim another life. Not everything goes smoothly, however, as scars from the past impede their progress. In a high-stakes game where the next victim could easily be one of them, Kirito puts his life on the line in the virtual world once more.  \n",
       "3                                                                                                                                                                                              No Game No Life is a surreal comedy that follows Sora and Shiro, shut-in NEET siblings and the online gamer duo behind the legendary username \"Blank.\" They view the real world as just another lousy game; however, a strange e-mail challenging them to a chess match changes everything—the brother and sister are plunged into an otherworldly realm where they meet Tet, the God of Games. The mysterious god welcomes Sora and Shiro to Disboard, a world where all forms of conflict—from petty squabbles to the fate of whole countries—are settled not through war, but by way of high-stake games. This system works thanks to a fundamental rule wherein each party must wager something they deem to be of equal value to the other party's wager. In this strange land where the very idea of humanity is reduced to child's play, the indifferent genius gamer duo of Sora and Shiro have finally found a real reason to keep playing games: to unite the sixteen races of Disboard, defeat Tet, and become the gods of this new, gaming-is-everything world.  \n",
       "2  Centuries ago, mankind was slaughtered to near extinction by monstrous humanoid creatures called titans, forcing humans to hide in fear behind enormous concentric walls. What makes these giants truly terrifying is that their taste for human flesh is not born out of hunger but what appears to be out of pleasure. To ensure their survival, the remnants of humanity began living within defensive barriers, resulting in one hundred years without a single titan encounter. However, that fragile calm is soon shattered when a colossal titan manages to breach the supposedly impregnable outer wall, reigniting the fight for survival against the man-eating abominations. After witnessing a horrific personal loss at the hands of the invading creatures, Eren Yeager dedicates his life to their eradication by enlisting into the Survey Corps, an elite military unit that combats the merciless humanoids outside the protection of the walls. Based on Hajime Isayama's award-winning manga, Shingeki no Kyojin follows Eren, along with his adopted sister Mikasa Ackerman and his childhood friend Armin Arlert, as they join the brutal war against the titans and race to discover a way of defeating them before the last walls are breached.  \n",
       "1                                                                                                                                                                                                                                                                                                                               Tokyo has become a cruel and merciless city—a place where vicious creatures called \"ghouls\" exist alongside humans. The citizens of this once great metropolis live in constant fear of these bloodthirsty savages and their thirst for human flesh. However, the greatest threat these ghouls pose is their dangerous ability to masquerade as humans and blend in with society. Based on the best-selling supernatural horror manga by Sui Ishida, Tokyo Ghoul follows Ken Kaneki, a shy, bookish college student, who is instantly drawn to Rize Kamishiro, an avid reader like himself. However, Rize is not exactly who she seems, and this unfortunate meeting pushes Kaneki into the dark depths of the ghouls' inhuman world. In a twist of fate, Kaneki is saved by the enigmatic waitress Touka Kirishima, and thus begins his new, secret life as a half-ghoul/half-human who must find a way to integrate into both societies.  \n",
       "0                                                                                                                                                                                                                                                                                                                                                                      onely high school student, Yukiteru Amano, spends his days writing a diary on his cellphone, while conversing with his two seemingly imaginary friends Deus Ex Machina, who is the god of time and space, and Murmur, the god's servant. Revealing himself to be an actual entity, Deus grants Yukiteru a \"Random Diary,\" which shows highly descriptive entries based on the future and forces him into a bloody battle royale with 11 other holders of similarly powerful future diaries. With the last person standing designated as the new god of time and space, Yukiteru must find and kill the other 11 in order to survive. He reluctantly teams up with his obsessive stalker Yuno Gasai (who also possesses such a diary), and she takes it upon herself to ensure his safety. But there's more to the girl than meets the eye, as she might have other plans for her unrequited love...  "
      ]
     },
     "execution_count": 25,
     "metadata": {},
     "output_type": "execute_result"
    }
   ],
   "source": [
    "find_similar_animes('Sword Art Online', n=5, neg=False)"
   ]
  },
  {
   "cell_type": "markdown",
   "id": "9e8ca9ae",
   "metadata": {
    "papermill": {
     "duration": 0.226593,
     "end_time": "2023-05-17T06:56:19.273908",
     "exception": false,
     "start_time": "2023-05-17T06:56:19.047315",
     "status": "completed"
    },
    "tags": []
   },
   "source": [
    "![](https://steamuserimages-a.akamaihd.net/ugc/993512070845192516/C18040A95DB14DD58438DDDEBF721BA8ABAD0E84/)"
   ]
  },
  {
   "cell_type": "code",
   "execution_count": 26,
   "id": "5e5ebe7b",
   "metadata": {
    "execution": {
     "iopub.execute_input": "2023-05-17T06:56:19.722629Z",
     "iopub.status.busy": "2023-05-17T06:56:19.721707Z",
     "iopub.status.idle": "2023-05-17T06:56:19.749109Z",
     "shell.execute_reply": "2023-05-17T06:56:19.748144Z"
    },
    "papermill": {
     "duration": 0.256917,
     "end_time": "2023-05-17T06:56:19.751197",
     "exception": false,
     "start_time": "2023-05-17T06:56:19.494280",
     "status": "completed"
    },
    "tags": []
   },
   "outputs": [
    {
     "name": "stdout",
     "output_type": "stream",
     "text": [
      "animes closest to Black Clover\n"
     ]
    },
    {
     "data": {
      "text/html": [
       "<div>\n",
       "<style scoped>\n",
       "    .dataframe tbody tr th:only-of-type {\n",
       "        vertical-align: middle;\n",
       "    }\n",
       "\n",
       "    .dataframe tbody tr th {\n",
       "        vertical-align: top;\n",
       "    }\n",
       "\n",
       "    .dataframe thead th {\n",
       "        text-align: right;\n",
       "    }\n",
       "</style>\n",
       "<table border=\"1\" class=\"dataframe\">\n",
       "  <thead>\n",
       "    <tr style=\"text-align: right;\">\n",
       "      <th></th>\n",
       "      <th>name</th>\n",
       "      <th>similarity</th>\n",
       "      <th>genre</th>\n",
       "      <th>sypnopsis</th>\n",
       "    </tr>\n",
       "  </thead>\n",
       "  <tbody>\n",
       "    <tr>\n",
       "      <th>4</th>\n",
       "      <td>Boruto:Naruto Next Generations</td>\n",
       "      <td>0.742775</td>\n",
       "      <td>Action, Adventure, Super Power, Martial Arts, Shounen</td>\n",
       "      <td>Following the successful end of the Fourth Shinobi World War, Konohagakure has been enjoying a period of peace, prosperity, and extraordinary technological advancement. This is all due to the efforts of the Allied Shinobi Forces and the village's Seventh Hokage, Naruto Uzumaki. Now resembling a modern metropolis, Konohagakure has changed, particularly the life of a shinobi. Under the watchful eye of Naruto and his old comrades, a new generation of shinobi has stepped up to learn the ways of the ninja. Boruto Uzumaki is often the center of attention as the son of the Seventh Hokage. Despite having inherited Naruto's boisterous and stubborn demeanor, Boruto is considered a prodigy and is able to unleash his potential with the help of supportive friends and family. Unfortunately, this has only worsened his arrogance and his desire to surpass Naruto which, along with his father's busy lifestyle, has strained their relationship. However, a sinister force brewing within the village may threaten Boruto's carefree life. New friends and familiar faces join Boruto as a new story begins in Boruto: Naruto Next Generations .</td>\n",
       "    </tr>\n",
       "    <tr>\n",
       "      <th>3</th>\n",
       "      <td>Jujutsu Kaisen (TV)</td>\n",
       "      <td>0.553795</td>\n",
       "      <td>Action, Demons, Supernatural, School, Shounen</td>\n",
       "      <td>Idly indulging in baseless paranormal activities with the Occult Club, high schooler Yuuji Itadori spends his days at either the clubroom or the hospital, where he visits his bedridden grandfather. However, this leisurely lifestyle soon takes a turn for the strange when he unknowingly encounters a cursed item. Triggering a chain of supernatural occurrences, Yuuji finds himself suddenly thrust into the world of Curses—dreadful beings formed from human malice and negativity—after swallowing the said item, revealed to be a finger belonging to the demon Sukuna Ryoumen, the \"King of Curses.\" Yuuji experiences first-hand the threat these Curses pose to society as he discovers his own newfound powers. Introduced to the Tokyo Metropolitan Jujutsu Technical High School, he begins to walk down a path from which he cannot return—the path of a Jujutsu sorcerer.</td>\n",
       "    </tr>\n",
       "    <tr>\n",
       "      <th>2</th>\n",
       "      <td>Super Dragon Ball Heroes</td>\n",
       "      <td>0.545512</td>\n",
       "      <td>Action, Comedy, Super Power, Martial Arts, Fantasy, Shounen</td>\n",
       "      <td>In May 2018, V-Jump announced a promotional anime for Dragon Ball Heroes , a Japanese arcade and trading card game that has never been released in the West. The anime is expected to be short and it is not expected to broadcast on TV. It will adapt the game's Prison Planet Arc, fully detailed in the Heroes manga published in Saikyou Jump, which has never been published in English. The first episode will debut July 1, 2018 at Aeon Lake Town.</td>\n",
       "    </tr>\n",
       "    <tr>\n",
       "      <th>1</th>\n",
       "      <td>One Piece</td>\n",
       "      <td>0.496720</td>\n",
       "      <td>Action, Adventure, Comedy, Super Power, Drama, Fantasy, Shounen</td>\n",
       "      <td>Gol D. Roger was known as the \"Pirate King,\" the strongest and most infamous being to have sailed the Grand Line. The capture and execution of Roger by the World Government brought a change throughout the world. His last words before his death revealed the existence of the greatest treasure in the world, One Piece. It was this revelation that brought about the Grand Age of Pirates, men who dreamed of finding One Piece—which promises an unlimited amount of riches and fame—and quite possibly the pinnacle of glory and the title of the Pirate King. Enter Monkey D. Luffy, a 17-year-old boy who defies your standard definition of a pirate. Rather than the popular persona of a wicked, hardened, toothless pirate ransacking villages for fun, Luffy's reason for being a pirate is one of pure wonder: the thought of an exciting adventure that leads him to intriguing people and ultimately, the promised treasure. Following in the footsteps of his childhood hero, Luffy and his crew travel across the Grand Line, experiencing crazy adventures, unveiling dark mysteries and battling strong enemies, all in order to reach the most coveted of all fortunes—One Piece.</td>\n",
       "    </tr>\n",
       "    <tr>\n",
       "      <th>0</th>\n",
       "      <td>Pokemon Journeys:The Series</td>\n",
       "      <td>0.489664</td>\n",
       "      <td>Action, Adventure, Comedy, Kids, Fantasy</td>\n",
       "      <td>On a new day in the Kanto region, Satoshi gets invited by Professor Yukinari Ookido over to Professor Sakuragi's lab-opening ceremony in Vermillion City. During the ceremonial speech, Professor Sakuragi receives an alert of a possibly rare Pokémon appearing in Vermillion City's harbor, leading Satoshi and the other trainers to rush to the area in hopes of finding the mysterious Pokémon. At the harbor, they find Lugia—a Legendary Pokémon—engaged in combat with other trainers. Noticing the other trainers' tactics, Satoshi has his partner, Pikachu, strike Lugia with a Thunderbolt attack. Unfazed, Lugia flees, but not before Satoshi determinedly leaps onto its back. To Satoshi's surprise, he meets another boy, Gou, who leapt onto Lugia's back as well. The two ride on Lugia's back as it brings them along on a bizarre adventure across the seas. As it lets the two back on the ground, Satoshi and Gou bid their farewells to Lugia and return to Sakuragi Institute. Impressed by Gou's findings and Satoshi's insight taken during their encounter, Sakuragi requests for the duo to be his new research partners. And so the duo's journey begins, traveling across multiple regions to meet many new Pokémon—including ones that have the ability to Gigantamax!</td>\n",
       "    </tr>\n",
       "  </tbody>\n",
       "</table>\n",
       "</div>"
      ],
      "text/plain": [
       "                             name  similarity  \\\n",
       "4  Boruto:Naruto Next Generations    0.742775   \n",
       "3             Jujutsu Kaisen (TV)    0.553795   \n",
       "2        Super Dragon Ball Heroes    0.545512   \n",
       "1                       One Piece    0.496720   \n",
       "0     Pokemon Journeys:The Series    0.489664   \n",
       "\n",
       "                                                             genre  \\\n",
       "4            Action, Adventure, Super Power, Martial Arts, Shounen   \n",
       "3                    Action, Demons, Supernatural, School, Shounen   \n",
       "2      Action, Comedy, Super Power, Martial Arts, Fantasy, Shounen   \n",
       "1  Action, Adventure, Comedy, Super Power, Drama, Fantasy, Shounen   \n",
       "0                         Action, Adventure, Comedy, Kids, Fantasy   \n",
       "\n",
       "                                                                                                                                                                                                                                                                                                                                                                                                                                                                                                                                                                                                                                                                                                                                                                                                                                                                                                                                                                                                                                                                                                                                                                                                                                                                                                 sypnopsis  \n",
       "4                                                                                                                                Following the successful end of the Fourth Shinobi World War, Konohagakure has been enjoying a period of peace, prosperity, and extraordinary technological advancement. This is all due to the efforts of the Allied Shinobi Forces and the village's Seventh Hokage, Naruto Uzumaki. Now resembling a modern metropolis, Konohagakure has changed, particularly the life of a shinobi. Under the watchful eye of Naruto and his old comrades, a new generation of shinobi has stepped up to learn the ways of the ninja. Boruto Uzumaki is often the center of attention as the son of the Seventh Hokage. Despite having inherited Naruto's boisterous and stubborn demeanor, Boruto is considered a prodigy and is able to unleash his potential with the help of supportive friends and family. Unfortunately, this has only worsened his arrogance and his desire to surpass Naruto which, along with his father's busy lifestyle, has strained their relationship. However, a sinister force brewing within the village may threaten Boruto's carefree life. New friends and familiar faces join Boruto as a new story begins in Boruto: Naruto Next Generations .  \n",
       "3                                                                                                                                                                                                                                                                                                                                                                                                            Idly indulging in baseless paranormal activities with the Occult Club, high schooler Yuuji Itadori spends his days at either the clubroom or the hospital, where he visits his bedridden grandfather. However, this leisurely lifestyle soon takes a turn for the strange when he unknowingly encounters a cursed item. Triggering a chain of supernatural occurrences, Yuuji finds himself suddenly thrust into the world of Curses—dreadful beings formed from human malice and negativity—after swallowing the said item, revealed to be a finger belonging to the demon Sukuna Ryoumen, the \"King of Curses.\" Yuuji experiences first-hand the threat these Curses pose to society as he discovers his own newfound powers. Introduced to the Tokyo Metropolitan Jujutsu Technical High School, he begins to walk down a path from which he cannot return—the path of a Jujutsu sorcerer.  \n",
       "2                                                                                                                                                                                                                                                                                                                                                                                                                                                                                                                                                                                                                                                                                                                                                                                                                                              In May 2018, V-Jump announced a promotional anime for Dragon Ball Heroes , a Japanese arcade and trading card game that has never been released in the West. The anime is expected to be short and it is not expected to broadcast on TV. It will adapt the game's Prison Planet Arc, fully detailed in the Heroes manga published in Saikyou Jump, which has never been published in English. The first episode will debut July 1, 2018 at Aeon Lake Town.  \n",
       "1                                                                                                 Gol D. Roger was known as the \"Pirate King,\" the strongest and most infamous being to have sailed the Grand Line. The capture and execution of Roger by the World Government brought a change throughout the world. His last words before his death revealed the existence of the greatest treasure in the world, One Piece. It was this revelation that brought about the Grand Age of Pirates, men who dreamed of finding One Piece—which promises an unlimited amount of riches and fame—and quite possibly the pinnacle of glory and the title of the Pirate King. Enter Monkey D. Luffy, a 17-year-old boy who defies your standard definition of a pirate. Rather than the popular persona of a wicked, hardened, toothless pirate ransacking villages for fun, Luffy's reason for being a pirate is one of pure wonder: the thought of an exciting adventure that leads him to intriguing people and ultimately, the promised treasure. Following in the footsteps of his childhood hero, Luffy and his crew travel across the Grand Line, experiencing crazy adventures, unveiling dark mysteries and battling strong enemies, all in order to reach the most coveted of all fortunes—One Piece.  \n",
       "0  On a new day in the Kanto region, Satoshi gets invited by Professor Yukinari Ookido over to Professor Sakuragi's lab-opening ceremony in Vermillion City. During the ceremonial speech, Professor Sakuragi receives an alert of a possibly rare Pokémon appearing in Vermillion City's harbor, leading Satoshi and the other trainers to rush to the area in hopes of finding the mysterious Pokémon. At the harbor, they find Lugia—a Legendary Pokémon—engaged in combat with other trainers. Noticing the other trainers' tactics, Satoshi has his partner, Pikachu, strike Lugia with a Thunderbolt attack. Unfazed, Lugia flees, but not before Satoshi determinedly leaps onto its back. To Satoshi's surprise, he meets another boy, Gou, who leapt onto Lugia's back as well. The two ride on Lugia's back as it brings them along on a bizarre adventure across the seas. As it lets the two back on the ground, Satoshi and Gou bid their farewells to Lugia and return to Sakuragi Institute. Impressed by Gou's findings and Satoshi's insight taken during their encounter, Sakuragi requests for the duo to be his new research partners. And so the duo's journey begins, traveling across multiple regions to meet many new Pokémon—including ones that have the ability to Gigantamax!  "
      ]
     },
     "execution_count": 26,
     "metadata": {},
     "output_type": "execute_result"
    }
   ],
   "source": [
    "find_similar_animes('Black Clover', n=5, neg=False)"
   ]
  },
  {
   "cell_type": "code",
   "execution_count": 27,
   "id": "aabe7a73",
   "metadata": {
    "execution": {
     "iopub.execute_input": "2023-05-17T06:56:20.218285Z",
     "iopub.status.busy": "2023-05-17T06:56:20.217820Z",
     "iopub.status.idle": "2023-05-17T06:56:20.243587Z",
     "shell.execute_reply": "2023-05-17T06:56:20.242739Z"
    },
    "papermill": {
     "duration": 0.248651,
     "end_time": "2023-05-17T06:56:20.245629",
     "exception": false,
     "start_time": "2023-05-17T06:56:19.996978",
     "status": "completed"
    },
    "tags": []
   },
   "outputs": [
    {
     "name": "stdout",
     "output_type": "stream",
     "text": [
      "animes closest to Death Note\n"
     ]
    },
    {
     "data": {
      "text/html": [
       "<div>\n",
       "<style scoped>\n",
       "    .dataframe tbody tr th:only-of-type {\n",
       "        vertical-align: middle;\n",
       "    }\n",
       "\n",
       "    .dataframe tbody tr th {\n",
       "        vertical-align: top;\n",
       "    }\n",
       "\n",
       "    .dataframe thead th {\n",
       "        text-align: right;\n",
       "    }\n",
       "</style>\n",
       "<table border=\"1\" class=\"dataframe\">\n",
       "  <thead>\n",
       "    <tr style=\"text-align: right;\">\n",
       "      <th></th>\n",
       "      <th>name</th>\n",
       "      <th>similarity</th>\n",
       "      <th>genre</th>\n",
       "      <th>sypnopsis</th>\n",
       "    </tr>\n",
       "  </thead>\n",
       "  <tbody>\n",
       "    <tr>\n",
       "      <th>4</th>\n",
       "      <td>Attack on Titan</td>\n",
       "      <td>0.824082</td>\n",
       "      <td>Action, Military, Mystery, Super Power, Drama, Fantasy, Shounen</td>\n",
       "      <td>Centuries ago, mankind was slaughtered to near extinction by monstrous humanoid creatures called titans, forcing humans to hide in fear behind enormous concentric walls. What makes these giants truly terrifying is that their taste for human flesh is not born out of hunger but what appears to be out of pleasure. To ensure their survival, the remnants of humanity began living within defensive barriers, resulting in one hundred years without a single titan encounter. However, that fragile calm is soon shattered when a colossal titan manages to breach the supposedly impregnable outer wall, reigniting the fight for survival against the man-eating abominations. After witnessing a horrific personal loss at the hands of the invading creatures, Eren Yeager dedicates his life to their eradication by enlisting into the Survey Corps, an elite military unit that combats the merciless humanoids outside the protection of the walls. Based on Hajime Isayama's award-winning manga, Shingeki no Kyojin follows Eren, along with his adopted sister Mikasa Ackerman and his childhood friend Armin Arlert, as they join the brutal war against the titans and race to discover a way of defeating them before the last walls are breached.</td>\n",
       "    </tr>\n",
       "    <tr>\n",
       "      <th>3</th>\n",
       "      <td>Code Geass:Lelouch of the Rebellion R2</td>\n",
       "      <td>0.781122</td>\n",
       "      <td>Action, Military, Sci-Fi, Super Power, Drama, Mecha</td>\n",
       "      <td>One year has passed since the Black Rebellion, a failed uprising against the Holy Britannian Empire led by the masked vigilante Zero, who is now missing. At a loss without their revolutionary leader, Area 11's resistance group—the Black Knights—find themselves too powerless to combat the brutality inflicted upon the Elevens by Britannia, which has increased significantly in order to crush any hope of a future revolt. Lelouch Lamperouge, having lost all memory of his double life, is living peacefully alongside his friends as a high school student at Ashford Academy. His former partner C.C., unable to accept this turn of events, takes it upon herself to remind him of his past purpose, hoping that the mastermind Zero will rise once again to finish what he started, in this thrilling conclusion to the series.</td>\n",
       "    </tr>\n",
       "    <tr>\n",
       "      <th>2</th>\n",
       "      <td>Code Geass:Lelouch of the Rebellion</td>\n",
       "      <td>0.773564</td>\n",
       "      <td>Action, Military, Sci-Fi, Super Power, Drama, Mecha, School</td>\n",
       "      <td>In the year 2010, the Holy Empire of Britannia is establishing itself as a dominant military nation, starting with the conquest of Japan. Renamed to Area 11 after its swift defeat, Japan has seen significant resistance against these tyrants in an attempt to regain independence. Lelouch Lamperouge, a Britannian student, unfortunately finds himself caught in a crossfire between the Britannian and the Area 11 rebel armed forces. He is able to escape, however, thanks to the timely appearance of a mysterious girl named C.C., who bestows upon him Geass, the \"Power of Kings.\" Realizing the vast potential of his newfound \"power of absolute obedience,\" Lelouch embarks upon a perilous journey as the masked vigilante known as Zero, leading a merciless onslaught against Britannia in order to get revenge once and for all.</td>\n",
       "    </tr>\n",
       "    <tr>\n",
       "      <th>1</th>\n",
       "      <td>Naruto</td>\n",
       "      <td>0.751741</td>\n",
       "      <td>Action, Adventure, Comedy, Super Power, Martial Arts, Shounen</td>\n",
       "      <td>oments prior to Naruto Uzumaki's birth, a huge demon known as the Kyuubi, the Nine-Tailed Fox, attacked Konohagakure, the Hidden Leaf Village, and wreaked havoc. In order to put an end to the Kyuubi's rampage, the leader of the village, the Fourth Hokage, sacrificed his life and sealed the monstrous beast inside the newborn Naruto. Now, Naruto is a hyperactive and knuckle-headed ninja still living in Konohagakure. Shunned because of the Kyuubi inside him, Naruto struggles to find his place in the village, while his burning desire to become the Hokage of Konohagakure leads him not only to some great new friends, but also some deadly foes.</td>\n",
       "    </tr>\n",
       "    <tr>\n",
       "      <th>0</th>\n",
       "      <td>Fullmetal Alchemist:Brotherhood</td>\n",
       "      <td>0.744144</td>\n",
       "      <td>Action, Military, Adventure, Comedy, Drama, Magic, Fantasy, Shounen</td>\n",
       "      <td>\"In order for something to be obtained, something of equal value must be lost.\" Alchemy is bound by this Law of Equivalent Exchange—something the young brothers Edward and Alphonse Elric only realize after attempting human transmutation: the one forbidden act of alchemy. They pay a terrible price for their transgression—Edward loses his left leg, Alphonse his physical body. It is only by the desperate sacrifice of Edward's right arm that he is able to affix Alphonse's soul to a suit of armor. Devastated and alone, it is the hope that they would both eventually return to their original bodies that gives Edward the inspiration to obtain metal limbs called \"automail\" and become a state alchemist, the Fullmetal Alchemist. Three years of searching later, the brothers seek the Philosopher's Stone, a mythical relic that allows an alchemist to overcome the Law of Equivalent Exchange. Even with military allies Colonel Roy Mustang, Lieutenant Riza Hawkeye, and Lieutenant Colonel Maes Hughes on their side, the brothers find themselves caught up in a nationwide conspiracy that leads them not only to the true nature of the elusive Philosopher's Stone, but their country's murky history as well. In between finding a serial killer and racing against time, Edward and Alphonse must ask themselves if what they are doing will make them human again... or take away their humanity.</td>\n",
       "    </tr>\n",
       "  </tbody>\n",
       "</table>\n",
       "</div>"
      ],
      "text/plain": [
       "                                     name  similarity  \\\n",
       "4                         Attack on Titan    0.824082   \n",
       "3  Code Geass:Lelouch of the Rebellion R2    0.781122   \n",
       "2     Code Geass:Lelouch of the Rebellion    0.773564   \n",
       "1                                  Naruto    0.751741   \n",
       "0         Fullmetal Alchemist:Brotherhood    0.744144   \n",
       "\n",
       "                                                                 genre  \\\n",
       "4      Action, Military, Mystery, Super Power, Drama, Fantasy, Shounen   \n",
       "3                  Action, Military, Sci-Fi, Super Power, Drama, Mecha   \n",
       "2          Action, Military, Sci-Fi, Super Power, Drama, Mecha, School   \n",
       "1        Action, Adventure, Comedy, Super Power, Martial Arts, Shounen   \n",
       "0  Action, Military, Adventure, Comedy, Drama, Magic, Fantasy, Shounen   \n",
       "\n",
       "                                                                                                                                                                                                                                                                                                                                                                                                                                                                                                                                                                                                                                                                                                                                                                                                                                                                                                                                                                                                                                                                                                                                                                                                                                                                                                                                                                                                                               sypnopsis  \n",
       "4                                                                                                                                                                Centuries ago, mankind was slaughtered to near extinction by monstrous humanoid creatures called titans, forcing humans to hide in fear behind enormous concentric walls. What makes these giants truly terrifying is that their taste for human flesh is not born out of hunger but what appears to be out of pleasure. To ensure their survival, the remnants of humanity began living within defensive barriers, resulting in one hundred years without a single titan encounter. However, that fragile calm is soon shattered when a colossal titan manages to breach the supposedly impregnable outer wall, reigniting the fight for survival against the man-eating abominations. After witnessing a horrific personal loss at the hands of the invading creatures, Eren Yeager dedicates his life to their eradication by enlisting into the Survey Corps, an elite military unit that combats the merciless humanoids outside the protection of the walls. Based on Hajime Isayama's award-winning manga, Shingeki no Kyojin follows Eren, along with his adopted sister Mikasa Ackerman and his childhood friend Armin Arlert, as they join the brutal war against the titans and race to discover a way of defeating them before the last walls are breached.  \n",
       "3                                                                                                                                                                                                                                                                                                                                                                                                                                                                                                                                                                                        One year has passed since the Black Rebellion, a failed uprising against the Holy Britannian Empire led by the masked vigilante Zero, who is now missing. At a loss without their revolutionary leader, Area 11's resistance group—the Black Knights—find themselves too powerless to combat the brutality inflicted upon the Elevens by Britannia, which has increased significantly in order to crush any hope of a future revolt. Lelouch Lamperouge, having lost all memory of his double life, is living peacefully alongside his friends as a high school student at Ashford Academy. His former partner C.C., unable to accept this turn of events, takes it upon herself to remind him of his past purpose, hoping that the mastermind Zero will rise once again to finish what he started, in this thrilling conclusion to the series.  \n",
       "2                                                                                                                                                                                                                                                                                                                                                                                                                                                                                                                                                                                   In the year 2010, the Holy Empire of Britannia is establishing itself as a dominant military nation, starting with the conquest of Japan. Renamed to Area 11 after its swift defeat, Japan has seen significant resistance against these tyrants in an attempt to regain independence. Lelouch Lamperouge, a Britannian student, unfortunately finds himself caught in a crossfire between the Britannian and the Area 11 rebel armed forces. He is able to escape, however, thanks to the timely appearance of a mysterious girl named C.C., who bestows upon him Geass, the \"Power of Kings.\" Realizing the vast potential of his newfound \"power of absolute obedience,\" Lelouch embarks upon a perilous journey as the masked vigilante known as Zero, leading a merciless onslaught against Britannia in order to get revenge once and for all.  \n",
       "1                                                                                                                                                                                                                                                                                                                                                                                                                                                                                                                                                                                                                                                                                                                                                                  oments prior to Naruto Uzumaki's birth, a huge demon known as the Kyuubi, the Nine-Tailed Fox, attacked Konohagakure, the Hidden Leaf Village, and wreaked havoc. In order to put an end to the Kyuubi's rampage, the leader of the village, the Fourth Hokage, sacrificed his life and sealed the monstrous beast inside the newborn Naruto. Now, Naruto is a hyperactive and knuckle-headed ninja still living in Konohagakure. Shunned because of the Kyuubi inside him, Naruto struggles to find his place in the village, while his burning desire to become the Hokage of Konohagakure leads him not only to some great new friends, but also some deadly foes.  \n",
       "0  \"In order for something to be obtained, something of equal value must be lost.\" Alchemy is bound by this Law of Equivalent Exchange—something the young brothers Edward and Alphonse Elric only realize after attempting human transmutation: the one forbidden act of alchemy. They pay a terrible price for their transgression—Edward loses his left leg, Alphonse his physical body. It is only by the desperate sacrifice of Edward's right arm that he is able to affix Alphonse's soul to a suit of armor. Devastated and alone, it is the hope that they would both eventually return to their original bodies that gives Edward the inspiration to obtain metal limbs called \"automail\" and become a state alchemist, the Fullmetal Alchemist. Three years of searching later, the brothers seek the Philosopher's Stone, a mythical relic that allows an alchemist to overcome the Law of Equivalent Exchange. Even with military allies Colonel Roy Mustang, Lieutenant Riza Hawkeye, and Lieutenant Colonel Maes Hughes on their side, the brothers find themselves caught up in a nationwide conspiracy that leads them not only to the true nature of the elusive Philosopher's Stone, but their country's murky history as well. In between finding a serial killer and racing against time, Edward and Alphonse must ask themselves if what they are doing will make them human again... or take away their humanity.  "
      ]
     },
     "execution_count": 27,
     "metadata": {},
     "output_type": "execute_result"
    }
   ],
   "source": [
    "find_similar_animes('Death Note', n=5, neg=False)"
   ]
  },
  {
   "cell_type": "markdown",
   "id": "0f7cf903",
   "metadata": {
    "papermill": {
     "duration": 0.292551,
     "end_time": "2023-05-17T06:56:20.783626",
     "exception": false,
     "start_time": "2023-05-17T06:56:20.491075",
     "status": "completed"
    },
    "tags": []
   },
   "source": [
    "## **Task 2**: Finding Similar Users (User Based Recommendation)"
   ]
  },
  {
   "cell_type": "code",
   "execution_count": 28,
   "id": "6d8fa90d",
   "metadata": {
    "execution": {
     "iopub.execute_input": "2023-05-17T06:56:21.221446Z",
     "iopub.status.busy": "2023-05-17T06:56:21.221027Z",
     "iopub.status.idle": "2023-05-17T06:56:23.328913Z",
     "shell.execute_reply": "2023-05-17T06:56:23.328029Z"
    },
    "papermill": {
     "duration": 2.329362,
     "end_time": "2023-05-17T06:56:23.330668",
     "exception": false,
     "start_time": "2023-05-17T06:56:21.001306",
     "status": "completed"
    },
    "tags": []
   },
   "outputs": [
    {
     "name": "stdout",
     "output_type": "stream",
     "text": [
      "> picking up random user\n",
      "> user_id: 352464\n"
     ]
    }
   ],
   "source": [
    "print('> picking up random user')\n",
    "\n",
    "ratings_per_user = rating_df.groupby('user_id').size()\n",
    "random_user = ratings_per_user[ratings_per_user < 500].sample(1, random_state=None).index[0]\n",
    "print('> user_id:', random_user)"
   ]
  },
  {
   "cell_type": "code",
   "execution_count": 29,
   "id": "4792e0e5",
   "metadata": {
    "execution": {
     "iopub.execute_input": "2023-05-17T06:56:23.773021Z",
     "iopub.status.busy": "2023-05-17T06:56:23.772266Z",
     "iopub.status.idle": "2023-05-17T06:56:23.780620Z",
     "shell.execute_reply": "2023-05-17T06:56:23.779573Z"
    },
    "papermill": {
     "duration": 0.232597,
     "end_time": "2023-05-17T06:56:23.782697",
     "exception": false,
     "start_time": "2023-05-17T06:56:23.550100",
     "status": "completed"
    },
    "tags": []
   },
   "outputs": [],
   "source": [
    "#pd.reset_option('all')\n",
    "pd.set_option(\"max_colwidth\", None)\n",
    "\n",
    "def find_similar_users(item_input, n=10,return_dist=False, neg=False):\n",
    "    try:\n",
    "        index = item_input\n",
    "        encoded_index = user2user_encoded.get(index)\n",
    "        weights = user_weights\n",
    "    \n",
    "        dists = np.dot(weights, weights[encoded_index])\n",
    "        sorted_dists = np.argsort(dists)\n",
    "        \n",
    "        n = n + 1\n",
    "        \n",
    "        if neg:\n",
    "            closest = sorted_dists[:n]\n",
    "        else:\n",
    "            closest = sorted_dists[-n:]\n",
    "\n",
    "        print('> users similar to #{}'.format(item_input))\n",
    "\n",
    "        if return_dist:\n",
    "            return dists, closest\n",
    "        \n",
    "        rindex = df\n",
    "        SimilarityArr = []\n",
    "        \n",
    "        for close in closest:\n",
    "            similarity = dists[close]\n",
    "\n",
    "            if isinstance(item_input, int):\n",
    "                decoded_id = user_encoded2user.get(close)\n",
    "                SimilarityArr.append({\"similar_users\": decoded_id, \n",
    "                                      \"similarity\": similarity})\n",
    "\n",
    "        Frame = pd.DataFrame(SimilarityArr).sort_values(by=\"similarity\", \n",
    "                                                        ascending=False)\n",
    "        \n",
    "        return Frame\n",
    "    \n",
    "    except:\n",
    "        print('{}!, Not Found in User list'.format(name))"
   ]
  },
  {
   "cell_type": "code",
   "execution_count": 30,
   "id": "eb9cb225",
   "metadata": {
    "execution": {
     "iopub.execute_input": "2023-05-17T06:56:24.238236Z",
     "iopub.status.busy": "2023-05-17T06:56:24.237800Z",
     "iopub.status.idle": "2023-05-17T06:56:24.262604Z",
     "shell.execute_reply": "2023-05-17T06:56:24.261827Z"
    },
    "papermill": {
     "duration": 0.249281,
     "end_time": "2023-05-17T06:56:24.264544",
     "exception": false,
     "start_time": "2023-05-17T06:56:24.015263",
     "status": "completed"
    },
    "tags": []
   },
   "outputs": [
    {
     "name": "stdout",
     "output_type": "stream",
     "text": [
      "> users similar to #352464\n"
     ]
    },
    {
     "data": {
      "text/html": [
       "<div>\n",
       "<style scoped>\n",
       "    .dataframe tbody tr th:only-of-type {\n",
       "        vertical-align: middle;\n",
       "    }\n",
       "\n",
       "    .dataframe tbody tr th {\n",
       "        vertical-align: top;\n",
       "    }\n",
       "\n",
       "    .dataframe thead th {\n",
       "        text-align: right;\n",
       "    }\n",
       "</style>\n",
       "<table border=\"1\" class=\"dataframe\">\n",
       "  <thead>\n",
       "    <tr style=\"text-align: right;\">\n",
       "      <th></th>\n",
       "      <th>similar_users</th>\n",
       "      <th>similarity</th>\n",
       "    </tr>\n",
       "  </thead>\n",
       "  <tbody>\n",
       "    <tr>\n",
       "      <th>4</th>\n",
       "      <td>241663</td>\n",
       "      <td>0.574276</td>\n",
       "    </tr>\n",
       "    <tr>\n",
       "      <th>3</th>\n",
       "      <td>19793</td>\n",
       "      <td>0.559894</td>\n",
       "    </tr>\n",
       "    <tr>\n",
       "      <th>2</th>\n",
       "      <td>21852</td>\n",
       "      <td>0.543843</td>\n",
       "    </tr>\n",
       "    <tr>\n",
       "      <th>1</th>\n",
       "      <td>136639</td>\n",
       "      <td>0.541141</td>\n",
       "    </tr>\n",
       "    <tr>\n",
       "      <th>0</th>\n",
       "      <td>248333</td>\n",
       "      <td>0.540164</td>\n",
       "    </tr>\n",
       "  </tbody>\n",
       "</table>\n",
       "</div>"
      ],
      "text/plain": [
       "   similar_users  similarity\n",
       "4         241663    0.574276\n",
       "3          19793    0.559894\n",
       "2          21852    0.543843\n",
       "1         136639    0.541141\n",
       "0         248333    0.540164"
      ]
     },
     "execution_count": 30,
     "metadata": {},
     "output_type": "execute_result"
    }
   ],
   "source": [
    "similar_users = find_similar_users(int(random_user), \n",
    "                                   n=5, \n",
    "                                   neg=False)\n",
    "\n",
    "similar_users = similar_users[similar_users.similarity > 0.4]\n",
    "similar_users = similar_users[similar_users.similar_users != random_user]\n",
    "similar_users.head(5)"
   ]
  },
  {
   "cell_type": "markdown",
   "id": "9a6bcf4e",
   "metadata": {
    "papermill": {
     "duration": 0.221944,
     "end_time": "2023-05-17T06:56:24.729505",
     "exception": false,
     "start_time": "2023-05-17T06:56:24.507561",
     "status": "completed"
    },
    "tags": []
   },
   "source": [
    "## **User preferences**"
   ]
  },
  {
   "cell_type": "code",
   "execution_count": 31,
   "id": "3972a609",
   "metadata": {
    "execution": {
     "iopub.execute_input": "2023-05-17T06:56:25.232190Z",
     "iopub.status.busy": "2023-05-17T06:56:25.231709Z",
     "iopub.status.idle": "2023-05-17T06:56:25.274075Z",
     "shell.execute_reply": "2023-05-17T06:56:25.273230Z"
    },
    "papermill": {
     "duration": 0.266,
     "end_time": "2023-05-17T06:56:25.276278",
     "exception": false,
     "start_time": "2023-05-17T06:56:25.010278",
     "status": "completed"
    },
    "tags": []
   },
   "outputs": [],
   "source": [
    "from wordcloud import WordCloud\n",
    "from collections import defaultdict\n",
    "import matplotlib.pyplot as plt\n",
    "\n",
    "def showWordCloud(all_genres):\n",
    "    genres_cloud = WordCloud(width=700, height=400, \n",
    "                             background_color='white', \n",
    "                             colormap='gnuplot').generate_from_frequencies(all_genres)\n",
    "    \n",
    "    plt.figure(figsize=(10,8)) \n",
    "    plt.imshow(genres_cloud, interpolation='bilinear')\n",
    "    plt.axis('off')\n",
    "    plt.show()\n",
    "\n",
    "def getFavGenre(frame, plot=False):\n",
    "        frame.dropna(inplace=False)\n",
    "        all_genres = defaultdict(int)\n",
    "        \n",
    "        genres_list = []\n",
    "        for genres in frame['Genres']:\n",
    "            if isinstance(genres, str):\n",
    "                for genre in genres.split(','):\n",
    "                    genres_list.append(genre)\n",
    "                    all_genres[genre.strip()] += 1    \n",
    "        if plot:\n",
    "            showWordCloud(all_genres)\n",
    "        \n",
    "        return genres_list\n",
    "\n",
    "    \n",
    "def get_user_preferences(user_id, plot=False, verbose=0):\n",
    "    animes_watched_by_user = rating_df[rating_df.user_id==user_id]\n",
    "    user_rating_percentile = np.percentile(animes_watched_by_user.rating, 75)\n",
    "    animes_watched_by_user = animes_watched_by_user[animes_watched_by_user.rating >= user_rating_percentile]\n",
    "    top_animes_user = (\n",
    "        animes_watched_by_user.sort_values(by=\"rating\", ascending=False)#.head(10)\n",
    "        .anime_id.values\n",
    "    )\n",
    "    \n",
    "    anime_df_rows = df[df[\"anime_id\"].isin(top_animes_user)]\n",
    "    anime_df_rows = anime_df_rows[[\"eng_version\", \"Genres\"]]\n",
    "    \n",
    "    if verbose != 0:\n",
    "        print(\"> User #{} has rated {} movies (avg. rating = {:.1f})\".format(\n",
    "          user_id, len(animes_watched_by_user),\n",
    "          animes_watched_by_user['rating'].mean(),\n",
    "        ))\n",
    "    \n",
    "        print('> preferred genres')\n",
    "    \n",
    "    if plot:\n",
    "        getFavGenre(anime_df_rows, plot)\n",
    "        \n",
    "    return anime_df_rows#.eng_version.values"
   ]
  },
  {
   "cell_type": "code",
   "execution_count": 32,
   "id": "5be5a338",
   "metadata": {
    "execution": {
     "iopub.execute_input": "2023-05-17T06:56:25.721787Z",
     "iopub.status.busy": "2023-05-17T06:56:25.720932Z",
     "iopub.status.idle": "2023-05-17T06:56:26.069761Z",
     "shell.execute_reply": "2023-05-17T06:56:26.068952Z"
    },
    "papermill": {
     "duration": 0.575944,
     "end_time": "2023-05-17T06:56:26.073299",
     "exception": false,
     "start_time": "2023-05-17T06:56:25.497355",
     "status": "completed"
    },
    "tags": []
   },
   "outputs": [
    {
     "name": "stdout",
     "output_type": "stream",
     "text": [
      "> User #352464 has rated 454 movies (avg. rating = 0.0)\n",
      "> preferred genres\n"
     ]
    },
    {
     "data": {
      "image/png": "[encoded data removed]",
      "text/plain": [
       "<Figure size 1000x800 with 1 Axes>"
      ]
     },
     "metadata": {},
     "output_type": "display_data"
    },
    {
     "name": "stdout",
     "output_type": "stream",
     "text": [
      "> animes highly rated by this user\n"
     ]
    },
    {
     "data": {
      "text/html": [
       "<div>\n",
       "<style scoped>\n",
       "    .dataframe tbody tr th:only-of-type {\n",
       "        vertical-align: middle;\n",
       "    }\n",
       "\n",
       "    .dataframe tbody tr th {\n",
       "        vertical-align: top;\n",
       "    }\n",
       "\n",
       "    .dataframe thead th {\n",
       "        text-align: right;\n",
       "    }\n",
       "</style>\n",
       "<table border=\"1\" class=\"dataframe\">\n",
       "  <thead>\n",
       "    <tr style=\"text-align: right;\">\n",
       "      <th></th>\n",
       "      <th>eng_version</th>\n",
       "      <th>Genres</th>\n",
       "    </tr>\n",
       "  </thead>\n",
       "  <tbody>\n",
       "    <tr>\n",
       "      <th>3537</th>\n",
       "      <td>Clannad ~After Story~</td>\n",
       "      <td>Slice of Life, Comedy, Supernatural, Drama, Romance</td>\n",
       "    </tr>\n",
       "    <tr>\n",
       "      <th>7577</th>\n",
       "      <td>Monogatari Series:Second Season</td>\n",
       "      <td>Mystery, Comedy, Supernatural, Romance, Vampire</td>\n",
       "    </tr>\n",
       "    <tr>\n",
       "      <th>25</th>\n",
       "      <td>Samurai X:Trust and Betrayal</td>\n",
       "      <td>Action, Historical, Drama, Romance, Martial Arts, Samurai, Shounen</td>\n",
       "    </tr>\n",
       "    <tr>\n",
       "      <th>1822</th>\n",
       "      <td>Gurren Lagann</td>\n",
       "      <td>Action, Adventure, Comedy, Mecha, Sci-Fi</td>\n",
       "    </tr>\n",
       "    <tr>\n",
       "      <th>182</th>\n",
       "      <td>Samurai Champloo</td>\n",
       "      <td>Action, Adventure, Comedy, Historical, Samurai, Shounen</td>\n",
       "    </tr>\n",
       "  </tbody>\n",
       "</table>\n",
       "</div>"
      ],
      "text/plain": [
       "                          eng_version  \\\n",
       "3537            Clannad ~After Story~   \n",
       "7577  Monogatari Series:Second Season   \n",
       "25       Samurai X:Trust and Betrayal   \n",
       "1822                    Gurren Lagann   \n",
       "182                  Samurai Champloo   \n",
       "\n",
       "                                                                  Genres  \n",
       "3537                 Slice of Life, Comedy, Supernatural, Drama, Romance  \n",
       "7577                     Mystery, Comedy, Supernatural, Romance, Vampire  \n",
       "25    Action, Historical, Drama, Romance, Martial Arts, Samurai, Shounen  \n",
       "1822                            Action, Adventure, Comedy, Mecha, Sci-Fi  \n",
       "182              Action, Adventure, Comedy, Historical, Samurai, Shounen  "
      ]
     },
     "execution_count": 32,
     "metadata": {},
     "output_type": "execute_result"
    }
   ],
   "source": [
    "user_pref = get_user_preferences(random_user, plot=True, verbose=1)\n",
    "print('> animes highly rated by this user')\n",
    "\n",
    "pd.DataFrame(user_pref).head(5)"
   ]
  },
  {
   "cell_type": "markdown",
   "id": "388d3f4d",
   "metadata": {
    "papermill": {
     "duration": 0.224185,
     "end_time": "2023-05-17T06:56:26.526001",
     "exception": false,
     "start_time": "2023-05-17T06:56:26.301816",
     "status": "completed"
    },
    "tags": []
   },
   "source": [
    "## **Task 3**: **Recommending** animes for a user"
   ]
  },
  {
   "cell_type": "code",
   "execution_count": 33,
   "id": "76fc031c",
   "metadata": {
    "execution": {
     "iopub.execute_input": "2023-05-17T06:56:27.039545Z",
     "iopub.status.busy": "2023-05-17T06:56:27.039147Z",
     "iopub.status.idle": "2023-05-17T06:56:27.047719Z",
     "shell.execute_reply": "2023-05-17T06:56:27.046653Z"
    },
    "papermill": {
     "duration": 0.301006,
     "end_time": "2023-05-17T06:56:27.050307",
     "exception": false,
     "start_time": "2023-05-17T06:56:26.749301",
     "status": "completed"
    },
    "tags": []
   },
   "outputs": [],
   "source": [
    "def get_recommended_animes(similar_users, n=10):\n",
    "    recommended_animes = []\n",
    "    anime_list = []\n",
    "    \n",
    "    for user_id in similar_users.similar_users.values:\n",
    "        pref_list = get_user_preferences(int(user_id), verbose=0)\n",
    "        pref_list = pref_list[~ pref_list.eng_version.isin(user_pref.eng_version.values)]\n",
    "        anime_list.append(pref_list.eng_version.values)\n",
    "        \n",
    "    anime_list = pd.DataFrame(anime_list)\n",
    "    sorted_list = pd.DataFrame(pd.Series(anime_list.values.ravel()).value_counts()).head(n)\n",
    "    \n",
    "    for i, anime_name in enumerate(sorted_list.index):        \n",
    "        n_user_pref = sorted_list[sorted_list.index == anime_name].values[0][0]\n",
    "        if isinstance(anime_name, str):\n",
    "            try:\n",
    "                frame = getAnimeFrame(anime_name)\n",
    "                anime_id = frame.anime_id.values[0]\n",
    "                genre = frame.Genres.values[0]\n",
    "                sypnopsis = getSypnopsis(int(anime_id))\n",
    "                recommended_animes.append({#\"anime_id\": anime_id ,\n",
    "                                            \"n\": n_user_pref,\n",
    "                                            \"anime_name\": anime_name, \n",
    "                                            \"Genres\": genre, \n",
    "                                            \"sypnopsis\": sypnopsis})\n",
    "            except:\n",
    "                pass\n",
    "    \n",
    "    return pd.DataFrame(recommended_animes)"
   ]
  },
  {
   "cell_type": "code",
   "execution_count": 34,
   "id": "732f4789",
   "metadata": {
    "execution": {
     "iopub.execute_input": "2023-05-17T06:56:27.536277Z",
     "iopub.status.busy": "2023-05-17T06:56:27.535796Z",
     "iopub.status.idle": "2023-05-17T06:56:28.184685Z",
     "shell.execute_reply": "2023-05-17T06:56:28.183942Z"
    },
    "papermill": {
     "duration": 0.892564,
     "end_time": "2023-05-17T06:56:28.186803",
     "exception": false,
     "start_time": "2023-05-17T06:56:27.294239",
     "status": "completed"
    },
    "tags": []
   },
   "outputs": [
    {
     "data": {
      "image/png": "[encoded data removed]",
      "text/plain": [
       "<Figure size 1000x800 with 1 Axes>"
      ]
     },
     "metadata": {},
     "output_type": "display_data"
    },
    {
     "name": "stdout",
     "output_type": "stream",
     "text": [
      "\n",
      "> Top recommendations for user: 352464\n"
     ]
    },
    {
     "data": {
      "text/html": [
       "<div>\n",
       "<style scoped>\n",
       "    .dataframe tbody tr th:only-of-type {\n",
       "        vertical-align: middle;\n",
       "    }\n",
       "\n",
       "    .dataframe tbody tr th {\n",
       "        vertical-align: top;\n",
       "    }\n",
       "\n",
       "    .dataframe thead th {\n",
       "        text-align: right;\n",
       "    }\n",
       "</style>\n",
       "<table border=\"1\" class=\"dataframe\">\n",
       "  <thead>\n",
       "    <tr style=\"text-align: right;\">\n",
       "      <th></th>\n",
       "      <th>n</th>\n",
       "      <th>anime_name</th>\n",
       "      <th>Genres</th>\n",
       "      <th>sypnopsis</th>\n",
       "    </tr>\n",
       "  </thead>\n",
       "  <tbody>\n",
       "    <tr>\n",
       "      <th>0</th>\n",
       "      <td>9</td>\n",
       "      <td>Nisekoi:False Love</td>\n",
       "      <td>Harem, Comedy, Romance, School, Shounen</td>\n",
       "      <td>aku Ichijou, a first-year student at Bonyari High School, is the sole heir to an intimidating yakuza family. Ten years ago, Raku made a promise to his childhood friend. Now, all he has to go on is a pendant with a lock, which can only be unlocked with the key which the girl took with her when they parted. Now, years later, Raku has grown into a typical teenager, and all he wants is to remain as uninvolved in his yakuza background as possible while spending his school days alongside his middle school crush Kosaki Onodera. However, when the American Bee Hive Gang invades his family's turf, Raku's idyllic romantic dreams are sent for a toss as he is dragged into a frustrating conflict: Raku is to pretend that he is in a romantic relationship with Chitoge Kirisaki, the beautiful daughter of the Bee Hive's chief, so as to reduce the friction between the two groups. Unfortunately, reality could not be farther from this whopping lie—Raku and Chitoge fall in hate at first sight, as the girl is convinced he is a pathetic pushover, and in Raku's eyes, Chitoge is about as attractive as a savage gorilla. Nisekoi follows the daily antics of this mismatched couple who have been forced to get along for the sake of maintaining the city's peace. With many more girls popping up his life, all involved with Raku's past somehow, his search for the girl who holds his heart and his promise leads him in more unexpected directions than he expects.</td>\n",
       "    </tr>\n",
       "    <tr>\n",
       "      <th>1</th>\n",
       "      <td>8</td>\n",
       "      <td>Bakuman.</td>\n",
       "      <td>Comedy, Drama, Romance, Shounen</td>\n",
       "      <td>Onto their third serialization, manga duo Moritaka Mashiro and Akito Takagi—also known by their pen name, Muto Ashirogi—are ever closer to their dream of an anime adaption. However, the real challenge is only just beginning: if they are unable to compete with the artist Eiji Niizuma in the rankings within the span of six months, they will be canceled. To top it off, numerous rivals are close behind and declaring war. They don't even have enough time to spare thinking about an anime! In Bakuman. 3rd Season , Muto Ashirogi must find a way to stay atop the colossal mountain known as the Shounen Jack rankings. With new problems and new assistants, the pair continue to strive for their dream.</td>\n",
       "    </tr>\n",
       "    <tr>\n",
       "      <th>2</th>\n",
       "      <td>7</td>\n",
       "      <td>Little Witch Academia</td>\n",
       "      <td>Adventure, Comedy, Fantasy, Magic, School</td>\n",
       "      <td>\"A believing heart is your magic!\"—these were the words that Atsuko \"Akko\" Kagari's idol, the renowned witch Shiny Chariot, said to her during a magic performance years ago. Since then, Akko has lived by these words and aspired to be a witch just like Shiny Chariot, one that can make people smile. Hence, even her non-magical background does not stop her from enrolling in Luna Nova Magical Academy. However, when an excited Akko finally sets off to her new school, the trip there is anything but smooth. After her perilous journey, she befriends the shy Lotte Yansson and the sarcastic Sucy Manbavaran. To her utmost delight, she also discovers Chariot's wand, the Shiny Rod, which she takes as her own. Unfortunately, her time at Luna Nova will prove to more challenging than Akko could ever believe. She absolutely refuses to stay inferior to the rest of her peers, especially to her self-proclaimed rival, the beautiful and gifted Diana Cavendish, so she relies on her determination to compensate for her reckless behavior and ineptitude in magic. In a time when wizardry is on the decline, Little Witch Academia follows the magical escapades of Akko and her friends as they learn the true meaning of being a witch.</td>\n",
       "    </tr>\n",
       "    <tr>\n",
       "      <th>3</th>\n",
       "      <td>6</td>\n",
       "      <td>RIN-NE</td>\n",
       "      <td>Comedy, Supernatural, Romance, School, Shounen</td>\n",
       "      <td>High school student Sakura Mamiya and impoverished death god Rinne Rokudou continue to confront the supernatural. Pulled into the problems of their quirky acquaintances, the pair again find themselves immersed in trouble. Ageha's black cat Oboro seeks revenge for alleged mistreatment and demands Ageha to nullify their contract. When she refuses to do so, a bitter quarrel breaks out between them. Meanwhile, the scheming Damashigami Company shows no sign of halting its wrongdoings, and the bat-like demon Masato continues to commit devious acts to pursue his long-awaited revenge on Rinne. For Sakura and Rinne, these paranormal complications never seem to end. As their saga continues to unfold, they must cope with these unusual circumstances as they appear, all while facing problems of their own.</td>\n",
       "    </tr>\n",
       "    <tr>\n",
       "      <th>4</th>\n",
       "      <td>5</td>\n",
       "      <td>Fuuka</td>\n",
       "      <td>Drama, Ecchi, Music, Romance, School, Shounen</td>\n",
       "      <td>Yuu Haruna just moved into town and loves to use Twitter. Out on his way to buy dinner, he bumps into a mysterious girl, Fuuka Akitsuki, who breaks his phone thinking he was trying to take a picture of her panties. How will his new life change now? (Source: MAL News)</td>\n",
       "    </tr>\n",
       "    <tr>\n",
       "      <th>5</th>\n",
       "      <td>5</td>\n",
       "      <td>Natsume's Book of Friends</td>\n",
       "      <td>Slice of Life, Demons, Supernatural, Drama, Shoujo</td>\n",
       "      <td>hile most fifteen-year-old boys, in one way or another, harbor secrets that are related to girls, Takashi Natsume has a peculiar and terrifying secret involving youkai: for as long as he can remember, he has been constantly chased by these spirits. Natsume soon discovers that his deceased grandmother Reiko had passed on to him the Yuujinchou, or \"Book of Friends,\" which contains the names of the spirits whom she brought under her control. Now in Natsume's possession, the book gives Reiko's grandson this power as well, which is why these enraged beings now haunt him in hopes of somehow attaining their freedom. Without parents and a loving home, and constantly being hunted by hostile, merciless youkai, Natsume is looking for solace—a place where he belongs. However, his only companion is a self-proclaimed bodyguard named Madara. Fondly referred to as Nyanko-sensei, Madara is a mysterious, pint-sized feline spirit who has his own reasons for sticking with the boy. Based on the critically acclaimed manga by Yuki Midorikawa, Natsume Yuujinchou is an unconventional and supernatural slice-of-life series that follows Natsume as he, with his infamous protector Madara, endeavors to free the spirits bound by his grandmother's contract.</td>\n",
       "    </tr>\n",
       "    <tr>\n",
       "      <th>6</th>\n",
       "      <td>5</td>\n",
       "      <td>Rainbow Days</td>\n",
       "      <td>Comedy, Romance, School, Shoujo, Slice of Life</td>\n",
       "      <td>Nijiiro Days follows the colorful lives and romantic relationships of four high school boys—Natsuki Hashiba, a dreamer with delusions of love; Tomoya Matsunaga, a narcissistic playboy who has multiple girlfriends; Keiichi Katakura, a kinky sadist who always carries a whip; and Tsuyoshi Naoe, an otaku who has a cosplaying girlfriend. When his girlfriend unceremoniously dumps him on Christmas Eve, Natsuki breaks down in tears in the middle of the street and is offered tissues by a girl in a Santa Claus suit. He instantly falls in love with this girl, Anna Kobayakawa, who fortunately attends the same school as him. Natsuki's pursuit of Anna should have been simple and uneventful; however, much to his dismay, his nosy friends constantly meddle in his relationship, as they strive to succeed in their own endeavors of love.</td>\n",
       "    </tr>\n",
       "    <tr>\n",
       "      <th>7</th>\n",
       "      <td>5</td>\n",
       "      <td>Chihayafuru</td>\n",
       "      <td>Drama, Game, Josei, School, Slice of Life, Sports</td>\n",
       "      <td>Chihaya Ayase, a strong-willed and tomboyish girl, grows up under the shadow of her older sister. With no dreams of her own, she is contented with her share in life till she meets Arata Wataya. The quiet transfer student in her elementary class introduces her to competitive karuta, a physically and mentally demanding card game inspired by the classic Japanese anthology of Hundred Poets. Captivated by Arata's passion for the game and inspired by the possibility of becoming the best in Japan, Chihaya quickly falls in love with the world of karuta. Along with the prodigy Arata and her haughty but hard-working friend Taichi Mashima, she joins the local Shiranami Society. The trio spends their idyllic childhood days playing together, until circumstances split them up. Now in high school, Chihaya has grown into a karuta freak. She aims to establish the Municipal Mizusawa High Competitive Karuta Club, setting her sights on the national championship at Omi Jingu. Reunited with the now indifferent Taichi, Chihaya's dream of establishing a karuta team is only one step away from becoming true: she must bring together members with a passion for the game that matches her own.</td>\n",
       "    </tr>\n",
       "    <tr>\n",
       "      <th>8</th>\n",
       "      <td>5</td>\n",
       "      <td>Nana</td>\n",
       "      <td>Music, Slice of Life, Comedy, Drama, Romance, Shoujo</td>\n",
       "      <td>Nana Komatsu is a helpless, naïve 20-year-old who easily falls in love and becomes dependent and clingy to those around her. Even though she nurses ambitious dreams of removing herself from her provincial roots and finding her true calling, she ends up traveling to Tokyo with the humble reason of chasing her current boyfriend Shouji Endo. Nana Osaki, on the other hand, is a proud, enigmatic punk rock vocalist from a similarly rural background, who nurtures the desire to become a professional singer. Putting her career with a fairly popular band (and her passionate romance with one of its former members) firmly behind her, she boards the same train to Tokyo as Nana Komatsu. Through a fateful encounter in their journey toward the metropolis, the young women with the same given name are brought together, sparking a chain of events which eventually result in them sharing an apartment. As their friendship deepens, the two attempt to support each other through thick and thin, their deeply intertwined lives filled with romance, music, challenges, and heartbreaks that will ultimately test their seemingly unbreakable bond.</td>\n",
       "    </tr>\n",
       "    <tr>\n",
       "      <th>9</th>\n",
       "      <td>5</td>\n",
       "      <td>Special A (S.A)</td>\n",
       "      <td>Comedy, Romance, School, Shoujo</td>\n",
       "      <td>Hikari Hanazono has always been able to do things that normal people cannot. As a child, she assumed no one could beat her—until she met Kei Takishima. Thinking she would win, Hikari challenged him to a match. But things didn’t go as planned; she lost not once but each time she rechallenged him. From that point on, she has sworn to best Kei at everything, ranging from academics to athletics. To achieve her goal, Hikari enrolls in the same school as Kei—Hakusenkan, a prestigious institute for the wealthy. As a pair, they hold the top two rankings in school and are among seven of the academy's best students in a class known as Special A. While Hikari treats Kei as a rival, she is completely oblivious that he harbors hidden feelings for her. Together, the members of Special A deal with competition, friendship, and just a bit of love.</td>\n",
       "    </tr>\n",
       "  </tbody>\n",
       "</table>\n",
       "</div>"
      ],
      "text/plain": [
       "   n                 anime_name  \\\n",
       "0  9         Nisekoi:False Love   \n",
       "1  8                   Bakuman.   \n",
       "2  7      Little Witch Academia   \n",
       "3  6                     RIN-NE   \n",
       "4  5                      Fuuka   \n",
       "5  5  Natsume's Book of Friends   \n",
       "6  5               Rainbow Days   \n",
       "7  5                Chihayafuru   \n",
       "8  5                       Nana   \n",
       "9  5            Special A (S.A)   \n",
       "\n",
       "                                                 Genres  \\\n",
       "0               Harem, Comedy, Romance, School, Shounen   \n",
       "1                       Comedy, Drama, Romance, Shounen   \n",
       "2             Adventure, Comedy, Fantasy, Magic, School   \n",
       "3        Comedy, Supernatural, Romance, School, Shounen   \n",
       "4         Drama, Ecchi, Music, Romance, School, Shounen   \n",
       "5    Slice of Life, Demons, Supernatural, Drama, Shoujo   \n",
       "6        Comedy, Romance, School, Shoujo, Slice of Life   \n",
       "7     Drama, Game, Josei, School, Slice of Life, Sports   \n",
       "8  Music, Slice of Life, Comedy, Drama, Romance, Shoujo   \n",
       "9                       Comedy, Romance, School, Shoujo   \n",
       "\n",
       "                                                                                                                                                                                                                                                                                                                                                                                                                                                                                                                                                                                                                                                                                                                                                                                                                                                                                                                                                                                                                                                                                                                                                                                                                                                                                                                                                                                                                                                                                                sypnopsis  \n",
       "0  aku Ichijou, a first-year student at Bonyari High School, is the sole heir to an intimidating yakuza family. Ten years ago, Raku made a promise to his childhood friend. Now, all he has to go on is a pendant with a lock, which can only be unlocked with the key which the girl took with her when they parted. Now, years later, Raku has grown into a typical teenager, and all he wants is to remain as uninvolved in his yakuza background as possible while spending his school days alongside his middle school crush Kosaki Onodera. However, when the American Bee Hive Gang invades his family's turf, Raku's idyllic romantic dreams are sent for a toss as he is dragged into a frustrating conflict: Raku is to pretend that he is in a romantic relationship with Chitoge Kirisaki, the beautiful daughter of the Bee Hive's chief, so as to reduce the friction between the two groups. Unfortunately, reality could not be farther from this whopping lie—Raku and Chitoge fall in hate at first sight, as the girl is convinced he is a pathetic pushover, and in Raku's eyes, Chitoge is about as attractive as a savage gorilla. Nisekoi follows the daily antics of this mismatched couple who have been forced to get along for the sake of maintaining the city's peace. With many more girls popping up his life, all involved with Raku's past somehow, his search for the girl who holds his heart and his promise leads him in more unexpected directions than he expects.  \n",
       "1                                                                                                                                                                                                                                                                                                                                                                                                                                                                                                                                                                                                                                                                                                                                                                                Onto their third serialization, manga duo Moritaka Mashiro and Akito Takagi—also known by their pen name, Muto Ashirogi—are ever closer to their dream of an anime adaption. However, the real challenge is only just beginning: if they are unable to compete with the artist Eiji Niizuma in the rankings within the span of six months, they will be canceled. To top it off, numerous rivals are close behind and declaring war. They don't even have enough time to spare thinking about an anime! In Bakuman. 3rd Season , Muto Ashirogi must find a way to stay atop the colossal mountain known as the Shounen Jack rankings. With new problems and new assistants, the pair continue to strive for their dream.  \n",
       "2                                                                                                                                                                                                                                    \"A believing heart is your magic!\"—these were the words that Atsuko \"Akko\" Kagari's idol, the renowned witch Shiny Chariot, said to her during a magic performance years ago. Since then, Akko has lived by these words and aspired to be a witch just like Shiny Chariot, one that can make people smile. Hence, even her non-magical background does not stop her from enrolling in Luna Nova Magical Academy. However, when an excited Akko finally sets off to her new school, the trip there is anything but smooth. After her perilous journey, she befriends the shy Lotte Yansson and the sarcastic Sucy Manbavaran. To her utmost delight, she also discovers Chariot's wand, the Shiny Rod, which she takes as her own. Unfortunately, her time at Luna Nova will prove to more challenging than Akko could ever believe. She absolutely refuses to stay inferior to the rest of her peers, especially to her self-proclaimed rival, the beautiful and gifted Diana Cavendish, so she relies on her determination to compensate for her reckless behavior and ineptitude in magic. In a time when wizardry is on the decline, Little Witch Academia follows the magical escapades of Akko and her friends as they learn the true meaning of being a witch.  \n",
       "3                                                                                                                                                                                                                                                                                                                                                                                                                                                                                                                                                                                                                                                                     High school student Sakura Mamiya and impoverished death god Rinne Rokudou continue to confront the supernatural. Pulled into the problems of their quirky acquaintances, the pair again find themselves immersed in trouble. Ageha's black cat Oboro seeks revenge for alleged mistreatment and demands Ageha to nullify their contract. When she refuses to do so, a bitter quarrel breaks out between them. Meanwhile, the scheming Damashigami Company shows no sign of halting its wrongdoings, and the bat-like demon Masato continues to commit devious acts to pursue his long-awaited revenge on Rinne. For Sakura and Rinne, these paranormal complications never seem to end. As their saga continues to unfold, they must cope with these unusual circumstances as they appear, all while facing problems of their own.  \n",
       "4                                                                                                                                                                                                                                                                                                                                                                                                                                                                                                                                                                                                                                                                                                                                                                                                                                                                                                                                                                                                                                                                                                                                                                                                                             Yuu Haruna just moved into town and loves to use Twitter. Out on his way to buy dinner, he bumps into a mysterious girl, Fuuka Akitsuki, who breaks his phone thinking he was trying to take a picture of her panties. How will his new life change now? (Source: MAL News)  \n",
       "5                                                                                                                                                                                                            hile most fifteen-year-old boys, in one way or another, harbor secrets that are related to girls, Takashi Natsume has a peculiar and terrifying secret involving youkai: for as long as he can remember, he has been constantly chased by these spirits. Natsume soon discovers that his deceased grandmother Reiko had passed on to him the Yuujinchou, or \"Book of Friends,\" which contains the names of the spirits whom she brought under her control. Now in Natsume's possession, the book gives Reiko's grandson this power as well, which is why these enraged beings now haunt him in hopes of somehow attaining their freedom. Without parents and a loving home, and constantly being hunted by hostile, merciless youkai, Natsume is looking for solace—a place where he belongs. However, his only companion is a self-proclaimed bodyguard named Madara. Fondly referred to as Nyanko-sensei, Madara is a mysterious, pint-sized feline spirit who has his own reasons for sticking with the boy. Based on the critically acclaimed manga by Yuki Midorikawa, Natsume Yuujinchou is an unconventional and supernatural slice-of-life series that follows Natsume as he, with his infamous protector Madara, endeavors to free the spirits bound by his grandmother's contract.  \n",
       "6                                                                                                                                                                                                                                                                                                                                                                                                                                                                                                                                                                                                                                            Nijiiro Days follows the colorful lives and romantic relationships of four high school boys—Natsuki Hashiba, a dreamer with delusions of love; Tomoya Matsunaga, a narcissistic playboy who has multiple girlfriends; Keiichi Katakura, a kinky sadist who always carries a whip; and Tsuyoshi Naoe, an otaku who has a cosplaying girlfriend. When his girlfriend unceremoniously dumps him on Christmas Eve, Natsuki breaks down in tears in the middle of the street and is offered tissues by a girl in a Santa Claus suit. He instantly falls in love with this girl, Anna Kobayakawa, who fortunately attends the same school as him. Natsuki's pursuit of Anna should have been simple and uneventful; however, much to his dismay, his nosy friends constantly meddle in his relationship, as they strive to succeed in their own endeavors of love.  \n",
       "7                                                                                                                                                                                                                                                                           Chihaya Ayase, a strong-willed and tomboyish girl, grows up under the shadow of her older sister. With no dreams of her own, she is contented with her share in life till she meets Arata Wataya. The quiet transfer student in her elementary class introduces her to competitive karuta, a physically and mentally demanding card game inspired by the classic Japanese anthology of Hundred Poets. Captivated by Arata's passion for the game and inspired by the possibility of becoming the best in Japan, Chihaya quickly falls in love with the world of karuta. Along with the prodigy Arata and her haughty but hard-working friend Taichi Mashima, she joins the local Shiranami Society. The trio spends their idyllic childhood days playing together, until circumstances split them up. Now in high school, Chihaya has grown into a karuta freak. She aims to establish the Municipal Mizusawa High Competitive Karuta Club, setting her sights on the national championship at Omi Jingu. Reunited with the now indifferent Taichi, Chihaya's dream of establishing a karuta team is only one step away from becoming true: she must bring together members with a passion for the game that matches her own.  \n",
       "8                                                                                                                                                                                                                                                                                                                             Nana Komatsu is a helpless, naïve 20-year-old who easily falls in love and becomes dependent and clingy to those around her. Even though she nurses ambitious dreams of removing herself from her provincial roots and finding her true calling, she ends up traveling to Tokyo with the humble reason of chasing her current boyfriend Shouji Endo. Nana Osaki, on the other hand, is a proud, enigmatic punk rock vocalist from a similarly rural background, who nurtures the desire to become a professional singer. Putting her career with a fairly popular band (and her passionate romance with one of its former members) firmly behind her, she boards the same train to Tokyo as Nana Komatsu. Through a fateful encounter in their journey toward the metropolis, the young women with the same given name are brought together, sparking a chain of events which eventually result in them sharing an apartment. As their friendship deepens, the two attempt to support each other through thick and thin, their deeply intertwined lives filled with romance, music, challenges, and heartbreaks that will ultimately test their seemingly unbreakable bond.  \n",
       "9                                                                                                                                                                                                                                                                                                                                                                                                                                                                                                                                                                                                                              Hikari Hanazono has always been able to do things that normal people cannot. As a child, she assumed no one could beat her—until she met Kei Takishima. Thinking she would win, Hikari challenged him to a match. But things didn’t go as planned; she lost not once but each time she rechallenged him. From that point on, she has sworn to best Kei at everything, ranging from academics to athletics. To achieve her goal, Hikari enrolls in the same school as Kei—Hakusenkan, a prestigious institute for the wealthy. As a pair, they hold the top two rankings in school and are among seven of the academy's best students in a class known as Special A. While Hikari treats Kei as a rival, she is completely oblivious that he harbors hidden feelings for her. Together, the members of Special A deal with competition, friendship, and just a bit of love.  "
      ]
     },
     "execution_count": 34,
     "metadata": {},
     "output_type": "execute_result"
    }
   ],
   "source": [
    "recommended_animes = get_recommended_animes(similar_users, n=10)\n",
    "getFavGenre(recommended_animes, plot=True)\n",
    "\n",
    "print('\\n> Top recommendations for user: {}'.format(random_user))\n",
    "recommended_animes"
   ]
  },
  {
   "cell_type": "markdown",
   "id": "b854d95a",
   "metadata": {
    "papermill": {
     "duration": 0.22636,
     "end_time": "2023-05-17T06:56:28.647592",
     "exception": false,
     "start_time": "2023-05-17T06:56:28.421232",
     "status": "completed"
    },
    "tags": []
   },
   "source": [
    "## **Ranking based Recommendation**"
   ]
  },
  {
   "cell_type": "code",
   "execution_count": 35,
   "id": "7d44f17d",
   "metadata": {
    "execution": {
     "iopub.execute_input": "2023-05-17T06:56:29.125671Z",
     "iopub.status.busy": "2023-05-17T06:56:29.125297Z",
     "iopub.status.idle": "2023-05-17T06:56:35.460511Z",
     "shell.execute_reply": "2023-05-17T06:56:35.458797Z"
    },
    "papermill": {
     "duration": 6.582143,
     "end_time": "2023-05-17T06:56:35.462773",
     "exception": false,
     "start_time": "2023-05-17T06:56:28.880630",
     "status": "completed"
    },
    "tags": []
   },
   "outputs": [
    {
     "name": "stdout",
     "output_type": "stream",
     "text": [
      "Showing recommendations for user: 352464\n",
      "===========================================================================\n",
      "535/535 [==============================] - 6s 9ms/step\n",
      "---------------------------------------------------------------------------\n",
      "> Top 10 anime recommendations\n",
      "---------------------------------------------------------------------------\n"
     ]
    },
    {
     "data": {
      "text/html": [
       "<div>\n",
       "<style scoped>\n",
       "    .dataframe tbody tr th:only-of-type {\n",
       "        vertical-align: middle;\n",
       "    }\n",
       "\n",
       "    .dataframe tbody tr th {\n",
       "        vertical-align: top;\n",
       "    }\n",
       "\n",
       "    .dataframe thead th {\n",
       "        text-align: right;\n",
       "    }\n",
       "</style>\n",
       "<table border=\"1\" class=\"dataframe\">\n",
       "  <thead>\n",
       "    <tr style=\"text-align: right;\">\n",
       "      <th></th>\n",
       "      <th>name</th>\n",
       "      <th>pred_rating</th>\n",
       "      <th>genre</th>\n",
       "      <th>sypnopsis</th>\n",
       "    </tr>\n",
       "  </thead>\n",
       "  <tbody>\n",
       "    <tr>\n",
       "      <th>3</th>\n",
       "      <td>Zhandou Wang Zhi Jufeng Zhan Hun 5</td>\n",
       "      <td>0.627876</td>\n",
       "      <td>Action, Kids</td>\n",
       "      <td>No synopsis information has been added to this title. Help improve our database by adding a synopsis here .</td>\n",
       "    </tr>\n",
       "    <tr>\n",
       "      <th>4</th>\n",
       "      <td>SD GUNDAM WORLD HEROES</td>\n",
       "      <td>0.560090</td>\n",
       "      <td>NaN</td>\n",
       "      <td>The balance of the worlds is maintained by heroes. Suddenly, a red-hot meteor falls upon one of these worlds, called Neo World. An amnesiac youth named Wukong Impulse Gundam appears at the point where it landed. The chaos that starts with this incident spreads through the other worlds, one after another. At the same time, Zhuge Liang Freedom Gundam learns via astrology of an impending disaster. He and his sworn friend Liu Bei Unicorn Gundam take action to save the worlds from this crisis, and begin a journey along with Wukong. What will Wukong Impulse Gundam think as he meets the heroes of each world? Will this youth bring about peace or catastrophe? Now begins a new story of heroes! (Source: Official Site)</td>\n",
       "    </tr>\n",
       "    <tr>\n",
       "      <th>7</th>\n",
       "      <td>D_Cide Traumerei</td>\n",
       "      <td>0.538607</td>\n",
       "      <td>Action, Adventure, Drama, Magic, Fantasy</td>\n",
       "      <td>The stage is Shibuya. When Ryuuhei Oda was in elementary school, he admired his kind older brother. Ryuuhei, who witnessed the mysterious death of his brother, is now a cheerful high schooler who doesn't let the lurking nightmare surrounding faze him. One day, while kickboxing, he's bitten by a mysterious creature named Tris and has an unusual dream. He confronts his twisted desires as rumored \"Drops\" fly through the streets. What does he see beyond that? (Source: MAL News)</td>\n",
       "    </tr>\n",
       "    <tr>\n",
       "      <th>5</th>\n",
       "      <td>Ni Zhenshi Ge Tiancai</td>\n",
       "      <td>0.514653</td>\n",
       "      <td>Comedy, Fantasy</td>\n",
       "      <td>No synopsis information has been added to this title. Help improve our database by adding a synopsis here .</td>\n",
       "    </tr>\n",
       "    <tr>\n",
       "      <th>0</th>\n",
       "      <td>Deep Love</td>\n",
       "      <td>0.512622</td>\n",
       "      <td>Drama, Shoujo</td>\n",
       "      <td>Based on a cell phone novel series written by Yoshi. Ayu is a 17-year-old high school student and a prostitute. She has a heinous view of the world, and believes that money is the only important thing. She lives with her boyfriend Kenji, who is a drug-user, and spends her school days with her one and only friend, Reina. One day, a new encounter changes Ayu's life, and she is finally able to find love. (Source: MAL News)</td>\n",
       "    </tr>\n",
       "    <tr>\n",
       "      <th>9</th>\n",
       "      <td>Konglong Baobei Zhi Longshen Yongshi 2</td>\n",
       "      <td>0.499452</td>\n",
       "      <td>Action, Sci-Fi, Adventure, Comedy, Kids</td>\n",
       "      <td>Second season of Konglong Baobei Zhi Longshen Yongshi .</td>\n",
       "    </tr>\n",
       "    <tr>\n",
       "      <th>8</th>\n",
       "      <td>Scarlet Nexus</td>\n",
       "      <td>0.486253</td>\n",
       "      <td>Action, Fantasy</td>\n",
       "      <td>Solar calendar year 2020: grotesque organisms called Others have begun eating people. To take down this new enemy, the Other Suppression Force is formed. Saved by this elite team as a child, psychokinetic Yuito withstands the training to enlist. On the other hand, prodigy Kasane was scouted for her abilities. But Kasane's dreams tell her strange things, dragging the two into an unavoidable fate. (Source: Official Site)</td>\n",
       "    </tr>\n",
       "    <tr>\n",
       "      <th>6</th>\n",
       "      <td>Tian Yi Que</td>\n",
       "      <td>0.486046</td>\n",
       "      <td>Action, Fantasy</td>\n",
       "      <td>No synopsis information has been added to this title. Help improve our database by adding a synopsis here .</td>\n",
       "    </tr>\n",
       "    <tr>\n",
       "      <th>2</th>\n",
       "      <td>Jintian Kaishi Zuo Mingxing 2nd Season</td>\n",
       "      <td>0.482747</td>\n",
       "      <td>Music, Slice of Life, Comedy</td>\n",
       "      <td>No synopsis information has been added to this title. Help improve our database by adding a synopsis here .</td>\n",
       "    </tr>\n",
       "    <tr>\n",
       "      <th>1</th>\n",
       "      <td>Starly Girls: Episode Starsia</td>\n",
       "      <td>0.477901</td>\n",
       "      <td>Space, Mecha</td>\n",
       "      <td>No synopsis information has been added to this title. Help improve our database by adding a synopsis here .</td>\n",
       "    </tr>\n",
       "  </tbody>\n",
       "</table>\n",
       "</div>"
      ],
      "text/plain": [
       "                                     name  pred_rating  \\\n",
       "3      Zhandou Wang Zhi Jufeng Zhan Hun 5     0.627876   \n",
       "4                  SD GUNDAM WORLD HEROES     0.560090   \n",
       "7                        D_Cide Traumerei     0.538607   \n",
       "5                   Ni Zhenshi Ge Tiancai     0.514653   \n",
       "0                               Deep Love     0.512622   \n",
       "9  Konglong Baobei Zhi Longshen Yongshi 2     0.499452   \n",
       "8                           Scarlet Nexus     0.486253   \n",
       "6                             Tian Yi Que     0.486046   \n",
       "2  Jintian Kaishi Zuo Mingxing 2nd Season     0.482747   \n",
       "1           Starly Girls: Episode Starsia     0.477901   \n",
       "\n",
       "                                      genre  \\\n",
       "3                              Action, Kids   \n",
       "4                                       NaN   \n",
       "7  Action, Adventure, Drama, Magic, Fantasy   \n",
       "5                           Comedy, Fantasy   \n",
       "0                             Drama, Shoujo   \n",
       "9   Action, Sci-Fi, Adventure, Comedy, Kids   \n",
       "8                           Action, Fantasy   \n",
       "6                           Action, Fantasy   \n",
       "2              Music, Slice of Life, Comedy   \n",
       "1                              Space, Mecha   \n",
       "\n",
       "                                                                                                                                                                                                                                                                                                                                                                                                                                                                                                                                                                                                                                                                                                                                      sypnopsis  \n",
       "3                                                                                                                                                                                                                                                                                                                                                                                                                                                                                                                                                                                                                                   No synopsis information has been added to this title. Help improve our database by adding a synopsis here .  \n",
       "4  The balance of the worlds is maintained by heroes. Suddenly, a red-hot meteor falls upon one of these worlds, called Neo World. An amnesiac youth named Wukong Impulse Gundam appears at the point where it landed. The chaos that starts with this incident spreads through the other worlds, one after another. At the same time, Zhuge Liang Freedom Gundam learns via astrology of an impending disaster. He and his sworn friend Liu Bei Unicorn Gundam take action to save the worlds from this crisis, and begin a journey along with Wukong. What will Wukong Impulse Gundam think as he meets the heroes of each world? Will this youth bring about peace or catastrophe? Now begins a new story of heroes! (Source: Official Site)  \n",
       "7                                                                                                                                                                                                                                                The stage is Shibuya. When Ryuuhei Oda was in elementary school, he admired his kind older brother. Ryuuhei, who witnessed the mysterious death of his brother, is now a cheerful high schooler who doesn't let the lurking nightmare surrounding faze him. One day, while kickboxing, he's bitten by a mysterious creature named Tris and has an unusual dream. He confronts his twisted desires as rumored \"Drops\" fly through the streets. What does he see beyond that? (Source: MAL News)  \n",
       "5                                                                                                                                                                                                                                                                                                                                                                                                                                                                                                                                                                                                                                   No synopsis information has been added to this title. Help improve our database by adding a synopsis here .  \n",
       "0                                                                                                                                                                                                                                                                                                       Based on a cell phone novel series written by Yoshi. Ayu is a 17-year-old high school student and a prostitute. She has a heinous view of the world, and believes that money is the only important thing. She lives with her boyfriend Kenji, who is a drug-user, and spends her school days with her one and only friend, Reina. One day, a new encounter changes Ayu's life, and she is finally able to find love. (Source: MAL News)  \n",
       "9                                                                                                                                                                                                                                                                                                                                                                                                                                                                                                                                                                                                                                                                                       Second season of Konglong Baobei Zhi Longshen Yongshi .  \n",
       "8                                                                                                                                                                                                                                                                                                        Solar calendar year 2020: grotesque organisms called Others have begun eating people. To take down this new enemy, the Other Suppression Force is formed. Saved by this elite team as a child, psychokinetic Yuito withstands the training to enlist. On the other hand, prodigy Kasane was scouted for her abilities. But Kasane's dreams tell her strange things, dragging the two into an unavoidable fate. (Source: Official Site)  \n",
       "6                                                                                                                                                                                                                                                                                                                                                                                                                                                                                                                                                                                                                                   No synopsis information has been added to this title. Help improve our database by adding a synopsis here .  \n",
       "2                                                                                                                                                                                                                                                                                                                                                                                                                                                                                                                                                                                                                                   No synopsis information has been added to this title. Help improve our database by adding a synopsis here .  \n",
       "1                                                                                                                                                                                                                                                                                                                                                                                                                                                                                                                                                                                                                                   No synopsis information has been added to this title. Help improve our database by adding a synopsis here .  "
      ]
     },
     "execution_count": 35,
     "metadata": {},
     "output_type": "execute_result"
    }
   ],
   "source": [
    "print(\"Showing recommendations for user: {}\".format(random_user))\n",
    "print(\"===\" * 25)\n",
    "\n",
    "animes_watched_by_user = rating_df[rating_df.user_id==random_user]\n",
    "anime_not_watched_df = df[\n",
    "    ~df[\"anime_id\"].isin(animes_watched_by_user.anime_id.values)\n",
    "]\n",
    "\n",
    "anime_not_watched = list(\n",
    "    set(anime_not_watched_df['anime_id']).intersection(set(anime2anime_encoded.keys()))\n",
    ")\n",
    "\n",
    "anime_not_watched = [[anime2anime_encoded.get(x)] for x in anime_not_watched]\n",
    "\n",
    "user_encoder = user2user_encoded.get(random_user)\n",
    "\n",
    "user_anime_array = np.hstack(\n",
    "    ([[user_encoder]] * len(anime_not_watched), anime_not_watched)\n",
    ")\n",
    "\n",
    "user_anime_array = [user_anime_array[:, 0], user_anime_array[:, 1]]\n",
    "ratings = model.predict(user_anime_array).flatten()\n",
    "\n",
    "top_ratings_indices = (-ratings).argsort()[:10]\n",
    "\n",
    "recommended_anime_ids = [\n",
    "    anime_encoded2anime.get(anime_not_watched[x][0]) for x in top_ratings_indices\n",
    "]\n",
    "\n",
    "Results = []\n",
    "top_rated_ids = []\n",
    "\n",
    "for index, anime_id in enumerate(anime_not_watched):\n",
    "    rating = ratings[index]\n",
    "    id_ = anime_encoded2anime.get(anime_id[0])\n",
    "    \n",
    "    if id_ in recommended_anime_ids:\n",
    "        top_rated_ids.append(id_)\n",
    "        try:\n",
    "            condition = (df.anime_id == id_)\n",
    "            name = df[condition]['eng_version'].values[0]\n",
    "            genre = df[condition].Genres.values[0]\n",
    "            score = df[condition].Score.values[0]\n",
    "            sypnopsis = getSypnopsis(int(id_))\n",
    "        except:\n",
    "            continue\n",
    "            \n",
    "        Results.append({#\"anime_id\": id_, \n",
    "                        \"name\": name, \n",
    "                        \"pred_rating\": rating,\n",
    "                        \"genre\": genre, \n",
    "                        'sypnopsis': sypnopsis})\n",
    "\n",
    "print(\"---\" * 25)\n",
    "print(\"> Top 10 anime recommendations\")\n",
    "print(\"---\" * 25)\n",
    "\n",
    "\n",
    "Results = pd.DataFrame(Results).sort_values(by='pred_rating', ascending=False)\n",
    "Results"
   ]
  },
  {
   "cell_type": "code",
   "execution_count": 36,
   "id": "7420eab2",
   "metadata": {
    "execution": {
     "iopub.execute_input": "2023-05-17T06:56:36.012619Z",
     "iopub.status.busy": "2023-05-17T06:56:36.012177Z",
     "iopub.status.idle": "2023-05-17T06:56:36.493421Z",
     "shell.execute_reply": "2023-05-17T06:56:36.491777Z"
    },
    "papermill": {
     "duration": 0.798901,
     "end_time": "2023-05-17T06:56:36.496428",
     "exception": false,
     "start_time": "2023-05-17T06:56:35.697527",
     "status": "completed"
    },
    "tags": []
   },
   "outputs": [
    {
     "data": {
      "text/html": [
       "<a href='./anime_model.h5' target='_blank'>./anime_model.h5</a><br>"
      ],
      "text/plain": [
       "/kaggle/working/anime_model.h5"
      ]
     },
     "execution_count": 36,
     "metadata": {},
     "output_type": "execute_result"
    }
   ],
   "source": [
    "model.save('anime_model.h5')\n",
    "\n",
    "from IPython.display import FileLink\n",
    "FileLink(r'./anime_model.h5')"
   ]
  },
  {
   "cell_type": "code",
   "execution_count": null,
   "id": "d4998b64",
   "metadata": {
    "papermill": {
     "duration": 0.23544,
     "end_time": "2023-05-17T06:56:36.971036",
     "exception": false,
     "start_time": "2023-05-17T06:56:36.735596",
     "status": "completed"
    },
    "tags": []
   },
   "outputs": [],
   "source": []
  },
  {
   "cell_type": "code",
   "execution_count": null,
   "id": "e7e0a317",
   "metadata": {
    "papermill": {
     "duration": 0.231753,
     "end_time": "2023-05-17T06:56:37.438000",
     "exception": false,
     "start_time": "2023-05-17T06:56:37.206247",
     "status": "completed"
    },
    "tags": []
   },
   "outputs": [],
   "source": []
  },
  {
   "cell_type": "code",
   "execution_count": null,
   "id": "5ca46309",
   "metadata": {
    "papermill": {
     "duration": 0.232329,
     "end_time": "2023-05-17T06:56:37.902968",
     "exception": false,
     "start_time": "2023-05-17T06:56:37.670639",
     "status": "completed"
    },
    "tags": []
   },
   "outputs": [],
   "source": []
  }
 ],
 "metadata": {
  "kernelspec": {
   "display_name": "Python 3 (ipykernel)",
   "language": "python",
   "name": "python3"
  },
  "language_info": {
   "codemirror_mode": {
    "name": "ipython",
    "version": 3
   },
   "file_extension": ".py",
   "mimetype": "text/x-python",
   "name": "python",
   "nbconvert_exporter": "python",
   "pygments_lexer": "ipython3",
   "version": "3.11.3"
  },
  "papermill": {
   "default_parameters": {},
   "duration": 493.478292,
   "end_time": "2023-05-17T06:56:40.777263",
   "environment_variables": {},
   "exception": null,
   "input_path": "__notebook__.ipynb",
   "output_path": "__notebook__.ipynb",
   "parameters": {},
   "start_time": "2023-05-17T06:48:27.298971",
   "version": "2.4.0"
  }
 },
 "nbformat": 4,
 "nbformat_minor": 5
}
